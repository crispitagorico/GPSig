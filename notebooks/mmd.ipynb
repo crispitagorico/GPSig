{
 "cells": [
  {
   "cell_type": "code",
   "execution_count": 2,
   "metadata": {},
   "outputs": [],
   "source": [
    "import numpy as np\n",
    "\n",
    "import os\n",
    "os.environ['CUDA_VISIBLE_DEVICES'] = '3'\n",
    "\n",
    "import sys\n",
    "sys.path.append('..') # add to path parent dir of gpsig\n",
    "\n",
    "import tensorflow as tf\n",
    "\n",
    "gpus = tf.config.list_physical_devices('GPU')\n",
    "tf.config.experimental.set_memory_growth(gpus[0], True)\n",
    "\n",
    "import gpflow\n",
    "import gpsig\n",
    "\n",
    "from sklearn.model_selection import ParameterGrid\n",
    "\n",
    "from mmd_utils import *"
   ]
  },
  {
   "cell_type": "markdown",
   "metadata": {},
   "source": [
    "### Noise vs noise (same distribution)"
   ]
  },
  {
   "cell_type": "code",
   "execution_count": 3,
   "metadata": {},
   "outputs": [],
   "source": [
    "num_data1 = 1000\n",
    "num_data2 = 2000\n",
    "num_features = 2\n",
    "min_len = 10\n",
    "max_len = 100\n",
    "\n",
    "# variable length\n",
    "X_0 = [np.random.randn(np.random.randint(min_len, max_len), num_features) for i in range(num_data1)]\n",
    "X_1 = [np.random.randn(np.random.randint(min_len, max_len), num_features) for i in range(num_data2)]"
   ]
  },
  {
   "cell_type": "markdown",
   "metadata": {},
   "source": [
    "#### Kernels for vector-valued data"
   ]
  },
  {
   "cell_type": "code",
   "execution_count": 4,
   "metadata": {},
   "outputs": [
    {
     "name": "stdout",
     "output_type": "stream",
     "text": [
      "Kernel: Linear\n",
      "------------------\n"
     ]
    },
    {
     "data": {
      "application/vnd.jupyter.widget-view+json": {
       "model_id": "20a2d49bccbe47cc87f9424c314766f3",
       "version_major": 2,
       "version_minor": 0
      },
      "text/plain": [
       "HBox(children=(IntProgress(value=0, max=2), HTML(value='')))"
      ]
     },
     "metadata": {},
     "output_type": "display_data"
    },
    {
     "name": "stdout",
     "output_type": "stream",
     "text": [
      "\n",
      "Time elapsed: 1.76\n",
      "Time per iteration: 0.88\n",
      "Number of combinations: 2\n",
      "Found parameters: {'tabulation': 'interp'}\n",
      "MMD: 3.069e-04\n",
      "------------------\n",
      "\n",
      "Kernel: RBF\n",
      "------------------\n"
     ]
    },
    {
     "data": {
      "application/vnd.jupyter.widget-view+json": {
       "model_id": "9164c2f6096c41cc8e6b1414028d780d",
       "version_major": 2,
       "version_minor": 0
      },
      "text/plain": [
       "HBox(children=(IntProgress(value=0, max=22), HTML(value='')))"
      ]
     },
     "metadata": {},
     "output_type": "display_data"
    },
    {
     "name": "stdout",
     "output_type": "stream",
     "text": [
      "\n",
      "Time elapsed: 16.06\n",
      "Time per iteration: 0.73\n",
      "Number of combinations: 22\n",
      "Found parameters: {'lengthscales': 10.0, 'tabulation': 'interp'}\n",
      "MMD: 1.783e-04\n",
      "------------------\n",
      "\n",
      "Kernel: MA12\n",
      "------------------\n"
     ]
    },
    {
     "data": {
      "application/vnd.jupyter.widget-view+json": {
       "model_id": "6743405283314527addf1c99697021ba",
       "version_major": 2,
       "version_minor": 0
      },
      "text/plain": [
       "HBox(children=(IntProgress(value=0, max=22), HTML(value='')))"
      ]
     },
     "metadata": {},
     "output_type": "display_data"
    },
    {
     "name": "stdout",
     "output_type": "stream",
     "text": [
      "\n",
      "Time elapsed: 16.07\n",
      "Time per iteration: 0.73\n",
      "Number of combinations: 22\n",
      "Found parameters: {'lengthscales': 10.0, 'tabulation': 'interp'}\n",
      "MMD: 8.139e-05\n",
      "------------------\n",
      "\n",
      "Kernel: MA32\n",
      "------------------\n"
     ]
    },
    {
     "data": {
      "application/vnd.jupyter.widget-view+json": {
       "model_id": "6691d3b6e2fb4243917e51c1ec9e102c",
       "version_major": 2,
       "version_minor": 0
      },
      "text/plain": [
       "HBox(children=(IntProgress(value=0, max=22), HTML(value='')))"
      ]
     },
     "metadata": {},
     "output_type": "display_data"
    },
    {
     "name": "stdout",
     "output_type": "stream",
     "text": [
      "\n",
      "Time elapsed: 16.01\n",
      "Time per iteration: 0.73\n",
      "Number of combinations: 22\n",
      "Found parameters: {'lengthscales': 10.0, 'tabulation': 'interp'}\n",
      "MMD: 1.206e-04\n",
      "------------------\n",
      "\n",
      "Kernel: MA52\n",
      "------------------\n"
     ]
    },
    {
     "data": {
      "application/vnd.jupyter.widget-view+json": {
       "model_id": "41a8cffdff014976b1a92d1903c43f9d",
       "version_major": 2,
       "version_minor": 0
      },
      "text/plain": [
       "HBox(children=(IntProgress(value=0, max=22), HTML(value='')))"
      ]
     },
     "metadata": {},
     "output_type": "display_data"
    },
    {
     "name": "stdout",
     "output_type": "stream",
     "text": [
      "\n",
      "Time elapsed: 16.43\n",
      "Time per iteration: 0.75\n",
      "Number of combinations: 22\n",
      "Found parameters: {'lengthscales': 10.0, 'tabulation': 'interp'}\n",
      "MMD: 1.368e-04\n",
      "------------------\n",
      "\n"
     ]
    }
   ],
   "source": [
    "# Linear kernel from gpflow.kernels\n",
    "params_grid = ParameterGrid({'tabulation' : ['interp', 'pad']})\n",
    "d_lin = mmd_with_gpflow_kernel(gpflow.kernels.Linear, X_0, X_1, params_grid, name='Linear')\n",
    "\n",
    "# RBF kernel from gpflow.kernels\n",
    "params_grid = ParameterGrid({'lengthscales' : np.logspace(-5, 5, 11), 'tabulation' : ['interp', 'pad']})\n",
    "d_rbf = mmd_with_gpflow_kernel(gpflow.kernels.RBF, X_0, X_1, params_grid, name='RBF')\n",
    "\n",
    "# MA12 kernel from gpflow.kernels\n",
    "params_grid = ParameterGrid({'lengthscales' : np.logspace(-5, 5, 11), 'tabulation' : ['interp', 'pad']})\n",
    "d_ma12 = mmd_with_gpflow_kernel(gpflow.kernels.Matern12, X_0, X_1, params_grid, name='MA12')\n",
    "\n",
    "# MA32 kernel from gpflow.kernels\n",
    "params_grid = ParameterGrid({'lengthscales' : np.logspace(-5, 5, 11), 'tabulation' : ['interp', 'pad']})\n",
    "d_ma32 = mmd_with_gpflow_kernel(gpflow.kernels.Matern32, X_0, X_1, params_grid, name='MA32')\n",
    "\n",
    "# MA52 kernel from gpflow.kernels\n",
    "params_grid = ParameterGrid({'lengthscales' : np.logspace(-5, 5, 11), 'tabulation' : ['interp', 'pad']})\n",
    "d_ma52 = mmd_with_gpflow_kernel(gpflow.kernels.Matern52, X_0, X_1, params_grid, name='MA52')"
   ]
  },
  {
   "cell_type": "markdown",
   "metadata": {},
   "source": [
    "#### Signature kernels"
   ]
  },
  {
   "cell_type": "code",
   "execution_count": 5,
   "metadata": {},
   "outputs": [
    {
     "name": "stdout",
     "output_type": "stream",
     "text": [
      "Kernel: LR-Sig-Lin\n",
      "------------------\n"
     ]
    },
    {
     "data": {
      "application/vnd.jupyter.widget-view+json": {
       "model_id": "50bdcebe5f924a91a17473f2a38467cc",
       "version_major": 2,
       "version_minor": 0
      },
      "text/plain": [
       "HBox(children=(IntProgress(value=0, max=16), HTML(value='')))"
      ]
     },
     "metadata": {},
     "output_type": "display_data"
    },
    {
     "name": "stdout",
     "output_type": "stream",
     "text": [
      "\n",
      "Time elapsed: 24.13\n",
      "Time per iteration: 1.51\n",
      "Number of combinations: 16\n",
      "Found parameters: {'add_time': True, 'num_lags': 0, 'num_levels': 2}\n",
      "MMD: -5.460e-05\n",
      "------------------\n",
      "\n",
      "Kernel: LR-Sig-RBF\n",
      "------------------\n"
     ]
    },
    {
     "data": {
      "application/vnd.jupyter.widget-view+json": {
       "model_id": "246e4977d7b149b9ac7ae06edfa8149f",
       "version_major": 2,
       "version_minor": 0
      },
      "text/plain": [
       "HBox(children=(IntProgress(value=0, max=88), HTML(value='')))"
      ]
     },
     "metadata": {},
     "output_type": "display_data"
    },
    {
     "name": "stdout",
     "output_type": "stream",
     "text": [
      "\n",
      "Time elapsed: 131.75\n",
      "Time per iteration: 1.50\n",
      "Number of combinations: 88\n",
      "Found parameters: {'add_time': False, 'lengthscales': 0.1, 'num_levels': 3}\n",
      "MMD: 1.816e-04\n",
      "------------------\n",
      "\n",
      "Kernel: LR-Sig-MA12\n",
      "------------------\n"
     ]
    },
    {
     "data": {
      "application/vnd.jupyter.widget-view+json": {
       "model_id": "b0dfe02485c348b7af8bbfe258d287f7",
       "version_major": 2,
       "version_minor": 0
      },
      "text/plain": [
       "HBox(children=(IntProgress(value=0, max=88), HTML(value='')))"
      ]
     },
     "metadata": {},
     "output_type": "display_data"
    },
    {
     "name": "stdout",
     "output_type": "stream",
     "text": [
      "\n",
      "Time elapsed: 130.86\n",
      "Time per iteration: 1.49\n",
      "Number of combinations: 88\n",
      "Found parameters: {'add_time': False, 'lengthscales': 0.01, 'num_levels': 2}\n",
      "MMD: 2.550e-04\n",
      "------------------\n",
      "\n",
      "Kernel: LR-Sig-MA32\n",
      "------------------\n"
     ]
    },
    {
     "data": {
      "application/vnd.jupyter.widget-view+json": {
       "model_id": "c459a1d8b4e5408fb1f18a64aa102396",
       "version_major": 2,
       "version_minor": 0
      },
      "text/plain": [
       "HBox(children=(IntProgress(value=0, max=88), HTML(value='')))"
      ]
     },
     "metadata": {},
     "output_type": "display_data"
    },
    {
     "name": "stdout",
     "output_type": "stream",
     "text": [
      "\n",
      "Time elapsed: 128.44\n",
      "Time per iteration: 1.46\n",
      "Number of combinations: 88\n",
      "Found parameters: {'add_time': False, 'lengthscales': 0.01, 'num_levels': 5}\n",
      "MMD: 9.795e-05\n",
      "------------------\n",
      "\n",
      "Kernel: LR-Sig-MA52\n",
      "------------------\n"
     ]
    },
    {
     "data": {
      "application/vnd.jupyter.widget-view+json": {
       "model_id": "a2463ce15d0e4c918cab3cb195b2f935",
       "version_major": 2,
       "version_minor": 0
      },
      "text/plain": [
       "HBox(children=(IntProgress(value=0, max=88), HTML(value='')))"
      ]
     },
     "metadata": {},
     "output_type": "display_data"
    },
    {
     "name": "stdout",
     "output_type": "stream",
     "text": [
      "\n",
      "Time elapsed: 131.25\n",
      "Time per iteration: 1.49\n",
      "Number of combinations: 88\n",
      "Found parameters: {'add_time': False, 'lengthscales': 0.1, 'num_levels': 2}\n",
      "MMD: 1.608e-04\n",
      "------------------\n",
      "\n"
     ]
    }
   ],
   "source": [
    "# LR-Sig-Linear from gpsig.kernels\n",
    "params_grid = ParameterGrid({'num_levels' : [2, 3, 4, 5], 'add_time': [True, False], 'num_lags' : [0, 1]})\n",
    "d_lrsiglin = mmd_with_gpsig_kernel(gpsig.kernels.SignatureLinear, X_0, X_1, params_grid, low_rank=True, batch_size=100, name='LR-Sig-Lin')\n",
    "\n",
    "# LR-Sig-RBF from gpsig.kernels\n",
    "params_grid = ParameterGrid({'lengthscales' : np.logspace(-5, 5, 11), 'num_levels' : [2, 3, 4, 5], 'add_time': [True, False]})\n",
    "d_lrsigrbf = mmd_with_gpsig_kernel(gpsig.kernels.SignatureRBF, X_0, X_1, params_grid, low_rank=True, batch_size=100, name='LR-Sig-RBF')\n",
    "\n",
    "# LR-Sig-MA12 from gpsig.kernels\n",
    "params_grid = ParameterGrid({'lengthscales' : np.logspace(-5, 5, 11), 'num_levels' : [2, 3, 4, 5], 'add_time': [True, False]})\n",
    "d_lrsigma12 = mmd_with_gpsig_kernel(gpsig.kernels.SignatureMatern12, X_0, X_1, params_grid, low_rank=True, batch_size=100, name='LR-Sig-MA12')\n",
    "\n",
    "# LR-Sig-MA32 from gpsig.kernels\n",
    "params_grid = ParameterGrid({'lengthscales' : np.logspace(-5, 5, 11), 'num_levels' : [2, 3, 4, 5], 'add_time': [True, False]})\n",
    "d_lrsigma32 = mmd_with_gpsig_kernel(gpsig.kernels.SignatureMatern32, X_0, X_1, params_grid, low_rank=True, batch_size=100, name='LR-Sig-MA32')\n",
    "\n",
    "# LR-Sig-MA52 from gpsig.kernels\n",
    "params_grid = ParameterGrid({'lengthscales' : np.logspace(-5, 5, 11), 'num_levels' : [2, 3, 4, 5], 'add_time': [True, False]})\n",
    "d_lrsigma52 = mmd_with_gpsig_kernel(gpsig.kernels.SignatureMatern52, X_0, X_1, params_grid, low_rank=True, batch_size=100, name='LR-Sig-MA52')"
   ]
  },
  {
   "cell_type": "markdown",
   "metadata": {},
   "source": [
    "### Signal vs signal\n",
    "Load binary ($y \\in \\{0, 1\\}$) time series classification dataset `NetFlow` and compute $MMD_U[P(x|y=0) \\Vert P(x|y=1)]$"
   ]
  },
  {
   "cell_type": "code",
   "execution_count": 6,
   "metadata": {},
   "outputs": [],
   "source": [
    "data = load_netflow_dataset()\n",
    "\n",
    "X = list(np.squeeze(data['X_train'])) + list(np.squeeze(data['X_test']))\n",
    "Y = list(np.squeeze(data['y_train'])) + list(np.squeeze(data['y_test']))\n",
    "\n",
    "X_0 = [x for i, x in enumerate(X) if Y[i]==0] \n",
    "X_1 = [x for i, x in enumerate(X) if Y[i]==1] "
   ]
  },
  {
   "cell_type": "code",
   "execution_count": 7,
   "metadata": {},
   "outputs": [
    {
     "name": "stdout",
     "output_type": "stream",
     "text": [
      "Kernel: Linear\n",
      "------------------\n"
     ]
    },
    {
     "data": {
      "application/vnd.jupyter.widget-view+json": {
       "model_id": "4f43a5ce767c45088ff58583faadb83b",
       "version_major": 2,
       "version_minor": 0
      },
      "text/plain": [
       "HBox(children=(IntProgress(value=0, max=2), HTML(value='')))"
      ]
     },
     "metadata": {},
     "output_type": "display_data"
    },
    {
     "name": "stdout",
     "output_type": "stream",
     "text": [
      "\n",
      "Time elapsed: 1.28\n",
      "Time per iteration: 0.64\n",
      "Number of combinations: 2\n",
      "Found parameters: {'tabulation': 'interp'}\n",
      "MMD: 9.290e-03\n",
      "------------------\n",
      "\n",
      "Kernel: RBF\n",
      "------------------\n"
     ]
    },
    {
     "data": {
      "application/vnd.jupyter.widget-view+json": {
       "model_id": "4280046163d44dc2bfa5e5b02ded9fa0",
       "version_major": 2,
       "version_minor": 0
      },
      "text/plain": [
       "HBox(children=(IntProgress(value=0, max=22), HTML(value='')))"
      ]
     },
     "metadata": {},
     "output_type": "display_data"
    },
    {
     "name": "stdout",
     "output_type": "stream",
     "text": [
      "\n",
      "Time elapsed: 13.40\n",
      "Time per iteration: 0.61\n",
      "Number of combinations: 22\n",
      "Found parameters: {'lengthscales': 10.0, 'tabulation': 'interp'}\n",
      "MMD: 5.485e-03\n",
      "------------------\n",
      "\n",
      "Kernel: MA12\n",
      "------------------\n"
     ]
    },
    {
     "data": {
      "application/vnd.jupyter.widget-view+json": {
       "model_id": "fa3ea4c4dcde45e5b80844f3c51a93f4",
       "version_major": 2,
       "version_minor": 0
      },
      "text/plain": [
       "HBox(children=(IntProgress(value=0, max=22), HTML(value='')))"
      ]
     },
     "metadata": {},
     "output_type": "display_data"
    },
    {
     "name": "stdout",
     "output_type": "stream",
     "text": [
      "\n",
      "Time elapsed: 13.34\n",
      "Time per iteration: 0.61\n",
      "Number of combinations: 22\n",
      "Found parameters: {'lengthscales': 100.0, 'tabulation': 'interp'}\n",
      "MMD: 1.161e-02\n",
      "------------------\n",
      "\n",
      "Kernel: MA32\n",
      "------------------\n"
     ]
    },
    {
     "data": {
      "application/vnd.jupyter.widget-view+json": {
       "model_id": "9038e7531404409c80d4cbe5d069c7e5",
       "version_major": 2,
       "version_minor": 0
      },
      "text/plain": [
       "HBox(children=(IntProgress(value=0, max=22), HTML(value='')))"
      ]
     },
     "metadata": {},
     "output_type": "display_data"
    },
    {
     "name": "stdout",
     "output_type": "stream",
     "text": [
      "\n",
      "Time elapsed: 13.41\n",
      "Time per iteration: 0.61\n",
      "Number of combinations: 22\n",
      "Found parameters: {'lengthscales': 10.0, 'tabulation': 'interp'}\n",
      "MMD: 8.702e-03\n",
      "------------------\n",
      "\n",
      "Kernel: MA52\n",
      "------------------\n"
     ]
    },
    {
     "data": {
      "application/vnd.jupyter.widget-view+json": {
       "model_id": "8311b40e49744584a03b8c9e69aa2513",
       "version_major": 2,
       "version_minor": 0
      },
      "text/plain": [
       "HBox(children=(IntProgress(value=0, max=22), HTML(value='')))"
      ]
     },
     "metadata": {},
     "output_type": "display_data"
    },
    {
     "name": "stdout",
     "output_type": "stream",
     "text": [
      "\n",
      "Time elapsed: 13.36\n",
      "Time per iteration: 0.61\n",
      "Number of combinations: 22\n",
      "Found parameters: {'lengthscales': 10.0, 'tabulation': 'interp'}\n",
      "MMD: 7.903e-03\n",
      "------------------\n",
      "\n"
     ]
    }
   ],
   "source": [
    "# Linear kernel from gpflow.kernels\n",
    "params_grid = ParameterGrid({'tabulation' : ['interp', 'pad']})\n",
    "d_lin = mmd_with_gpflow_kernel(gpflow.kernels.Linear, X_0, X_1, params_grid, name='Linear')\n",
    "\n",
    "# RBF kernel from gpflow.kernels\n",
    "params_grid = ParameterGrid({'lengthscales' : np.logspace(-5, 5, 11), 'tabulation' : ['interp', 'pad']})\n",
    "d_rbf = mmd_with_gpflow_kernel(gpflow.kernels.RBF, X_0, X_1, params_grid, name='RBF')\n",
    "\n",
    "# MA12 kernel from gpflow.kernels\n",
    "params_grid = ParameterGrid({'lengthscales' : np.logspace(-5, 5, 11), 'tabulation' : ['interp', 'pad']})\n",
    "d_ma12 = mmd_with_gpflow_kernel(gpflow.kernels.Matern12, X_0, X_1, params_grid, name='MA12')\n",
    "\n",
    "# MA32 kernel from gpflow.kernels\n",
    "params_grid = ParameterGrid({'lengthscales' : np.logspace(-5, 5, 11), 'tabulation' : ['interp', 'pad']})\n",
    "d_ma32 = mmd_with_gpflow_kernel(gpflow.kernels.Matern32, X_0, X_1, params_grid, name='MA32')\n",
    "\n",
    "# MA52 kernel from gpflow.kernels\n",
    "params_grid = ParameterGrid({'lengthscales' : np.logspace(-5, 5, 11), 'tabulation' : ['interp', 'pad']})\n",
    "d_ma52 = mmd_with_gpflow_kernel(gpflow.kernels.Matern52, X_0, X_1, params_grid, name='MA52')"
   ]
  },
  {
   "cell_type": "markdown",
   "metadata": {},
   "source": [
    "#### Signature kernels"
   ]
  },
  {
   "cell_type": "code",
   "execution_count": 8,
   "metadata": {},
   "outputs": [
    {
     "name": "stdout",
     "output_type": "stream",
     "text": [
      "Kernel: LR-Sig-Lin\n",
      "------------------\n"
     ]
    },
    {
     "data": {
      "application/vnd.jupyter.widget-view+json": {
       "model_id": "4286e78cbe6248969a28802a9880c046",
       "version_major": 2,
       "version_minor": 0
      },
      "text/plain": [
       "HBox(children=(IntProgress(value=0, max=8), HTML(value='')))"
      ]
     },
     "metadata": {},
     "output_type": "display_data"
    },
    {
     "name": "stdout",
     "output_type": "stream",
     "text": [
      "\n",
      "Time elapsed: 12.80\n",
      "Time per iteration: 1.60\n",
      "Number of combinations: 8\n",
      "Found parameters: {'add_time': False, 'num_levels': 4}\n",
      "MMD: 2.370e-01\n",
      "------------------\n",
      "\n",
      "Kernel: LR-Sig-RBF\n",
      "------------------\n"
     ]
    },
    {
     "data": {
      "application/vnd.jupyter.widget-view+json": {
       "model_id": "b11a004cac844fac8961dd739572e1ae",
       "version_major": 2,
       "version_minor": 0
      },
      "text/plain": [
       "HBox(children=(IntProgress(value=0, max=88), HTML(value='')))"
      ]
     },
     "metadata": {},
     "output_type": "display_data"
    },
    {
     "name": "stdout",
     "output_type": "stream",
     "text": [
      "\n",
      "Time elapsed: 142.68\n",
      "Time per iteration: 1.62\n",
      "Number of combinations: 88\n",
      "Found parameters: {'add_time': False, 'lengthscales': 0.1, 'num_levels': 4}\n",
      "MMD: 7.433e-01\n",
      "------------------\n",
      "\n",
      "Kernel: LR-Sig-MA12\n",
      "------------------\n"
     ]
    },
    {
     "data": {
      "application/vnd.jupyter.widget-view+json": {
       "model_id": "713ac9cfb89a42889d89e6ed70a4f9aa",
       "version_major": 2,
       "version_minor": 0
      },
      "text/plain": [
       "HBox(children=(IntProgress(value=0, max=88), HTML(value='')))"
      ]
     },
     "metadata": {},
     "output_type": "display_data"
    },
    {
     "name": "stdout",
     "output_type": "stream",
     "text": [
      "\n",
      "Time elapsed: 143.13\n",
      "Time per iteration: 1.63\n",
      "Number of combinations: 88\n",
      "Found parameters: {'add_time': False, 'lengthscales': 1.0, 'num_levels': 3}\n",
      "MMD: 7.453e-01\n",
      "------------------\n",
      "\n",
      "Kernel: LR-Sig-MA32\n",
      "------------------\n"
     ]
    },
    {
     "data": {
      "application/vnd.jupyter.widget-view+json": {
       "model_id": "28a2307ed7a74eba932a3f1a4475d051",
       "version_major": 2,
       "version_minor": 0
      },
      "text/plain": [
       "HBox(children=(IntProgress(value=0, max=88), HTML(value='')))"
      ]
     },
     "metadata": {},
     "output_type": "display_data"
    },
    {
     "name": "stdout",
     "output_type": "stream",
     "text": [
      "\n",
      "Time elapsed: 144.08\n",
      "Time per iteration: 1.64\n",
      "Number of combinations: 88\n",
      "Found parameters: {'add_time': True, 'lengthscales': 0.1, 'num_levels': 2}\n",
      "MMD: 5.672e-01\n",
      "------------------\n",
      "\n",
      "Kernel: LR-Sig-MA52\n",
      "------------------\n"
     ]
    },
    {
     "data": {
      "application/vnd.jupyter.widget-view+json": {
       "model_id": "65e1533657de4ff9a99c197e09eea74c",
       "version_major": 2,
       "version_minor": 0
      },
      "text/plain": [
       "HBox(children=(IntProgress(value=0, max=88), HTML(value='')))"
      ]
     },
     "metadata": {},
     "output_type": "display_data"
    },
    {
     "name": "stdout",
     "output_type": "stream",
     "text": [
      "\n",
      "Time elapsed: 144.73\n",
      "Time per iteration: 1.64\n",
      "Number of combinations: 88\n",
      "Found parameters: {'add_time': False, 'lengthscales': 0.1, 'num_levels': 5}\n",
      "MMD: 6.635e-01\n",
      "------------------\n",
      "\n"
     ]
    }
   ],
   "source": [
    "# LR-Sig-Linear from gpsig.kernels\n",
    "params_grid = ParameterGrid({'num_levels' : [2, 3, 4, 5], 'add_time': [True, False]})\n",
    "d_lrsiglin = mmd_with_gpsig_kernel(gpsig.kernels.SignatureLinear, X_0, X_1, params_grid, low_rank=True, batch_size=100, name='LR-Sig-Lin')\n",
    "\n",
    "# LR-Sig-RBF from gpsig.kernels\n",
    "params_grid = ParameterGrid({'lengthscales' : np.logspace(-5, 5, 11), 'num_levels' : [2, 3, 4, 5], 'add_time': [True, False]})\n",
    "d_lrsigrbf = mmd_with_gpsig_kernel(gpsig.kernels.SignatureRBF, X_0, X_1, params_grid, low_rank=True, batch_size=100, name='LR-Sig-RBF')\n",
    "\n",
    "# LR-Sig-MA12 from gpsig.kernels\n",
    "params_grid = ParameterGrid({'lengthscales' : np.logspace(-5, 5, 11), 'num_levels' : [2, 3, 4, 5], 'add_time': [True, False]})\n",
    "d_lrsigma12 = mmd_with_gpsig_kernel(gpsig.kernels.SignatureMatern12, X_0, X_1, params_grid, low_rank=True, batch_size=100, name='LR-Sig-MA12')\n",
    "\n",
    "# LR-Sig-MA32 from gpsig.kernels\n",
    "params_grid = ParameterGrid({'lengthscales' : np.logspace(-5, 5, 11), 'num_levels' : [2, 3, 4, 5], 'add_time': [True, False]})\n",
    "d_lrsigma32 = mmd_with_gpsig_kernel(gpsig.kernels.SignatureMatern32, X_0, X_1, params_grid, low_rank=True, batch_size=100, name='LR-Sig-MA32')\n",
    "\n",
    "# LR-Sig-MA52 from gpsig.kernels\n",
    "params_grid = ParameterGrid({'lengthscales' : np.logspace(-5, 5, 11), 'num_levels' : [2, 3, 4, 5], 'add_time': [True, False]})\n",
    "d_lrsigma52 = mmd_with_gpsig_kernel(gpsig.kernels.SignatureMatern52, X_0, X_1, params_grid, low_rank=True, batch_size=100, name='LR-Sig-MA52')"
   ]
  },
  {
   "cell_type": "markdown",
   "metadata": {},
   "source": [
    "### Signal vs noise\n",
    "Compare `NetFlow` with noise"
   ]
  },
  {
   "cell_type": "code",
   "execution_count": 9,
   "metadata": {},
   "outputs": [],
   "source": [
    "X_0 = X\n",
    "\n",
    "num_data1 = len(X)\n",
    "num_data2 = 1000\n",
    "num_features = X[0].shape[1]\n",
    "min_len = np.min([len(x) for x in X])\n",
    "maxn_len = np.max([len(x) for x in X])\n",
    "\n",
    "# variable length\n",
    "X_1 = [np.random.randn(np.random.randint(min_len, max_len), num_features) for i in range(num_data2)]"
   ]
  },
  {
   "cell_type": "code",
   "execution_count": 10,
   "metadata": {},
   "outputs": [
    {
     "name": "stdout",
     "output_type": "stream",
     "text": [
      "Kernel: Linear\n",
      "------------------\n"
     ]
    },
    {
     "data": {
      "application/vnd.jupyter.widget-view+json": {
       "model_id": "6212eb760ef34d68bdac0a0f69af5072",
       "version_major": 2,
       "version_minor": 0
      },
      "text/plain": [
       "HBox(children=(IntProgress(value=0, max=2), HTML(value='')))"
      ]
     },
     "metadata": {},
     "output_type": "display_data"
    },
    {
     "name": "stdout",
     "output_type": "stream",
     "text": [
      "\n",
      "Time elapsed: 2.21\n",
      "Time per iteration: 1.10\n",
      "Number of combinations: 2\n",
      "Found parameters: {'tabulation': 'interp'}\n",
      "MMD: 2.417e-01\n",
      "------------------\n",
      "\n",
      "Kernel: RBF\n",
      "------------------\n"
     ]
    },
    {
     "data": {
      "application/vnd.jupyter.widget-view+json": {
       "model_id": "cc7bccd69c3a4c87b4083da9e7a992d3",
       "version_major": 2,
       "version_minor": 0
      },
      "text/plain": [
       "HBox(children=(IntProgress(value=0, max=22), HTML(value='')))"
      ]
     },
     "metadata": {},
     "output_type": "display_data"
    },
    {
     "name": "stdout",
     "output_type": "stream",
     "text": [
      "\n",
      "Time elapsed: 23.14\n",
      "Time per iteration: 1.05\n",
      "Number of combinations: 22\n",
      "Found parameters: {'lengthscales': 100.0, 'tabulation': 'interp'}\n",
      "MMD: 5.855e-02\n",
      "------------------\n",
      "\n",
      "Kernel: MA12\n",
      "------------------\n"
     ]
    },
    {
     "data": {
      "application/vnd.jupyter.widget-view+json": {
       "model_id": "ab4a407681694b65b9a19616cc9940e0",
       "version_major": 2,
       "version_minor": 0
      },
      "text/plain": [
       "HBox(children=(IntProgress(value=0, max=22), HTML(value='')))"
      ]
     },
     "metadata": {},
     "output_type": "display_data"
    },
    {
     "name": "stdout",
     "output_type": "stream",
     "text": [
      "\n",
      "Time elapsed: 23.24\n",
      "Time per iteration: 1.06\n",
      "Number of combinations: 22\n",
      "Found parameters: {'lengthscales': 100.0, 'tabulation': 'interp'}\n",
      "MMD: 8.880e-02\n",
      "------------------\n",
      "\n",
      "Kernel: MA32\n",
      "------------------\n"
     ]
    },
    {
     "data": {
      "application/vnd.jupyter.widget-view+json": {
       "model_id": "a0d99e7706ea4cb4b2bd1bfcd422cf8a",
       "version_major": 2,
       "version_minor": 0
      },
      "text/plain": [
       "HBox(children=(IntProgress(value=0, max=22), HTML(value='')))"
      ]
     },
     "metadata": {},
     "output_type": "display_data"
    },
    {
     "name": "stdout",
     "output_type": "stream",
     "text": [
      "\n",
      "Time elapsed: 22.86\n",
      "Time per iteration: 1.04\n",
      "Number of combinations: 22\n",
      "Found parameters: {'lengthscales': 100.0, 'tabulation': 'interp'}\n",
      "MMD: 8.726e-02\n",
      "------------------\n",
      "\n",
      "Kernel: MA52\n",
      "------------------\n"
     ]
    },
    {
     "data": {
      "application/vnd.jupyter.widget-view+json": {
       "model_id": "f95b48843f7448da9297625873edb85e",
       "version_major": 2,
       "version_minor": 0
      },
      "text/plain": [
       "HBox(children=(IntProgress(value=0, max=22), HTML(value='')))"
      ]
     },
     "metadata": {},
     "output_type": "display_data"
    },
    {
     "name": "stdout",
     "output_type": "stream",
     "text": [
      "\n",
      "Time elapsed: 23.25\n",
      "Time per iteration: 1.06\n",
      "Number of combinations: 22\n",
      "Found parameters: {'lengthscales': 100.0, 'tabulation': 'interp'}\n",
      "MMD: 7.824e-02\n",
      "------------------\n",
      "\n"
     ]
    }
   ],
   "source": [
    "# Linear kernel from gpflow.kernels\n",
    "params_grid = ParameterGrid({'tabulation' : ['interp', 'pad']})\n",
    "d_lin = mmd_with_gpflow_kernel(gpflow.kernels.Linear, X_0, X_1, params_grid, name='Linear')\n",
    "\n",
    "# RBF kernel from gpflow.kernels\n",
    "params_grid = ParameterGrid({'lengthscales' : np.logspace(-5, 5, 11), 'tabulation' : ['interp', 'pad']})\n",
    "d_rbf = mmd_with_gpflow_kernel(gpflow.kernels.RBF, X_0, X_1, params_grid, name='RBF')\n",
    "\n",
    "# MA12 kernel from gpflow.kernels\n",
    "params_grid = ParameterGrid({'lengthscales' : np.logspace(-5, 5, 11), 'tabulation' : ['interp', 'pad']})\n",
    "d_ma12 = mmd_with_gpflow_kernel(gpflow.kernels.Matern12, X_0, X_1, params_grid, name='MA12')\n",
    "\n",
    "# MA32 kernel from gpflow.kernels\n",
    "params_grid = ParameterGrid({'lengthscales' : np.logspace(-5, 5, 11), 'tabulation' : ['interp', 'pad']})\n",
    "d_ma32 = mmd_with_gpflow_kernel(gpflow.kernels.Matern32, X_0, X_1, params_grid, name='MA32')\n",
    "\n",
    "# MA52 kernel from gpflow.kernels\n",
    "params_grid = ParameterGrid({'lengthscales' : np.logspace(-5, 5, 11), 'tabulation' : ['interp', 'pad']})\n",
    "d_ma52 = mmd_with_gpflow_kernel(gpflow.kernels.Matern52, X_0, X_1, params_grid, name='MA52')"
   ]
  },
  {
   "cell_type": "markdown",
   "metadata": {},
   "source": [
    "#### Signature kernels"
   ]
  },
  {
   "cell_type": "code",
   "execution_count": 12,
   "metadata": {},
   "outputs": [
    {
     "name": "stdout",
     "output_type": "stream",
     "text": [
      "Kernel: LR-Sig-Lin\n",
      "------------------\n"
     ]
    },
    {
     "data": {
      "application/vnd.jupyter.widget-view+json": {
       "model_id": "46cd8361818549e182f5aec2b80caffa",
       "version_major": 2,
       "version_minor": 0
      },
      "text/plain": [
       "HBox(children=(IntProgress(value=0, max=8), HTML(value='')))"
      ]
     },
     "metadata": {},
     "output_type": "display_data"
    },
    {
     "name": "stdout",
     "output_type": "stream",
     "text": [
      "\n",
      "Time elapsed: 21.79\n",
      "Time per iteration: 2.72\n",
      "Number of combinations: 8\n",
      "Found parameters: {'add_time': True, 'num_levels': 4}\n",
      "MMD: 1.012e+00\n",
      "------------------\n",
      "\n",
      "Kernel: LR-Sig-RBF\n",
      "------------------\n"
     ]
    },
    {
     "data": {
      "application/vnd.jupyter.widget-view+json": {
       "model_id": "d184d9919dfc4cf89dc8fa27dc7ce724",
       "version_major": 2,
       "version_minor": 0
      },
      "text/plain": [
       "HBox(children=(IntProgress(value=0, max=88), HTML(value='')))"
      ]
     },
     "metadata": {},
     "output_type": "display_data"
    },
    {
     "name": "stdout",
     "output_type": "stream",
     "text": [
      "\n",
      "Time elapsed: 244.75\n",
      "Time per iteration: 2.78\n",
      "Number of combinations: 88\n",
      "Found parameters: {'add_time': True, 'lengthscales': 0.1, 'num_levels': 4}\n",
      "MMD: 1.133e+00\n",
      "------------------\n",
      "\n",
      "Kernel: LR-Sig-MA12\n",
      "------------------\n"
     ]
    },
    {
     "data": {
      "application/vnd.jupyter.widget-view+json": {
       "model_id": "adb60b960586467a9247a0e0f427833a",
       "version_major": 2,
       "version_minor": 0
      },
      "text/plain": [
       "HBox(children=(IntProgress(value=0, max=88), HTML(value='')))"
      ]
     },
     "metadata": {},
     "output_type": "display_data"
    },
    {
     "name": "stdout",
     "output_type": "stream",
     "text": [
      "\n",
      "Time elapsed: 245.56\n",
      "Time per iteration: 2.79\n",
      "Number of combinations: 88\n",
      "Found parameters: {'add_time': True, 'lengthscales': 0.1, 'num_levels': 5}\n",
      "MMD: 1.007e+00\n",
      "------------------\n",
      "\n",
      "Kernel: LR-Sig-MA32\n",
      "------------------\n"
     ]
    },
    {
     "data": {
      "application/vnd.jupyter.widget-view+json": {
       "model_id": "f9371124d24d4b95b89f0cbdbe6097c9",
       "version_major": 2,
       "version_minor": 0
      },
      "text/plain": [
       "HBox(children=(IntProgress(value=0, max=88), HTML(value='')))"
      ]
     },
     "metadata": {},
     "output_type": "display_data"
    },
    {
     "name": "stdout",
     "output_type": "stream",
     "text": [
      "\n",
      "Time elapsed: 245.62\n",
      "Time per iteration: 2.79\n",
      "Number of combinations: 88\n",
      "Found parameters: {'add_time': True, 'lengthscales': 0.1, 'num_levels': 5}\n",
      "MMD: 1.116e+00\n",
      "------------------\n",
      "\n",
      "Kernel: LR-Sig-MA52\n",
      "------------------\n"
     ]
    },
    {
     "data": {
      "application/vnd.jupyter.widget-view+json": {
       "model_id": "34b1df80ee8e4e78ac9cfc98e3a414bf",
       "version_major": 2,
       "version_minor": 0
      },
      "text/plain": [
       "HBox(children=(IntProgress(value=0, max=88), HTML(value='')))"
      ]
     },
     "metadata": {},
     "output_type": "display_data"
    },
    {
     "name": "stdout",
     "output_type": "stream",
     "text": [
      "\n",
      "Time elapsed: 249.70\n",
      "Time per iteration: 2.84\n",
      "Number of combinations: 88\n",
      "Found parameters: {'add_time': True, 'lengthscales': 0.1, 'num_levels': 4}\n",
      "MMD: 1.084e+00\n",
      "------------------\n",
      "\n"
     ]
    }
   ],
   "source": [
    "# LR-Sig-Linear from gpsig.kernels\n",
    "params_grid = ParameterGrid({'num_levels' : [2, 3, 4, 5], 'add_time': [True, False]})\n",
    "d_lrsiglin = mmd_with_gpsig_kernel(gpsig.kernels.SignatureLinear, X_0, X_1, params_grid, low_rank=True, batch_size=100, name='LR-Sig-Lin')\n",
    "\n",
    "# LR-Sig-RBF from gpsig.kernels\n",
    "params_grid = ParameterGrid({'lengthscales' : np.logspace(-5, 5, 11), 'num_levels' : [2, 3, 4, 5], 'add_time': [True, False]})\n",
    "d_lrsigrbf = mmd_with_gpsig_kernel(gpsig.kernels.SignatureRBF, X_0, X_1, params_grid, low_rank=True, batch_size=100, name='LR-Sig-RBF')\n",
    "\n",
    "# LR-Sig-MA12 from gpsig.kernels\n",
    "params_grid = ParameterGrid({'lengthscales' : np.logspace(-5, 5, 11), 'num_levels' : [2, 3, 4, 5], 'add_time': [True, False]})\n",
    "d_lrsigma12 = mmd_with_gpsig_kernel(gpsig.kernels.SignatureMatern12, X_0, X_1, params_grid, low_rank=True, batch_size=100, name='LR-Sig-MA12')\n",
    "\n",
    "# LR-Sig-MA32 from gpsig.kernels\n",
    "params_grid = ParameterGrid({'lengthscales' : np.logspace(-5, 5, 11), 'num_levels' : [2, 3, 4, 5], 'add_time': [True, False]})\n",
    "d_lrsigma32 = mmd_with_gpsig_kernel(gpsig.kernels.SignatureMatern32, X_0, X_1, params_grid, low_rank=True, batch_size=100, name='LR-Sig-MA32')\n",
    "\n",
    "# LR-Sig-MA52 from gpsig.kernels\n",
    "params_grid = ParameterGrid({'lengthscales' : np.logspace(-5, 5, 11), 'num_levels' : [2, 3, 4, 5], 'add_time': [True, False]})\n",
    "d_lrsigma52 = mmd_with_gpsig_kernel(gpsig.kernels.SignatureMatern52, X_0, X_1, params_grid, low_rank=True, batch_size=100, name='LR-Sig-MA52')"
   ]
  }
 ],
 "metadata": {
  "kernelspec": {
   "display_name": "Python 3 (Havok2)",
   "language": "python",
   "name": "havok_env2"
  },
  "language_info": {
   "codemirror_mode": {
    "name": "ipython",
    "version": 3
   },
   "file_extension": ".py",
   "mimetype": "text/x-python",
   "name": "python",
   "nbconvert_exporter": "python",
   "pygments_lexer": "ipython3",
   "version": "3.7.9"
  },
  "widgets": {
   "application/vnd.jupyter.widget-state+json": {
    "state": {},
    "version_major": 2,
    "version_minor": 0
   }
  }
 },
 "nbformat": 4,
 "nbformat_minor": 4
}
