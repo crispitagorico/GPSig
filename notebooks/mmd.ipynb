{
 "cells": [
  {
   "cell_type": "code",
   "execution_count": 2,
   "metadata": {},
   "outputs": [],
   "source": [
    "import numpy as np\n",
    "\n",
    "import os\n",
    "os.environ['CUDA_VISIBLE_DEVICES'] = '3'\n",
    "\n",
    "import sys\n",
    "sys.path.append('..') # add to path parent dir of gpsig\n",
    "\n",
    "import tensorflow as tf\n",
    "\n",
    "gpus = tf.config.list_physical_devices('GPU')\n",
    "tf.config.experimental.set_memory_growth(gpus[0], True)\n",
    "\n",
    "import gpflow\n",
    "import gpsig\n",
    "\n",
    "from sklearn.model_selection import ParameterGrid\n",
    "\n",
    "from mmd_utils import *"
   ]
  },
  {
   "cell_type": "markdown",
   "metadata": {},
   "source": [
    "### Noise vs noise (same distribution)"
   ]
  },
  {
   "cell_type": "code",
   "execution_count": 3,
   "metadata": {},
   "outputs": [],
   "source": [
    "num_data1 = 1000\n",
    "num_data2 = 2000\n",
    "num_features = 2\n",
    "min_len = 10\n",
    "max_len = 100\n",
    "\n",
    "# variable length\n",
    "X_0 = [np.random.randn(np.random.randint(min_len, max_len), num_features) for i in range(num_data1)]\n",
    "X_1 = [np.random.randn(np.random.randint(min_len, max_len), num_features) for i in range(num_data2)]"
   ]
  },
  {
   "cell_type": "markdown",
   "metadata": {},
   "source": [
    "#### Kernels for vector-valued data"
   ]
  },
  {
   "cell_type": "code",
   "execution_count": 4,
   "metadata": {},
   "outputs": [
    {
     "name": "stdout",
     "output_type": "stream",
     "text": [
      "Kernel: Linear\n",
      "------------------\n"
     ]
    },
    {
     "data": {
      "application/vnd.jupyter.widget-view+json": {
       "model_id": "20a2d49bccbe47cc87f9424c314766f3",
       "version_major": 2,
       "version_minor": 0
      },
      "text/plain": [
       "HBox(children=(IntProgress(value=0, max=2), HTML(value='')))"
      ]
     },
     "metadata": {},
     "output_type": "display_data"
    },
    {
     "name": "stdout",
     "output_type": "stream",
     "text": [
      "\n",
      "Time elapsed: 1.76\n",
      "Time per iteration: 0.88\n",
      "Number of combinations: 2\n",
      "Found parameters: {'tabulation': 'interp'}\n",
      "MMD: 3.069e-04\n",
      "------------------\n",
      "\n",
      "Kernel: RBF\n",
      "------------------\n"
     ]
    },
    {
     "data": {
      "application/vnd.jupyter.widget-view+json": {
       "model_id": "9164c2f6096c41cc8e6b1414028d780d",
       "version_major": 2,
       "version_minor": 0
      },
      "text/plain": [
       "HBox(children=(IntProgress(value=0, max=22), HTML(value='')))"
      ]
     },
     "metadata": {},
     "output_type": "display_data"
    },
    {
     "name": "stdout",
     "output_type": "stream",
     "text": [
      "\n",
      "Time elapsed: 16.06\n",
      "Time per iteration: 0.73\n",
      "Number of combinations: 22\n",
      "Found parameters: {'lengthscales': 10.0, 'tabulation': 'interp'}\n",
      "MMD: 1.783e-04\n",
      "------------------\n",
      "\n",
      "Kernel: MA12\n",
      "------------------\n"
     ]
    },
    {
     "data": {
      "application/vnd.jupyter.widget-view+json": {
       "model_id": "6743405283314527addf1c99697021ba",
       "version_major": 2,
       "version_minor": 0
      },
      "text/plain": [
       "HBox(children=(IntProgress(value=0, max=22), HTML(value='')))"
      ]
     },
     "metadata": {},
     "output_type": "display_data"
    },
    {
     "name": "stdout",
     "output_type": "stream",
     "text": [
      "\n",
      "Time elapsed: 16.07\n",
      "Time per iteration: 0.73\n",
      "Number of combinations: 22\n",
      "Found parameters: {'lengthscales': 10.0, 'tabulation': 'interp'}\n",
      "MMD: 8.139e-05\n",
      "------------------\n",
      "\n",
      "Kernel: MA32\n",
      "------------------\n"
     ]
    },
    {
     "data": {
      "application/vnd.jupyter.widget-view+json": {
       "model_id": "6691d3b6e2fb4243917e51c1ec9e102c",
       "version_major": 2,
       "version_minor": 0
      },
      "text/plain": [
       "HBox(children=(IntProgress(value=0, max=22), HTML(value='')))"
      ]
     },
     "metadata": {},
     "output_type": "display_data"
    },
    {
     "name": "stdout",
     "output_type": "stream",
     "text": [
      "\n",
      "Time elapsed: 16.01\n",
      "Time per iteration: 0.73\n",
      "Number of combinations: 22\n",
      "Found parameters: {'lengthscales': 10.0, 'tabulation': 'interp'}\n",
      "MMD: 1.206e-04\n",
      "------------------\n",
      "\n",
      "Kernel: MA52\n",
      "------------------\n"
     ]
    },
    {
     "data": {
      "application/vnd.jupyter.widget-view+json": {
       "model_id": "41a8cffdff014976b1a92d1903c43f9d",
       "version_major": 2,
       "version_minor": 0
      },
      "text/plain": [
       "HBox(children=(IntProgress(value=0, max=22), HTML(value='')))"
      ]
     },
     "metadata": {},
     "output_type": "display_data"
    },
    {
     "name": "stdout",
     "output_type": "stream",
     "text": [
      "\n",
      "Time elapsed: 16.43\n",
      "Time per iteration: 0.75\n",
      "Number of combinations: 22\n",
      "Found parameters: {'lengthscales': 10.0, 'tabulation': 'interp'}\n",
      "MMD: 1.368e-04\n",
      "------------------\n",
      "\n"
     ]
    }
   ],
   "source": [
    "# Linear kernel from gpflow.kernels\n",
    "params_grid = ParameterGrid({'tabulation' : ['interp', 'pad']})\n",
    "d_lin = mmd_with_gpflow_kernel(gpflow.kernels.Linear, X_0, X_1, params_grid, name='Linear')\n",
    "\n",
    "# RBF kernel from gpflow.kernels\n",
    "params_grid = ParameterGrid({'lengthscales' : np.logspace(-5, 5, 11), 'tabulation' : ['interp', 'pad']})\n",
    "d_rbf = mmd_with_gpflow_kernel(gpflow.kernels.RBF, X_0, X_1, params_grid, name='RBF')\n",
    "\n",
    "# MA12 kernel from gpflow.kernels\n",
    "params_grid = ParameterGrid({'lengthscales' : np.logspace(-5, 5, 11), 'tabulation' : ['interp', 'pad']})\n",
    "d_ma12 = mmd_with_gpflow_kernel(gpflow.kernels.Matern12, X_0, X_1, params_grid, name='MA12')\n",
    "\n",
    "# MA32 kernel from gpflow.kernels\n",
    "params_grid = ParameterGrid({'lengthscales' : np.logspace(-5, 5, 11), 'tabulation' : ['interp', 'pad']})\n",
    "d_ma32 = mmd_with_gpflow_kernel(gpflow.kernels.Matern32, X_0, X_1, params_grid, name='MA32')\n",
    "\n",
    "# MA52 kernel from gpflow.kernels\n",
    "params_grid = ParameterGrid({'lengthscales' : np.logspace(-5, 5, 11), 'tabulation' : ['interp', 'pad']})\n",
    "d_ma52 = mmd_with_gpflow_kernel(gpflow.kernels.Matern52, X_0, X_1, params_grid, name='MA52')"
   ]
  },
  {
   "cell_type": "markdown",
   "metadata": {},
   "source": [
    "#### Signature kernels"
   ]
  },
  {
   "cell_type": "code",
   "execution_count": 5,
   "metadata": {},
   "outputs": [
    {
     "name": "stdout",
     "output_type": "stream",
     "text": [
      "Kernel: LR-Sig-Lin\n",
      "------------------\n"
     ]
    },
    {
     "data": {
      "application/vnd.jupyter.widget-view+json": {
       "model_id": "50bdcebe5f924a91a17473f2a38467cc",
       "version_major": 2,
       "version_minor": 0
      },
      "text/plain": [
       "HBox(children=(IntProgress(value=0, max=16), HTML(value='')))"
      ]
     },
     "metadata": {},
     "output_type": "display_data"
    },
    {
     "name": "stdout",
     "output_type": "stream",
     "text": [
      "\n",
      "Time elapsed: 24.13\n",
      "Time per iteration: 1.51\n",
      "Number of combinations: 16\n",
      "Found parameters: {'add_time': True, 'num_lags': 0, 'num_levels': 2}\n",
      "MMD: -5.460e-05\n",
      "------------------\n",
      "\n",
      "Kernel: LR-Sig-RBF\n",
      "------------------\n"
     ]
    },
    {
     "data": {
      "application/vnd.jupyter.widget-view+json": {
       "model_id": "246e4977d7b149b9ac7ae06edfa8149f",
       "version_major": 2,
       "version_minor": 0
      },
      "text/plain": [
       "HBox(children=(IntProgress(value=0, max=88), HTML(value='')))"
      ]
     },
     "metadata": {},
     "output_type": "display_data"
    },
    {
     "name": "stdout",
     "output_type": "stream",
     "text": [
      "\n",
      "Time elapsed: 131.75\n",
      "Time per iteration: 1.50\n",
      "Number of combinations: 88\n",
      "Found parameters: {'add_time': False, 'lengthscales': 0.1, 'num_levels': 3}\n",
      "MMD: 1.816e-04\n",
      "------------------\n",
      "\n",
      "Kernel: LR-Sig-MA12\n",
      "------------------\n"
     ]
    },
    {
     "data": {
      "application/vnd.jupyter.widget-view+json": {
       "model_id": "b0dfe02485c348b7af8bbfe258d287f7",
       "version_major": 2,
       "version_minor": 0
      },
      "text/plain": [
       "HBox(children=(IntProgress(value=0, max=88), HTML(value='')))"
      ]
     },
     "metadata": {},
     "output_type": "display_data"
    },
    {
     "name": "stdout",
     "output_type": "stream",
     "text": [
      "\n",
      "Time elapsed: 130.86\n",
      "Time per iteration: 1.49\n",
      "Number of combinations: 88\n",
      "Found parameters: {'add_time': False, 'lengthscales': 0.01, 'num_levels': 2}\n",
      "MMD: 2.550e-04\n",
      "------------------\n",
      "\n",
      "Kernel: LR-Sig-MA32\n",
      "------------------\n"
     ]
    },
    {
     "data": {
      "application/vnd.jupyter.widget-view+json": {
       "model_id": "c459a1d8b4e5408fb1f18a64aa102396",
       "version_major": 2,
       "version_minor": 0
      },
      "text/plain": [
       "HBox(children=(IntProgress(value=0, max=88), HTML(value='')))"
      ]
     },
     "metadata": {},
     "output_type": "display_data"
    },
    {
     "name": "stdout",
     "output_type": "stream",
     "text": [
      "\n",
      "Time elapsed: 128.44\n",
      "Time per iteration: 1.46\n",
      "Number of combinations: 88\n",
      "Found parameters: {'add_time': False, 'lengthscales': 0.01, 'num_levels': 5}\n",
      "MMD: 9.795e-05\n",
      "------------------\n",
      "\n",
      "Kernel: LR-Sig-MA52\n",
      "------------------\n"
     ]
    },
    {
     "data": {
      "application/vnd.jupyter.widget-view+json": {
       "model_id": "a2463ce15d0e4c918cab3cb195b2f935",
       "version_major": 2,
       "version_minor": 0
      },
      "text/plain": [
       "HBox(children=(IntProgress(value=0, max=88), HTML(value='')))"
      ]
     },
     "metadata": {},
     "output_type": "display_data"
    },
    {
     "name": "stdout",
     "output_type": "stream",
     "text": [
      "\n",
      "Time elapsed: 131.25\n",
      "Time per iteration: 1.49\n",
      "Number of combinations: 88\n",
      "Found parameters: {'add_time': False, 'lengthscales': 0.1, 'num_levels': 2}\n",
      "MMD: 1.608e-04\n",
      "------------------\n",
      "\n"
     ]
    }
   ],
   "source": [
    "# LR-Sig-Linear from gpsig.kernels\n",
    "params_grid = ParameterGrid({'num_levels' : [2, 3, 4, 5], 'add_time': [True, False], 'num_lags' : [0, 1]})\n",
    "d_lrsiglin = mmd_with_gpsig_kernel(gpsig.kernels.SignatureLinear, X_0, X_1, params_grid, low_rank=True, batch_size=100, name='LR-Sig-Lin')\n",
    "\n",
    "# LR-Sig-RBF from gpsig.kernels\n",
    "params_grid = ParameterGrid({'lengthscales' : np.logspace(-5, 5, 11), 'num_levels' : [2, 3, 4, 5], 'add_time': [True, False]})\n",
    "d_lrsigrbf = mmd_with_gpsig_kernel(gpsig.kernels.SignatureRBF, X_0, X_1, params_grid, low_rank=True, batch_size=100, name='LR-Sig-RBF')\n",
    "\n",
    "# LR-Sig-MA12 from gpsig.kernels\n",
    "params_grid = ParameterGrid({'lengthscales' : np.logspace(-5, 5, 11), 'num_levels' : [2, 3, 4, 5], 'add_time': [True, False]})\n",
    "d_lrsigma12 = mmd_with_gpsig_kernel(gpsig.kernels.SignatureMatern12, X_0, X_1, params_grid, low_rank=True, batch_size=100, name='LR-Sig-MA12')\n",
    "\n",
    "# LR-Sig-MA32 from gpsig.kernels\n",
    "params_grid = ParameterGrid({'lengthscales' : np.logspace(-5, 5, 11), 'num_levels' : [2, 3, 4, 5], 'add_time': [True, False]})\n",
    "d_lrsigma32 = mmd_with_gpsig_kernel(gpsig.kernels.SignatureMatern32, X_0, X_1, params_grid, low_rank=True, batch_size=100, name='LR-Sig-MA32')\n",
    "\n",
    "# LR-Sig-MA52 from gpsig.kernels\n",
    "params_grid = ParameterGrid({'lengthscales' : np.logspace(-5, 5, 11), 'num_levels' : [2, 3, 4, 5], 'add_time': [True, False]})\n",
    "d_lrsigma52 = mmd_with_gpsig_kernel(gpsig.kernels.SignatureMatern52, X_0, X_1, params_grid, low_rank=True, batch_size=100, name='LR-Sig-MA52')"
   ]
  },
  {
   "cell_type": "markdown",
   "metadata": {},
   "source": [
    "### Signal vs signal\n",
    "Load binary ($y \\in \\{0, 1\\}$) time series classification dataset `NetFlow` and compute $MMD_U[P(x|y=0) \\Vert P(x|y=1)]$"
   ]
  },
  {
   "cell_type": "code",
   "execution_count": 6,
   "metadata": {},
   "outputs": [],
   "source": [
    "data = load_netflow_dataset()\n",
    "\n",
    "X = list(np.squeeze(data['X_train'])) + list(np.squeeze(data['X_test']))\n",
    "Y = list(np.squeeze(data['y_train'])) + list(np.squeeze(data['y_test']))\n",
    "\n",
    "X_0 = [x for i, x in enumerate(X) if Y[i]==0] \n",
    "X_1 = [x for i, x in enumerate(X) if Y[i]==1] "
   ]
  },
  {
   "cell_type": "code",
   "execution_count": 7,
   "metadata": {},
   "outputs": [
    {
     "name": "stdout",
     "output_type": "stream",
     "text": [
      "Kernel: Linear\n",
      "------------------\n"
     ]
    },
    {
     "data": {
      "application/vnd.jupyter.widget-view+json": {
       "model_id": "4f43a5ce767c45088ff58583faadb83b",
       "version_major": 2,
       "version_minor": 0
      },
      "text/plain": [
       "HBox(children=(IntProgress(value=0, max=2), HTML(value='')))"
      ]
     },
     "metadata": {},
     "output_type": "display_data"
    },
    {
     "name": "stdout",
     "output_type": "stream",
     "text": [
      "\n",
      "Time elapsed: 1.28\n",
      "Time per iteration: 0.64\n",
      "Number of combinations: 2\n",
      "Found parameters: {'tabulation': 'interp'}\n",
      "MMD: 9.290e-03\n",
      "------------------\n",
      "\n",
      "Kernel: RBF\n",
      "------------------\n"
     ]
    },
    {
     "data": {
      "application/vnd.jupyter.widget-view+json": {
       "model_id": "4280046163d44dc2bfa5e5b02ded9fa0",
       "version_major": 2,
       "version_minor": 0
      },
      "text/plain": [
       "HBox(children=(IntProgress(value=0, max=22), HTML(value='')))"
      ]
     },
     "metadata": {},
     "output_type": "display_data"
    },
    {
     "name": "stdout",
     "output_type": "stream",
     "text": [
      "\n",
      "Time elapsed: 13.40\n",
      "Time per iteration: 0.61\n",
      "Number of combinations: 22\n",
      "Found parameters: {'lengthscales': 10.0, 'tabulation': 'interp'}\n",
      "MMD: 5.485e-03\n",
      "------------------\n",
      "\n",
      "Kernel: MA12\n",
      "------------------\n"
     ]
    },
    {
     "data": {
      "application/vnd.jupyter.widget-view+json": {
       "model_id": "fa3ea4c4dcde45e5b80844f3c51a93f4",
       "version_major": 2,
       "version_minor": 0
      },
      "text/plain": [
       "HBox(children=(IntProgress(value=0, max=22), HTML(value='')))"
      ]
     },
     "metadata": {},
     "output_type": "display_data"
    },
    {
     "name": "stdout",
     "output_type": "stream",
     "text": [
      "\n",
      "Time elapsed: 13.34\n",
      "Time per iteration: 0.61\n",
      "Number of combinations: 22\n",
      "Found parameters: {'lengthscales': 100.0, 'tabulation': 'interp'}\n",
      "MMD: 1.161e-02\n",
      "------------------\n",
      "\n",
      "Kernel: MA32\n",
      "------------------\n"
     ]
    },
    {
     "data": {
      "application/vnd.jupyter.widget-view+json": {
       "model_id": "9038e7531404409c80d4cbe5d069c7e5",
       "version_major": 2,
       "version_minor": 0
      },
      "text/plain": [
       "HBox(children=(IntProgress(value=0, max=22), HTML(value='')))"
      ]
     },
     "metadata": {},
     "output_type": "display_data"
    },
    {
     "name": "stdout",
     "output_type": "stream",
     "text": [
      "\n",
      "Time elapsed: 13.41\n",
      "Time per iteration: 0.61\n",
      "Number of combinations: 22\n",
      "Found parameters: {'lengthscales': 10.0, 'tabulation': 'interp'}\n",
      "MMD: 8.702e-03\n",
      "------------------\n",
      "\n",
      "Kernel: MA52\n",
      "------------------\n"
     ]
    },
    {
     "data": {
      "application/vnd.jupyter.widget-view+json": {
       "model_id": "8311b40e49744584a03b8c9e69aa2513",
       "version_major": 2,
       "version_minor": 0
      },
      "text/plain": [
       "HBox(children=(IntProgress(value=0, max=22), HTML(value='')))"
      ]
     },
     "metadata": {},
     "output_type": "display_data"
    },
    {
     "name": "stdout",
     "output_type": "stream",
     "text": [
      "\n",
      "Time elapsed: 13.36\n",
      "Time per iteration: 0.61\n",
      "Number of combinations: 22\n",
      "Found parameters: {'lengthscales': 10.0, 'tabulation': 'interp'}\n",
      "MMD: 7.903e-03\n",
      "------------------\n",
      "\n"
     ]
    }
   ],
   "source": [
    "# Linear kernel from gpflow.kernels\n",
    "params_grid = ParameterGrid({'tabulation' : ['interp', 'pad']})\n",
    "d_lin = mmd_with_gpflow_kernel(gpflow.kernels.Linear, X_0, X_1, params_grid, name='Linear')\n",
    "\n",
    "# RBF kernel from gpflow.kernels\n",
    "params_grid = ParameterGrid({'lengthscales' : np.logspace(-5, 5, 11), 'tabulation' : ['interp', 'pad']})\n",
    "d_rbf = mmd_with_gpflow_kernel(gpflow.kernels.RBF, X_0, X_1, params_grid, name='RBF')\n",
    "\n",
    "# MA12 kernel from gpflow.kernels\n",
    "params_grid = ParameterGrid({'lengthscales' : np.logspace(-5, 5, 11), 'tabulation' : ['interp', 'pad']})\n",
    "d_ma12 = mmd_with_gpflow_kernel(gpflow.kernels.Matern12, X_0, X_1, params_grid, name='MA12')\n",
    "\n",
    "# MA32 kernel from gpflow.kernels\n",
    "params_grid = ParameterGrid({'lengthscales' : np.logspace(-5, 5, 11), 'tabulation' : ['interp', 'pad']})\n",
    "d_ma32 = mmd_with_gpflow_kernel(gpflow.kernels.Matern32, X_0, X_1, params_grid, name='MA32')\n",
    "\n",
    "# MA52 kernel from gpflow.kernels\n",
    "params_grid = ParameterGrid({'lengthscales' : np.logspace(-5, 5, 11), 'tabulation' : ['interp', 'pad']})\n",
    "d_ma52 = mmd_with_gpflow_kernel(gpflow.kernels.Matern52, X_0, X_1, params_grid, name='MA52')"
   ]
  },
  {
   "cell_type": "markdown",
   "metadata": {},
   "source": [
    "#### Signature kernels"
   ]
  },
  {
   "cell_type": "code",
   "execution_count": 8,
   "metadata": {},
   "outputs": [
    {
     "name": "stdout",
     "output_type": "stream",
     "text": [
      "Kernel: LR-Sig-Lin\n",
      "------------------\n"
     ]
    },
    {
     "data": {
      "application/vnd.jupyter.widget-view+json": {
       "model_id": "4286e78cbe6248969a28802a9880c046",
       "version_major": 2,
       "version_minor": 0
      },
      "text/plain": [
       "HBox(children=(IntProgress(value=0, max=8), HTML(value='')))"
      ]
     },
     "metadata": {},
     "output_type": "display_data"
    },
    {
     "name": "stdout",
     "output_type": "stream",
     "text": [
      "\n",
      "Time elapsed: 12.80\n",
      "Time per iteration: 1.60\n",
      "Number of combinations: 8\n",
      "Found parameters: {'add_time': False, 'num_levels': 4}\n",
      "MMD: 2.370e-01\n",
      "------------------\n",
      "\n",
      "Kernel: LR-Sig-RBF\n",
      "------------------\n"
     ]
    },
    {
     "data": {
      "application/vnd.jupyter.widget-view+json": {
       "model_id": "b11a004cac844fac8961dd739572e1ae",
       "version_major": 2,
       "version_minor": 0
      },
      "text/plain": [
       "HBox(children=(IntProgress(value=0, max=88), HTML(value='')))"
      ]
     },
     "metadata": {},
     "output_type": "display_data"
    },
    {
     "name": "stdout",
     "output_type": "stream",
     "text": [
      "\n",
      "Time elapsed: 142.68\n",
      "Time per iteration: 1.62\n",
      "Number of combinations: 88\n",
      "Found parameters: {'add_time': False, 'lengthscales': 0.1, 'num_levels': 4}\n",
      "MMD: 7.433e-01\n",
      "------------------\n",
      "\n",
      "Kernel: LR-Sig-MA12\n",
      "------------------\n"
     ]
    },
    {
     "data": {
      "application/vnd.jupyter.widget-view+json": {
       "model_id": "713ac9cfb89a42889d89e6ed70a4f9aa",
       "version_major": 2,
       "version_minor": 0
      },
      "text/plain": [
       "HBox(children=(IntProgress(value=0, max=88), HTML(value='')))"
      ]
     },
     "metadata": {},
     "output_type": "display_data"
    },
    {
     "name": "stdout",
     "output_type": "stream",
     "text": [
      "\n",
      "Time elapsed: 143.13\n",
      "Time per iteration: 1.63\n",
      "Number of combinations: 88\n",
      "Found parameters: {'add_time': False, 'lengthscales': 1.0, 'num_levels': 3}\n",
      "MMD: 7.453e-01\n",
      "------------------\n",
      "\n",
      "Kernel: LR-Sig-MA32\n",
      "------------------\n"
     ]
    },
    {
     "data": {
      "application/vnd.jupyter.widget-view+json": {
       "model_id": "28a2307ed7a74eba932a3f1a4475d051",
       "version_major": 2,
       "version_minor": 0
      },
      "text/plain": [
       "HBox(children=(IntProgress(value=0, max=88), HTML(value='')))"
      ]
     },
     "metadata": {},
     "output_type": "display_data"
    },
    {
     "name": "stdout",
     "output_type": "stream",
     "text": [
      "\n",
      "Time elapsed: 144.08\n",
      "Time per iteration: 1.64\n",
      "Number of combinations: 88\n",
      "Found parameters: {'add_time': True, 'lengthscales': 0.1, 'num_levels': 2}\n",
      "MMD: 5.672e-01\n",
      "------------------\n",
      "\n",
      "Kernel: LR-Sig-MA52\n",
      "------------------\n"
     ]
    },
    {
     "data": {
      "application/vnd.jupyter.widget-view+json": {
       "model_id": "65e1533657de4ff9a99c197e09eea74c",
       "version_major": 2,
       "version_minor": 0
      },
      "text/plain": [
       "HBox(children=(IntProgress(value=0, max=88), HTML(value='')))"
      ]
     },
     "metadata": {},
     "output_type": "display_data"
    },
    {
     "name": "stdout",
     "output_type": "stream",
     "text": [
      "\n",
      "Time elapsed: 144.73\n",
      "Time per iteration: 1.64\n",
      "Number of combinations: 88\n",
      "Found parameters: {'add_time': False, 'lengthscales': 0.1, 'num_levels': 5}\n",
      "MMD: 6.635e-01\n",
      "------------------\n",
      "\n"
     ]
    }
   ],
   "source": [
    "# LR-Sig-Linear from gpsig.kernels\n",
    "params_grid = ParameterGrid({'num_levels' : [2, 3, 4, 5], 'add_time': [True, False]})\n",
    "d_lrsiglin = mmd_with_gpsig_kernel(gpsig.kernels.SignatureLinear, X_0, X_1, params_grid, low_rank=True, batch_size=100, name='LR-Sig-Lin')\n",
    "\n",
    "# LR-Sig-RBF from gpsig.kernels\n",
    "params_grid = ParameterGrid({'lengthscales' : np.logspace(-5, 5, 11), 'num_levels' : [2, 3, 4, 5], 'add_time': [True, False]})\n",
    "d_lrsigrbf = mmd_with_gpsig_kernel(gpsig.kernels.SignatureRBF, X_0, X_1, params_grid, low_rank=True, batch_size=100, name='LR-Sig-RBF')\n",
    "\n",
    "# LR-Sig-MA12 from gpsig.kernels\n",
    "params_grid = ParameterGrid({'lengthscales' : np.logspace(-5, 5, 11), 'num_levels' : [2, 3, 4, 5], 'add_time': [True, False]})\n",
    "d_lrsigma12 = mmd_with_gpsig_kernel(gpsig.kernels.SignatureMatern12, X_0, X_1, params_grid, low_rank=True, batch_size=100, name='LR-Sig-MA12')\n",
    "\n",
    "# LR-Sig-MA32 from gpsig.kernels\n",
    "params_grid = ParameterGrid({'lengthscales' : np.logspace(-5, 5, 11), 'num_levels' : [2, 3, 4, 5], 'add_time': [True, False]})\n",
    "d_lrsigma32 = mmd_with_gpsig_kernel(gpsig.kernels.SignatureMatern32, X_0, X_1, params_grid, low_rank=True, batch_size=100, name='LR-Sig-MA32')\n",
    "\n",
    "# LR-Sig-MA52 from gpsig.kernels\n",
    "params_grid = ParameterGrid({'lengthscales' : np.logspace(-5, 5, 11), 'num_levels' : [2, 3, 4, 5], 'add_time': [True, False]})\n",
    "d_lrsigma52 = mmd_with_gpsig_kernel(gpsig.kernels.SignatureMatern52, X_0, X_1, params_grid, low_rank=True, batch_size=100, name='LR-Sig-MA52')"
   ]
  },
  {
   "cell_type": "markdown",
   "metadata": {},
   "source": [
    "### Signal vs noise\n",
    "Compare `NetFlow` with noise"
   ]
  },
  {
   "cell_type": "code",
   "execution_count": 9,
   "metadata": {},
   "outputs": [],
   "source": [
    "X_0 = X\n",
    "\n",
    "num_data1 = len(X)\n",
    "num_data2 = 1000\n",
    "num_features = X[0].shape[1]\n",
    "min_len = np.min([len(x) for x in X])\n",
    "maxn_len = np.max([len(x) for x in X])\n",
    "\n",
    "# variable length\n",
    "X_1 = [np.random.randn(np.random.randint(min_len, max_len), num_features) for i in range(num_data2)]"
   ]
  },
  {
   "cell_type": "code",
   "execution_count": 10,
   "metadata": {},
   "outputs": [
    {
     "name": "stdout",
     "output_type": "stream",
     "text": [
      "Kernel: Linear\n",
      "------------------\n"
     ]
    },
    {
     "data": {
      "application/vnd.jupyter.widget-view+json": {
       "model_id": "6212eb760ef34d68bdac0a0f69af5072",
       "version_major": 2,
       "version_minor": 0
      },
      "text/plain": [
       "HBox(children=(IntProgress(value=0, max=2), HTML(value='')))"
      ]
     },
     "metadata": {},
     "output_type": "display_data"
    },
    {
     "name": "stdout",
     "output_type": "stream",
     "text": [
      "\n",
      "Time elapsed: 2.21\n",
      "Time per iteration: 1.10\n",
      "Number of combinations: 2\n",
      "Found parameters: {'tabulation': 'interp'}\n",
      "MMD: 2.417e-01\n",
      "------------------\n",
      "\n",
      "Kernel: RBF\n",
      "------------------\n"
     ]
    },
    {
     "data": {
      "application/vnd.jupyter.widget-view+json": {
       "model_id": "cc7bccd69c3a4c87b4083da9e7a992d3",
       "version_major": 2,
       "version_minor": 0
      },
      "text/plain": [
       "HBox(children=(IntProgress(value=0, max=22), HTML(value='')))"
      ]
     },
     "metadata": {},
     "output_type": "display_data"
    },
    {
     "name": "stdout",
     "output_type": "stream",
     "text": [
      "\n",
      "Time elapsed: 23.14\n",
      "Time per iteration: 1.05\n",
      "Number of combinations: 22\n",
      "Found parameters: {'lengthscales': 100.0, 'tabulation': 'interp'}\n",
      "MMD: 5.855e-02\n",
      "------------------\n",
      "\n",
      "Kernel: MA12\n",
      "------------------\n"
     ]
    },
    {
     "data": {
      "application/vnd.jupyter.widget-view+json": {
       "model_id": "ab4a407681694b65b9a19616cc9940e0",
       "version_major": 2,
       "version_minor": 0
      },
      "text/plain": [
       "HBox(children=(IntProgress(value=0, max=22), HTML(value='')))"
      ]
     },
     "metadata": {},
     "output_type": "display_data"
    },
    {
     "name": "stdout",
     "output_type": "stream",
     "text": [
      "\n",
      "Time elapsed: 23.24\n",
      "Time per iteration: 1.06\n",
      "Number of combinations: 22\n",
      "Found parameters: {'lengthscales': 100.0, 'tabulation': 'interp'}\n",
      "MMD: 8.880e-02\n",
      "------------------\n",
      "\n",
      "Kernel: MA32\n",
      "------------------\n"
     ]
    },
    {
     "data": {
      "application/vnd.jupyter.widget-view+json": {
       "model_id": "a0d99e7706ea4cb4b2bd1bfcd422cf8a",
       "version_major": 2,
       "version_minor": 0
      },
      "text/plain": [
       "HBox(children=(IntProgress(value=0, max=22), HTML(value='')))"
      ]
     },
     "metadata": {},
     "output_type": "display_data"
    },
    {
     "name": "stdout",
     "output_type": "stream",
     "text": [
      "\n",
      "Time elapsed: 22.86\n",
      "Time per iteration: 1.04\n",
      "Number of combinations: 22\n",
      "Found parameters: {'lengthscales': 100.0, 'tabulation': 'interp'}\n",
      "MMD: 8.726e-02\n",
      "------------------\n",
      "\n",
      "Kernel: MA52\n",
      "------------------\n"
     ]
    },
    {
     "data": {
      "application/vnd.jupyter.widget-view+json": {
       "model_id": "f95b48843f7448da9297625873edb85e",
       "version_major": 2,
       "version_minor": 0
      },
      "text/plain": [
       "HBox(children=(IntProgress(value=0, max=22), HTML(value='')))"
      ]
     },
     "metadata": {},
     "output_type": "display_data"
    },
    {
     "name": "stdout",
     "output_type": "stream",
     "text": [
      "\n",
      "Time elapsed: 23.25\n",
      "Time per iteration: 1.06\n",
      "Number of combinations: 22\n",
      "Found parameters: {'lengthscales': 100.0, 'tabulation': 'interp'}\n",
      "MMD: 7.824e-02\n",
      "------------------\n",
      "\n"
     ]
    }
   ],
   "source": [
    "# Linear kernel from gpflow.kernels\n",
    "params_grid = ParameterGrid({'tabulation' : ['interp', 'pad']})\n",
    "d_lin = mmd_with_gpflow_kernel(gpflow.kernels.Linear, X_0, X_1, params_grid, name='Linear')\n",
    "\n",
    "# RBF kernel from gpflow.kernels\n",
    "params_grid = ParameterGrid({'lengthscales' : np.logspace(-5, 5, 11), 'tabulation' : ['interp', 'pad']})\n",
    "d_rbf = mmd_with_gpflow_kernel(gpflow.kernels.RBF, X_0, X_1, params_grid, name='RBF')\n",
    "\n",
    "# MA12 kernel from gpflow.kernels\n",
    "params_grid = ParameterGrid({'lengthscales' : np.logspace(-5, 5, 11), 'tabulation' : ['interp', 'pad']})\n",
    "d_ma12 = mmd_with_gpflow_kernel(gpflow.kernels.Matern12, X_0, X_1, params_grid, name='MA12')\n",
    "\n",
    "# MA32 kernel from gpflow.kernels\n",
    "params_grid = ParameterGrid({'lengthscales' : np.logspace(-5, 5, 11), 'tabulation' : ['interp', 'pad']})\n",
    "d_ma32 = mmd_with_gpflow_kernel(gpflow.kernels.Matern32, X_0, X_1, params_grid, name='MA32')\n",
    "\n",
    "# MA52 kernel from gpflow.kernels\n",
    "params_grid = ParameterGrid({'lengthscales' : np.logspace(-5, 5, 11), 'tabulation' : ['interp', 'pad']})\n",
    "d_ma52 = mmd_with_gpflow_kernel(gpflow.kernels.Matern52, X_0, X_1, params_grid, name='MA52')"
   ]
  },
  {
   "cell_type": "markdown",
   "metadata": {},
   "source": [
    "#### Signature kernels"
   ]
  },
  {
   "cell_type": "code",
   "execution_count": 12,
   "metadata": {},
   "outputs": [
    {
     "name": "stdout",
     "output_type": "stream",
     "text": [
      "Kernel: LR-Sig-Lin\n",
      "------------------\n"
     ]
    },
    {
     "data": {
      "application/vnd.jupyter.widget-view+json": {
       "model_id": "46cd8361818549e182f5aec2b80caffa",
       "version_major": 2,
       "version_minor": 0
      },
      "text/plain": [
       "HBox(children=(IntProgress(value=0, max=8), HTML(value='')))"
      ]
     },
     "metadata": {},
     "output_type": "display_data"
    },
    {
     "name": "stdout",
     "output_type": "stream",
     "text": [
      "\n",
      "Time elapsed: 21.79\n",
      "Time per iteration: 2.72\n",
      "Number of combinations: 8\n",
      "Found parameters: {'add_time': True, 'num_levels': 4}\n",
      "MMD: 1.012e+00\n",
      "------------------\n",
      "\n",
      "Kernel: LR-Sig-RBF\n",
      "------------------\n"
     ]
    },
    {
     "data": {
      "application/vnd.jupyter.widget-view+json": {
       "model_id": "d184d9919dfc4cf89dc8fa27dc7ce724",
       "version_major": 2,
       "version_minor": 0
      },
      "text/plain": [
       "HBox(children=(IntProgress(value=0, max=88), HTML(value='')))"
      ]
     },
     "metadata": {},
     "output_type": "display_data"
    },
    {
     "name": "stdout",
     "output_type": "stream",
     "text": [
      "\n",
      "Time elapsed: 244.75\n",
      "Time per iteration: 2.78\n",
      "Number of combinations: 88\n",
      "Found parameters: {'add_time': True, 'lengthscales': 0.1, 'num_levels': 4}\n",
      "MMD: 1.133e+00\n",
      "------------------\n",
      "\n",
      "Kernel: LR-Sig-MA12\n",
      "------------------\n"
     ]
    },
    {
     "data": {
      "application/vnd.jupyter.widget-view+json": {
       "model_id": "adb60b960586467a9247a0e0f427833a",
       "version_major": 2,
       "version_minor": 0
      },
      "text/plain": [
       "HBox(children=(IntProgress(value=0, max=88), HTML(value='')))"
      ]
     },
     "metadata": {},
     "output_type": "display_data"
    },
    {
     "name": "stdout",
     "output_type": "stream",
     "text": [
      "\n",
      "Time elapsed: 245.56\n",
      "Time per iteration: 2.79\n",
      "Number of combinations: 88\n",
      "Found parameters: {'add_time': True, 'lengthscales': 0.1, 'num_levels': 5}\n",
      "MMD: 1.007e+00\n",
      "------------------\n",
      "\n",
      "Kernel: LR-Sig-MA32\n",
      "------------------\n"
     ]
    },
    {
     "data": {
      "application/vnd.jupyter.widget-view+json": {
       "model_id": "f9371124d24d4b95b89f0cbdbe6097c9",
       "version_major": 2,
       "version_minor": 0
      },
      "text/plain": [
       "HBox(children=(IntProgress(value=0, max=88), HTML(value='')))"
      ]
     },
     "metadata": {},
     "output_type": "display_data"
    },
    {
     "name": "stdout",
     "output_type": "stream",
     "text": [
      "\n",
      "Time elapsed: 245.62\n",
      "Time per iteration: 2.79\n",
      "Number of combinations: 88\n",
      "Found parameters: {'add_time': True, 'lengthscales': 0.1, 'num_levels': 5}\n",
      "MMD: 1.116e+00\n",
      "------------------\n",
      "\n",
      "Kernel: LR-Sig-MA52\n",
      "------------------\n"
     ]
    },
    {
     "data": {
      "application/vnd.jupyter.widget-view+json": {
       "model_id": "34b1df80ee8e4e78ac9cfc98e3a414bf",
       "version_major": 2,
       "version_minor": 0
      },
      "text/plain": [
       "HBox(children=(IntProgress(value=0, max=88), HTML(value='')))"
      ]
     },
     "metadata": {},
     "output_type": "display_data"
    },
    {
     "name": "stdout",
     "output_type": "stream",
     "text": [
      "\n",
      "Time elapsed: 249.70\n",
      "Time per iteration: 2.84\n",
      "Number of combinations: 88\n",
      "Found parameters: {'add_time': True, 'lengthscales': 0.1, 'num_levels': 4}\n",
      "MMD: 1.084e+00\n",
      "------------------\n",
      "\n"
     ]
    }
   ],
   "source": [
    "# LR-Sig-Linear from gpsig.kernels\n",
    "params_grid = ParameterGrid({'num_levels' : [2, 3, 4, 5], 'add_time': [True, False]})\n",
    "d_lrsiglin = mmd_with_gpsig_kernel(gpsig.kernels.SignatureLinear, X_0, X_1, params_grid, low_rank=True, batch_size=100, name='LR-Sig-Lin')\n",
    "\n",
    "# LR-Sig-RBF from gpsig.kernels\n",
    "params_grid = ParameterGrid({'lengthscales' : np.logspace(-5, 5, 11), 'num_levels' : [2, 3, 4, 5], 'add_time': [True, False]})\n",
    "d_lrsigrbf = mmd_with_gpsig_kernel(gpsig.kernels.SignatureRBF, X_0, X_1, params_grid, low_rank=True, batch_size=100, name='LR-Sig-RBF')\n",
    "\n",
    "# LR-Sig-MA12 from gpsig.kernels\n",
    "params_grid = ParameterGrid({'lengthscales' : np.logspace(-5, 5, 11), 'num_levels' : [2, 3, 4, 5], 'add_time': [True, False]})\n",
    "d_lrsigma12 = mmd_with_gpsig_kernel(gpsig.kernels.SignatureMatern12, X_0, X_1, params_grid, low_rank=True, batch_size=100, name='LR-Sig-MA12')\n",
    "\n",
    "# LR-Sig-MA32 from gpsig.kernels\n",
    "params_grid = ParameterGrid({'lengthscales' : np.logspace(-5, 5, 11), 'num_levels' : [2, 3, 4, 5], 'add_time': [True, False]})\n",
    "d_lrsigma32 = mmd_with_gpsig_kernel(gpsig.kernels.SignatureMatern32, X_0, X_1, params_grid, low_rank=True, batch_size=100, name='LR-Sig-MA32')\n",
    "\n",
    "# LR-Sig-MA52 from gpsig.kernels\n",
    "params_grid = ParameterGrid({'lengthscales' : np.logspace(-5, 5, 11), 'num_levels' : [2, 3, 4, 5], 'add_time': [True, False]})\n",
    "d_lrsigma52 = mmd_with_gpsig_kernel(gpsig.kernels.SignatureMatern52, X_0, X_1, params_grid, low_rank=True, batch_size=100, name='LR-Sig-MA52')"
   ]
  }
 ],
 "metadata": {
  "kernelspec": {
   "display_name": "Python 3 (Havok2)",
   "language": "python",
   "name": "havok_env2"
  },
  "language_info": {
   "codemirror_mode": {
    "name": "ipython",
    "version": 3
   },
   "file_extension": ".py",
   "mimetype": "text/x-python",
   "name": "python",
   "nbconvert_exporter": "python",
   "pygments_lexer": "ipython3",
   "version": "3.7.9"
  },
  "widgets": {
   "application/vnd.jupyter.widget-state+json": {
    "state": {
     "0172f741af984eb19651db822c576f89": {
      "model_module": "@jupyter-widgets/controls",
      "model_module_version": "1.5.0",
      "model_name": "DescriptionStyleModel",
      "state": {
       "description_width": ""
      }
     },
     "017428ed0c4a4bf5ac8724170e687380": {
      "model_module": "@jupyter-widgets/controls",
      "model_module_version": "1.5.0",
      "model_name": "HTMLModel",
      "state": {
       "layout": "IPY_MODEL_b2a3544b8a4848bc8b0db88bce3b9815",
       "style": "IPY_MODEL_7efb72bd10a84fb2b06744204d007bce",
       "value": " 22/22 [00:27&lt;00:00,  1.27s/it]"
      }
     },
     "0487683d4c4240669d94287cb5f67e6f": {
      "model_module": "@jupyter-widgets/base",
      "model_module_version": "1.2.0",
      "model_name": "LayoutModel",
      "state": {}
     },
     "0594ee7b0aa14da6a1cfff7fb0409981": {
      "model_module": "@jupyter-widgets/controls",
      "model_module_version": "1.5.0",
      "model_name": "HTMLModel",
      "state": {
       "layout": "IPY_MODEL_7d53c4fd41cc4fc7b5f24b3ac1f8aa73",
       "style": "IPY_MODEL_0cab08bb7f554c52a9d6b3dd1898907e",
       "value": " 88/88 [02:24&lt;00:00,  1.64s/it]"
      }
     },
     "06d2827e2e854d5bb782dbdc160c8e73": {
      "model_module": "@jupyter-widgets/base",
      "model_module_version": "1.2.0",
      "model_name": "LayoutModel",
      "state": {}
     },
     "078afb6dcff04ca5a92dcb64abca9c31": {
      "model_module": "@jupyter-widgets/base",
      "model_module_version": "1.2.0",
      "model_name": "LayoutModel",
      "state": {}
     },
     "079a9a32eb534d809485cf593ce57b13": {
      "model_module": "@jupyter-widgets/controls",
      "model_module_version": "1.5.0",
      "model_name": "ProgressStyleModel",
      "state": {
       "description_width": "initial"
      }
     },
     "07ede4f929004ea39fe945ed05504db1": {
      "model_module": "@jupyter-widgets/base",
      "model_module_version": "1.2.0",
      "model_name": "LayoutModel",
      "state": {}
     },
     "085168c811ed4f7084f93ec48f3ca066": {
      "model_module": "@jupyter-widgets/base",
      "model_module_version": "1.2.0",
      "model_name": "LayoutModel",
      "state": {}
     },
     "086d1a1de1b54ab39d0c369cfe94babf": {
      "model_module": "@jupyter-widgets/controls",
      "model_module_version": "1.5.0",
      "model_name": "ProgressStyleModel",
      "state": {
       "description_width": "initial"
      }
     },
     "08caf061d6f14eb1b1e8837f40bc5cd2": {
      "model_module": "@jupyter-widgets/base",
      "model_module_version": "1.2.0",
      "model_name": "LayoutModel",
      "state": {}
     },
     "0a9a5d6889bf4f28ae8e66f7c10a68b1": {
      "model_module": "@jupyter-widgets/controls",
      "model_module_version": "1.5.0",
      "model_name": "ProgressStyleModel",
      "state": {
       "description_width": "initial"
      }
     },
     "0af0f8e47c154b6a84f1fd90ed9b1dfa": {
      "model_module": "@jupyter-widgets/controls",
      "model_module_version": "1.5.0",
      "model_name": "DescriptionStyleModel",
      "state": {
       "description_width": ""
      }
     },
     "0b45ff26ecc7436db735d3cf0d5284ad": {
      "model_module": "@jupyter-widgets/controls",
      "model_module_version": "1.5.0",
      "model_name": "IntProgressModel",
      "state": {
       "bar_style": "success",
       "description": "100%",
       "layout": "IPY_MODEL_9f2c814448f34e13bed194ea9231dc01",
       "max": 22,
       "style": "IPY_MODEL_0a9a5d6889bf4f28ae8e66f7c10a68b1",
       "value": 22
      }
     },
     "0c89efd0fc034951a8b3f5d82581c900": {
      "model_module": "@jupyter-widgets/base",
      "model_module_version": "1.2.0",
      "model_name": "LayoutModel",
      "state": {}
     },
     "0cab08bb7f554c52a9d6b3dd1898907e": {
      "model_module": "@jupyter-widgets/controls",
      "model_module_version": "1.5.0",
      "model_name": "DescriptionStyleModel",
      "state": {
       "description_width": ""
      }
     },
     "0d9ab60b9c2c4d2a8e6ade92621699d1": {
      "model_module": "@jupyter-widgets/controls",
      "model_module_version": "1.5.0",
      "model_name": "HTMLModel",
      "state": {
       "layout": "IPY_MODEL_ff93a6e120fa48419517c61d34b3c9d5",
       "style": "IPY_MODEL_0172f741af984eb19651db822c576f89",
       "value": " 2/2 [00:28&lt;00:00, 14.00s/it]"
      }
     },
     "0e2151a0c92748c6bc5978664bdd2a70": {
      "model_module": "@jupyter-widgets/controls",
      "model_module_version": "1.5.0",
      "model_name": "IntProgressModel",
      "state": {
       "bar_style": "success",
       "description": "100%",
       "layout": "IPY_MODEL_dbc0d79044994a77b6a643c125c4e1cc",
       "max": 2,
       "style": "IPY_MODEL_8f6113093c0d48fa867f5fdebe6efb22",
       "value": 2
      }
     },
     "0e5ed5e087f74d96bebf0c6cbfc4de4c": {
      "model_module": "@jupyter-widgets/base",
      "model_module_version": "1.2.0",
      "model_name": "LayoutModel",
      "state": {}
     },
     "112cffdf85274135a457c4d6d0ed708e": {
      "model_module": "@jupyter-widgets/controls",
      "model_module_version": "1.5.0",
      "model_name": "IntProgressModel",
      "state": {
       "bar_style": "success",
       "description": "100%",
       "layout": "IPY_MODEL_81d706fe050c4b2587264c547236ecce",
       "max": 22,
       "style": "IPY_MODEL_c786f3e9c6d047e8943aa198ac376b70",
       "value": 22
      }
     },
     "114af404c8ef40b6b391859cea92979b": {
      "model_module": "@jupyter-widgets/controls",
      "model_module_version": "1.5.0",
      "model_name": "DescriptionStyleModel",
      "state": {
       "description_width": ""
      }
     },
     "11e0c4f7c3ad441b818c93602c51ad9e": {
      "model_module": "@jupyter-widgets/controls",
      "model_module_version": "1.5.0",
      "model_name": "IntProgressModel",
      "state": {
       "bar_style": "success",
       "description": "100%",
       "layout": "IPY_MODEL_e87110f06a414cc384351752bc0f0132",
       "max": 22,
       "style": "IPY_MODEL_459f599a720641c19bdd673a90e27f1a",
       "value": 22
      }
     },
     "11fe6553283d466cbd64251e8cf63b24": {
      "model_module": "@jupyter-widgets/controls",
      "model_module_version": "1.5.0",
      "model_name": "IntProgressModel",
      "state": {
       "bar_style": "success",
       "description": "100%",
       "layout": "IPY_MODEL_63191097ecab42d6b004c645018e1c45",
       "max": 16,
       "style": "IPY_MODEL_079a9a32eb534d809485cf593ce57b13",
       "value": 16
      }
     },
     "13da2081274f4e758560405a80af16dd": {
      "model_module": "@jupyter-widgets/base",
      "model_module_version": "1.2.0",
      "model_name": "LayoutModel",
      "state": {}
     },
     "14431dee83b0444bb0bbb4661ff6b1c7": {
      "model_module": "@jupyter-widgets/base",
      "model_module_version": "1.2.0",
      "model_name": "LayoutModel",
      "state": {}
     },
     "15867d8e327e4ecaaaa471a558eef89a": {
      "model_module": "@jupyter-widgets/base",
      "model_module_version": "1.2.0",
      "model_name": "LayoutModel",
      "state": {}
     },
     "159331fa90de44ccbe22588afeab570b": {
      "model_module": "@jupyter-widgets/controls",
      "model_module_version": "1.5.0",
      "model_name": "IntProgressModel",
      "state": {
       "bar_style": "success",
       "description": "100%",
       "layout": "IPY_MODEL_290d30f9fb2140639935462bf6ecf32c",
       "max": 88,
       "style": "IPY_MODEL_25df85e1683540678121c70f8eb74b65",
       "value": 88
      }
     },
     "16a44fcbc41b4795a5b908b61973b9ed": {
      "model_module": "@jupyter-widgets/base",
      "model_module_version": "1.2.0",
      "model_name": "LayoutModel",
      "state": {}
     },
     "16c2f3f9295d44eb97452b6bec6c6dcd": {
      "model_module": "@jupyter-widgets/base",
      "model_module_version": "1.2.0",
      "model_name": "LayoutModel",
      "state": {}
     },
     "18c635de62b6475bb8649a69826e0dfc": {
      "model_module": "@jupyter-widgets/controls",
      "model_module_version": "1.5.0",
      "model_name": "DescriptionStyleModel",
      "state": {
       "description_width": ""
      }
     },
     "1c39850bd2434459a7e96e9465c577c6": {
      "model_module": "@jupyter-widgets/base",
      "model_module_version": "1.2.0",
      "model_name": "LayoutModel",
      "state": {}
     },
     "1c71be6dc3e740e08238a43539b70d8d": {
      "model_module": "@jupyter-widgets/controls",
      "model_module_version": "1.5.0",
      "model_name": "DescriptionStyleModel",
      "state": {
       "description_width": ""
      }
     },
     "1d9379e518e843cd862459644054d8e7": {
      "model_module": "@jupyter-widgets/controls",
      "model_module_version": "1.5.0",
      "model_name": "HTMLModel",
      "state": {
       "layout": "IPY_MODEL_8e8ec8d2bd3d46e89cfc1df84416eed2",
       "style": "IPY_MODEL_1c71be6dc3e740e08238a43539b70d8d",
       "value": " 8/8 [00:19&lt;00:00,  2.47s/it]"
      }
     },
     "1dd0cb6a4d5946078e11b96f82e9fbab": {
      "model_module": "@jupyter-widgets/controls",
      "model_module_version": "1.5.0",
      "model_name": "ProgressStyleModel",
      "state": {
       "description_width": "initial"
      }
     },
     "1e62b88135e74c9298998c43b82bb56d": {
      "model_module": "@jupyter-widgets/controls",
      "model_module_version": "1.5.0",
      "model_name": "HTMLModel",
      "state": {
       "layout": "IPY_MODEL_8c0ae4067cbe460687142a76fa712813",
       "style": "IPY_MODEL_2bfdc91d68454ca58bbe0aef348c4207",
       "value": " 88/88 [02:23&lt;00:00,  1.63s/it]"
      }
     },
     "20a2d49bccbe47cc87f9424c314766f3": {
      "model_module": "@jupyter-widgets/controls",
      "model_module_version": "1.5.0",
      "model_name": "HBoxModel",
      "state": {
       "children": [
        "IPY_MODEL_84482b2c8ba94ebbb1f55f9dc2b389af",
        "IPY_MODEL_c09cfd90ced14ca297e366f240d0f9fa"
       ],
       "layout": "IPY_MODEL_e50940a69a9446cda4f3f4f64e12a4b9"
      }
     },
     "22082ecfa31e4105a3f2b3d833ad0454": {
      "model_module": "@jupyter-widgets/base",
      "model_module_version": "1.2.0",
      "model_name": "LayoutModel",
      "state": {}
     },
     "246e4977d7b149b9ac7ae06edfa8149f": {
      "model_module": "@jupyter-widgets/controls",
      "model_module_version": "1.5.0",
      "model_name": "HBoxModel",
      "state": {
       "children": [
        "IPY_MODEL_abf7185f26d045dc8d548b9be29ffac9",
        "IPY_MODEL_46ecfc21cb784e939121837993aeac8d"
       ],
       "layout": "IPY_MODEL_9e0ff406debd401292d002c84ae8103e"
      }
     },
     "25df85e1683540678121c70f8eb74b65": {
      "model_module": "@jupyter-widgets/controls",
      "model_module_version": "1.5.0",
      "model_name": "ProgressStyleModel",
      "state": {
       "description_width": "initial"
      }
     },
     "2709caea253048dea5516c4f8b2fee6e": {
      "model_module": "@jupyter-widgets/controls",
      "model_module_version": "1.5.0",
      "model_name": "DescriptionStyleModel",
      "state": {
       "description_width": ""
      }
     },
     "27a3df9a874f4a8a86eab571605b5ee4": {
      "model_module": "@jupyter-widgets/controls",
      "model_module_version": "1.5.0",
      "model_name": "DescriptionStyleModel",
      "state": {
       "description_width": ""
      }
     },
     "28a2307ed7a74eba932a3f1a4475d051": {
      "model_module": "@jupyter-widgets/controls",
      "model_module_version": "1.5.0",
      "model_name": "HBoxModel",
      "state": {
       "children": [
        "IPY_MODEL_665876ccd8fd41d1aa68663e6e1adce0",
        "IPY_MODEL_0594ee7b0aa14da6a1cfff7fb0409981"
       ],
       "layout": "IPY_MODEL_302dcc2935234bad8ac212b42df0d13b"
      }
     },
     "290d30f9fb2140639935462bf6ecf32c": {
      "model_module": "@jupyter-widgets/base",
      "model_module_version": "1.2.0",
      "model_name": "LayoutModel",
      "state": {}
     },
     "299d51fafa414451bfdacef2cb29834b": {
      "model_module": "@jupyter-widgets/controls",
      "model_module_version": "1.5.0",
      "model_name": "IntProgressModel",
      "state": {
       "bar_style": "success",
       "description": "100%",
       "layout": "IPY_MODEL_3e75870cf5084fbfba2192c8e43883d5",
       "max": 22,
       "style": "IPY_MODEL_a3d937a0518e434aa870a6d1c8474b61",
       "value": 22
      }
     },
     "2b20b3872de745dabb646cf67aa888d1": {
      "model_module": "@jupyter-widgets/controls",
      "model_module_version": "1.5.0",
      "model_name": "HTMLModel",
      "state": {
       "layout": "IPY_MODEL_08caf061d6f14eb1b1e8837f40bc5cd2",
       "style": "IPY_MODEL_0af0f8e47c154b6a84f1fd90ed9b1dfa",
       "value": " 88/88 [04:09&lt;00:00,  2.84s/it]"
      }
     },
     "2bfdc91d68454ca58bbe0aef348c4207": {
      "model_module": "@jupyter-widgets/controls",
      "model_module_version": "1.5.0",
      "model_name": "DescriptionStyleModel",
      "state": {
       "description_width": ""
      }
     },
     "2dccf3586b4b40d892627ed33c35eb7d": {
      "model_module": "@jupyter-widgets/controls",
      "model_module_version": "1.5.0",
      "model_name": "DescriptionStyleModel",
      "state": {
       "description_width": ""
      }
     },
     "302dcc2935234bad8ac212b42df0d13b": {
      "model_module": "@jupyter-widgets/base",
      "model_module_version": "1.2.0",
      "model_name": "LayoutModel",
      "state": {}
     },
     "30746abcc001463ab824474d36fb7eee": {
      "model_module": "@jupyter-widgets/controls",
      "model_module_version": "1.5.0",
      "model_name": "HTMLModel",
      "state": {
       "layout": "IPY_MODEL_0487683d4c4240669d94287cb5f67e6f",
       "style": "IPY_MODEL_81296d32ddfc4f40a11a6082a71e6c94",
       "value": " 16/16 [00:44&lt;00:00,  2.76s/it]"
      }
     },
     "31bef35dc61941e997b93ba67159c852": {
      "model_module": "@jupyter-widgets/base",
      "model_module_version": "1.2.0",
      "model_name": "LayoutModel",
      "state": {}
     },
     "3303b6a8dc4142159c81c478a688d2f5": {
      "model_module": "@jupyter-widgets/controls",
      "model_module_version": "1.5.0",
      "model_name": "DescriptionStyleModel",
      "state": {
       "description_width": ""
      }
     },
     "338640aaa27b40cdb0bed3f008a9284a": {
      "model_module": "@jupyter-widgets/base",
      "model_module_version": "1.2.0",
      "model_name": "LayoutModel",
      "state": {}
     },
     "340cf574d0084752a8f21693f8c34223": {
      "model_module": "@jupyter-widgets/controls",
      "model_module_version": "1.5.0",
      "model_name": "IntProgressModel",
      "state": {
       "bar_style": "success",
       "description": "100%",
       "layout": "IPY_MODEL_4903030333cb4db6b93b434ed43d211d",
       "max": 8,
       "style": "IPY_MODEL_a6ae61aaba4b4ce7a186d5aa0e2e9a18",
       "value": 8
      }
     },
     "34b1df80ee8e4e78ac9cfc98e3a414bf": {
      "model_module": "@jupyter-widgets/controls",
      "model_module_version": "1.5.0",
      "model_name": "HBoxModel",
      "state": {
       "children": [
        "IPY_MODEL_159331fa90de44ccbe22588afeab570b",
        "IPY_MODEL_2b20b3872de745dabb646cf67aa888d1"
       ],
       "layout": "IPY_MODEL_16a44fcbc41b4795a5b908b61973b9ed"
      }
     },
     "35fa85ec555a4a39beda222bd2d46e60": {
      "model_module": "@jupyter-widgets/controls",
      "model_module_version": "1.5.0",
      "model_name": "HTMLModel",
      "state": {
       "layout": "IPY_MODEL_ac7b7a1a15b747d3a86a8dfca7346000",
       "style": "IPY_MODEL_881fa9378b374d3fb5801d19ba6f47f0",
       "value": " 88/88 [02:11&lt;00:00,  1.49s/it]"
      }
     },
     "3639de71a96f4ba2a29f12e6b7271af2": {
      "model_module": "@jupyter-widgets/base",
      "model_module_version": "1.2.0",
      "model_name": "LayoutModel",
      "state": {}
     },
     "39101e9516124e3f9198234797d5e9c8": {
      "model_module": "@jupyter-widgets/controls",
      "model_module_version": "1.5.0",
      "model_name": "HTMLModel",
      "state": {
       "layout": "IPY_MODEL_d22847aaa55b463facbf1dc105a45c69",
       "style": "IPY_MODEL_525f4127b6e6410a9b0f621e359e344a",
       "value": " 88/88 [02:08&lt;00:00,  1.46s/it]"
      }
     },
     "3d31b56854c7425288eb8060def9c5b8": {
      "model_module": "@jupyter-widgets/base",
      "model_module_version": "1.2.0",
      "model_name": "LayoutModel",
      "state": {}
     },
     "3d35b8f1d1564849829b1f8a288b8d98": {
      "model_module": "@jupyter-widgets/base",
      "model_module_version": "1.2.0",
      "model_name": "LayoutModel",
      "state": {}
     },
     "3e1d430d03dd416da3bfe53be5b9ed33": {
      "model_module": "@jupyter-widgets/base",
      "model_module_version": "1.2.0",
      "model_name": "LayoutModel",
      "state": {}
     },
     "3e75870cf5084fbfba2192c8e43883d5": {
      "model_module": "@jupyter-widgets/base",
      "model_module_version": "1.2.0",
      "model_name": "LayoutModel",
      "state": {}
     },
     "411d5e35e70b4124a9accc60d6efc0f1": {
      "model_module": "@jupyter-widgets/base",
      "model_module_version": "1.2.0",
      "model_name": "LayoutModel",
      "state": {}
     },
     "41a8cffdff014976b1a92d1903c43f9d": {
      "model_module": "@jupyter-widgets/controls",
      "model_module_version": "1.5.0",
      "model_name": "HBoxModel",
      "state": {
       "children": [
        "IPY_MODEL_299d51fafa414451bfdacef2cb29834b",
        "IPY_MODEL_7590883c20e34518a884a2c3f3a76ca0"
       ],
       "layout": "IPY_MODEL_87ef7ff88eed4618be5fdb28dd613110"
      }
     },
     "4280046163d44dc2bfa5e5b02ded9fa0": {
      "model_module": "@jupyter-widgets/controls",
      "model_module_version": "1.5.0",
      "model_name": "HBoxModel",
      "state": {
       "children": [
        "IPY_MODEL_112cffdf85274135a457c4d6d0ed708e",
        "IPY_MODEL_709805b0b854478196157db5c0b4423e"
       ],
       "layout": "IPY_MODEL_0c89efd0fc034951a8b3f5d82581c900"
      }
     },
     "4286e78cbe6248969a28802a9880c046": {
      "model_module": "@jupyter-widgets/controls",
      "model_module_version": "1.5.0",
      "model_name": "HBoxModel",
      "state": {
       "children": [
        "IPY_MODEL_9f31aad6ea96440ea54f84ab47cb8e94",
        "IPY_MODEL_1d9379e518e843cd862459644054d8e7"
       ],
       "layout": "IPY_MODEL_e3adf5d3933a45108bc5e57d008ae394"
      }
     },
     "44f21f5b2594419d92b404be4cf97d8c": {
      "model_module": "@jupyter-widgets/controls",
      "model_module_version": "1.5.0",
      "model_name": "DescriptionStyleModel",
      "state": {
       "description_width": ""
      }
     },
     "459f599a720641c19bdd673a90e27f1a": {
      "model_module": "@jupyter-widgets/controls",
      "model_module_version": "1.5.0",
      "model_name": "ProgressStyleModel",
      "state": {
       "description_width": "initial"
      }
     },
     "460a84ac67264073bf47cddb31ebcb5e": {
      "model_module": "@jupyter-widgets/controls",
      "model_module_version": "1.5.0",
      "model_name": "DescriptionStyleModel",
      "state": {
       "description_width": ""
      }
     },
     "460fb5e69ca94e50979b455039e5080a": {
      "model_module": "@jupyter-widgets/base",
      "model_module_version": "1.2.0",
      "model_name": "LayoutModel",
      "state": {}
     },
     "46cd8361818549e182f5aec2b80caffa": {
      "model_module": "@jupyter-widgets/controls",
      "model_module_version": "1.5.0",
      "model_name": "HBoxModel",
      "state": {
       "children": [
        "IPY_MODEL_340cf574d0084752a8f21693f8c34223",
        "IPY_MODEL_a8bbac8591a24574b9fad2dc60468b56"
       ],
       "layout": "IPY_MODEL_0e5ed5e087f74d96bebf0c6cbfc4de4c"
      }
     },
     "46d3f87c91a042a6a125de2deef6555c": {
      "model_module": "@jupyter-widgets/base",
      "model_module_version": "1.2.0",
      "model_name": "LayoutModel",
      "state": {}
     },
     "46ecfc21cb784e939121837993aeac8d": {
      "model_module": "@jupyter-widgets/controls",
      "model_module_version": "1.5.0",
      "model_name": "HTMLModel",
      "state": {
       "layout": "IPY_MODEL_6bb9d5502c6a4ef89ee4c80d32292e91",
       "style": "IPY_MODEL_460a84ac67264073bf47cddb31ebcb5e",
       "value": " 88/88 [02:11&lt;00:00,  1.50s/it]"
      }
     },
     "49019fe16e2f43ca94604c036c764667": {
      "model_module": "@jupyter-widgets/controls",
      "model_module_version": "1.5.0",
      "model_name": "HTMLModel",
      "state": {
       "layout": "IPY_MODEL_a4d65f28a4ad4159896f9ee861c45523",
       "style": "IPY_MODEL_fda0f562c6ca45919ae39675fa36acf9",
       "value": " 22/22 [00:53&lt;00:00,  2.44s/it]"
      }
     },
     "4903030333cb4db6b93b434ed43d211d": {
      "model_module": "@jupyter-widgets/base",
      "model_module_version": "1.2.0",
      "model_name": "LayoutModel",
      "state": {}
     },
     "4abbd18298754503bd1e11e9b1ff094c": {
      "model_module": "@jupyter-widgets/base",
      "model_module_version": "1.2.0",
      "model_name": "LayoutModel",
      "state": {}
     },
     "4c15f38daae348a8a038e98f05580453": {
      "model_module": "@jupyter-widgets/base",
      "model_module_version": "1.2.0",
      "model_name": "LayoutModel",
      "state": {}
     },
     "4e53cc01b3be46cb8259679b56fb70f4": {
      "model_module": "@jupyter-widgets/base",
      "model_module_version": "1.2.0",
      "model_name": "LayoutModel",
      "state": {}
     },
     "4f43a5ce767c45088ff58583faadb83b": {
      "model_module": "@jupyter-widgets/controls",
      "model_module_version": "1.5.0",
      "model_name": "HBoxModel",
      "state": {
       "children": [
        "IPY_MODEL_ad2e880f2cf942b4a17be0a3b1c8c746",
        "IPY_MODEL_0d9ab60b9c2c4d2a8e6ade92621699d1"
       ],
       "layout": "IPY_MODEL_078afb6dcff04ca5a92dcb64abca9c31"
      }
     },
     "50bdcebe5f924a91a17473f2a38467cc": {
      "model_module": "@jupyter-widgets/controls",
      "model_module_version": "1.5.0",
      "model_name": "HBoxModel",
      "state": {
       "children": [
        "IPY_MODEL_11fe6553283d466cbd64251e8cf63b24",
        "IPY_MODEL_a9025999d5dc4d8b9114170cf0c12cbe"
       ],
       "layout": "IPY_MODEL_1c39850bd2434459a7e96e9465c577c6"
      }
     },
     "50d56e9033b64987bc86391afeae5dcd": {
      "model_module": "@jupyter-widgets/controls",
      "model_module_version": "1.5.0",
      "model_name": "IntProgressModel",
      "state": {
       "bar_style": "success",
       "description": "100%",
       "layout": "IPY_MODEL_22082ecfa31e4105a3f2b3d833ad0454",
       "max": 88,
       "style": "IPY_MODEL_64b79686d50d43b2951f23ab1cb80508",
       "value": 88
      }
     },
     "52397c3a64ff46a2b92853c6e416f5b6": {
      "model_module": "@jupyter-widgets/controls",
      "model_module_version": "1.5.0",
      "model_name": "IntProgressModel",
      "state": {
       "bar_style": "success",
       "description": "100%",
       "layout": "IPY_MODEL_60206a55e4c5465c9476a67bea410cd5",
       "max": 88,
       "style": "IPY_MODEL_658db78d24ce4a89bd2b0892fbbabc5e",
       "value": 88
      }
     },
     "525f4127b6e6410a9b0f621e359e344a": {
      "model_module": "@jupyter-widgets/controls",
      "model_module_version": "1.5.0",
      "model_name": "DescriptionStyleModel",
      "state": {
       "description_width": ""
      }
     },
     "52919cc9ec934ee8abbcdc49e4416406": {
      "model_module": "@jupyter-widgets/base",
      "model_module_version": "1.2.0",
      "model_name": "LayoutModel",
      "state": {}
     },
     "531b36bb802741cb845c1c3a7f4102b7": {
      "model_module": "@jupyter-widgets/base",
      "model_module_version": "1.2.0",
      "model_name": "LayoutModel",
      "state": {}
     },
     "532b5c736b924279a950935beef2332e": {
      "model_module": "@jupyter-widgets/base",
      "model_module_version": "1.2.0",
      "model_name": "LayoutModel",
      "state": {}
     },
     "53414f368b594c24ad8276d796941ae2": {
      "model_module": "@jupyter-widgets/controls",
      "model_module_version": "1.5.0",
      "model_name": "IntProgressModel",
      "state": {
       "bar_style": "success",
       "description": "100%",
       "layout": "IPY_MODEL_4c15f38daae348a8a038e98f05580453",
       "max": 22,
       "style": "IPY_MODEL_1dd0cb6a4d5946078e11b96f82e9fbab",
       "value": 22
      }
     },
     "552718d7819a4e82a6e2e5ec1a3bbb7d": {
      "model_module": "@jupyter-widgets/controls",
      "model_module_version": "1.5.0",
      "model_name": "DescriptionStyleModel",
      "state": {
       "description_width": ""
      }
     },
     "559d3d01b7e342c883448b5574ff8d4e": {
      "model_module": "@jupyter-widgets/controls",
      "model_module_version": "1.5.0",
      "model_name": "DescriptionStyleModel",
      "state": {
       "description_width": ""
      }
     },
     "55f9952f95d6438bbb86f3dc071301e9": {
      "model_module": "@jupyter-widgets/base",
      "model_module_version": "1.2.0",
      "model_name": "LayoutModel",
      "state": {}
     },
     "585ea7446e504c308561159256e0283e": {
      "model_module": "@jupyter-widgets/controls",
      "model_module_version": "1.5.0",
      "model_name": "HTMLModel",
      "state": {
       "layout": "IPY_MODEL_06d2827e2e854d5bb782dbdc160c8e73",
       "style": "IPY_MODEL_8d4994a348be48d6b6ac29366d089780",
       "value": " 22/22 [00:16&lt;00:00,  1.37it/s]"
      }
     },
     "5bf4108b9c86480c9d800e020e0764c1": {
      "model_module": "@jupyter-widgets/controls",
      "model_module_version": "1.5.0",
      "model_name": "ProgressStyleModel",
      "state": {
       "description_width": "initial"
      }
     },
     "5ee7b961049a4b01a46633985a07600f": {
      "model_module": "@jupyter-widgets/base",
      "model_module_version": "1.2.0",
      "model_name": "LayoutModel",
      "state": {}
     },
     "5f6a8828908348dc9aafe1e2cf5c9bae": {
      "model_module": "@jupyter-widgets/controls",
      "model_module_version": "1.5.0",
      "model_name": "ProgressStyleModel",
      "state": {
       "description_width": "initial"
      }
     },
     "6010d30f4b5e42d287ada7d8f86fee70": {
      "model_module": "@jupyter-widgets/controls",
      "model_module_version": "1.5.0",
      "model_name": "ProgressStyleModel",
      "state": {
       "description_width": "initial"
      }
     },
     "60206a55e4c5465c9476a67bea410cd5": {
      "model_module": "@jupyter-widgets/base",
      "model_module_version": "1.2.0",
      "model_name": "LayoutModel",
      "state": {}
     },
     "62079ef339e14c3f9e8935cca1aabc6b": {
      "model_module": "@jupyter-widgets/controls",
      "model_module_version": "1.5.0",
      "model_name": "ProgressStyleModel",
      "state": {
       "description_width": "initial"
      }
     },
     "6212eb760ef34d68bdac0a0f69af5072": {
      "model_module": "@jupyter-widgets/controls",
      "model_module_version": "1.5.0",
      "model_name": "HBoxModel",
      "state": {
       "children": [
        "IPY_MODEL_0e2151a0c92748c6bc5978664bdd2a70",
        "IPY_MODEL_9a9d157e147f4486bfd85afed8d67e2d"
       ],
       "layout": "IPY_MODEL_ee674b318ead45e2b7744534e2dddd25"
      }
     },
     "62e15b10d9a84a918f016227e581bce3": {
      "model_module": "@jupyter-widgets/controls",
      "model_module_version": "1.5.0",
      "model_name": "HTMLModel",
      "state": {
       "layout": "IPY_MODEL_411d5e35e70b4124a9accc60d6efc0f1",
       "style": "IPY_MODEL_c39d03ba21104e5ea838dff691d0829b",
       "value": " 22/22 [00:50&lt;00:00,  2.31s/it]"
      }
     },
     "63191097ecab42d6b004c645018e1c45": {
      "model_module": "@jupyter-widgets/base",
      "model_module_version": "1.2.0",
      "model_name": "LayoutModel",
      "state": {}
     },
     "6468f61684734aae8c59e15f2393f0f2": {
      "model_module": "@jupyter-widgets/base",
      "model_module_version": "1.2.0",
      "model_name": "LayoutModel",
      "state": {}
     },
     "64b79686d50d43b2951f23ab1cb80508": {
      "model_module": "@jupyter-widgets/controls",
      "model_module_version": "1.5.0",
      "model_name": "ProgressStyleModel",
      "state": {
       "description_width": "initial"
      }
     },
     "64cff099ac724ac4b38b1b2a94f1e3eb": {
      "model_module": "@jupyter-widgets/controls",
      "model_module_version": "1.5.0",
      "model_name": "IntProgressModel",
      "state": {
       "bar_style": "success",
       "description": "100%",
       "layout": "IPY_MODEL_78df6be10d4b4970ae18622b9992f410",
       "max": 88,
       "style": "IPY_MODEL_de3f55849db245ceaef1f9bd9c22e871",
       "value": 88
      }
     },
     "65786780cca94d2a81e0ecf722700032": {
      "model_module": "@jupyter-widgets/base",
      "model_module_version": "1.2.0",
      "model_name": "LayoutModel",
      "state": {}
     },
     "658db78d24ce4a89bd2b0892fbbabc5e": {
      "model_module": "@jupyter-widgets/controls",
      "model_module_version": "1.5.0",
      "model_name": "ProgressStyleModel",
      "state": {
       "description_width": "initial"
      }
     },
     "65e1533657de4ff9a99c197e09eea74c": {
      "model_module": "@jupyter-widgets/controls",
      "model_module_version": "1.5.0",
      "model_name": "HBoxModel",
      "state": {
       "children": [
        "IPY_MODEL_dea9de9a4f704bbeba00113f0dfca160",
        "IPY_MODEL_ef9043e8d30e405faed15438dd252889"
       ],
       "layout": "IPY_MODEL_d935de5c4cc3455fad7a1ebccf4ec4ed"
      }
     },
     "665876ccd8fd41d1aa68663e6e1adce0": {
      "model_module": "@jupyter-widgets/controls",
      "model_module_version": "1.5.0",
      "model_name": "IntProgressModel",
      "state": {
       "bar_style": "success",
       "description": "100%",
       "layout": "IPY_MODEL_531b36bb802741cb845c1c3a7f4102b7",
       "max": 88,
       "style": "IPY_MODEL_5bf4108b9c86480c9d800e020e0764c1",
       "value": 88
      }
     },
     "6691d3b6e2fb4243917e51c1ec9e102c": {
      "model_module": "@jupyter-widgets/controls",
      "model_module_version": "1.5.0",
      "model_name": "HBoxModel",
      "state": {
       "children": [
        "IPY_MODEL_e9e95f9504e74aa7af35bcae03424449",
        "IPY_MODEL_585ea7446e504c308561159256e0283e"
       ],
       "layout": "IPY_MODEL_fa4cd41a08cf4e569f8d584e08551fec"
      }
     },
     "6743405283314527addf1c99697021ba": {
      "model_module": "@jupyter-widgets/controls",
      "model_module_version": "1.5.0",
      "model_name": "HBoxModel",
      "state": {
       "children": [
        "IPY_MODEL_c784d350416342f4996f65d7d0a1efe8",
        "IPY_MODEL_ad5708cf4048405090064a3c60a71dc0"
       ],
       "layout": "IPY_MODEL_085168c811ed4f7084f93ec48f3ca066"
      }
     },
     "6a59b128700f479f9cbe69f996e229cb": {
      "model_module": "@jupyter-widgets/controls",
      "model_module_version": "1.5.0",
      "model_name": "HTMLModel",
      "state": {
       "layout": "IPY_MODEL_46d3f87c91a042a6a125de2deef6555c",
       "style": "IPY_MODEL_a0b86def42274949b48e5037823653da",
       "value": " 22/22 [01:14&lt;00:00,  3.37s/it]"
      }
     },
     "6b49385016ce418e8c7a40c73da2b877": {
      "model_module": "@jupyter-widgets/controls",
      "model_module_version": "1.5.0",
      "model_name": "DescriptionStyleModel",
      "state": {
       "description_width": ""
      }
     },
     "6b606be1f5fd432187d1013416842e60": {
      "model_module": "@jupyter-widgets/controls",
      "model_module_version": "1.5.0",
      "model_name": "IntProgressModel",
      "state": {
       "bar_style": "success",
       "description": "100%",
       "layout": "IPY_MODEL_3d35b8f1d1564849829b1f8a288b8d98",
       "max": 88,
       "style": "IPY_MODEL_086d1a1de1b54ab39d0c369cfe94babf",
       "value": 88
      }
     },
     "6bb9d5502c6a4ef89ee4c80d32292e91": {
      "model_module": "@jupyter-widgets/base",
      "model_module_version": "1.2.0",
      "model_name": "LayoutModel",
      "state": {}
     },
     "6c96d041c0dc408fb50eb800bb1bb327": {
      "model_module": "@jupyter-widgets/controls",
      "model_module_version": "1.5.0",
      "model_name": "HBoxModel",
      "state": {
       "children": [
        "IPY_MODEL_ca40221bc96a439cbf6106a05843f336",
        "IPY_MODEL_e861d9fefe3246778a2c177082512c86"
       ],
       "layout": "IPY_MODEL_899ce56fe0e04a969748678582447ccf"
      }
     },
     "6c9f1ea103bf4cb8a2ff77250911e9e6": {
      "model_module": "@jupyter-widgets/controls",
      "model_module_version": "1.5.0",
      "model_name": "ProgressStyleModel",
      "state": {
       "description_width": "initial"
      }
     },
     "6e3944a12f244af29025110a7e70d8f1": {
      "model_module": "@jupyter-widgets/base",
      "model_module_version": "1.2.0",
      "model_name": "LayoutModel",
      "state": {}
     },
     "709805b0b854478196157db5c0b4423e": {
      "model_module": "@jupyter-widgets/controls",
      "model_module_version": "1.5.0",
      "model_name": "HTMLModel",
      "state": {
       "layout": "IPY_MODEL_15867d8e327e4ecaaaa471a558eef89a",
       "style": "IPY_MODEL_2709caea253048dea5516c4f8b2fee6e",
       "value": " 22/22 [00:26&lt;00:00,  1.21s/it]"
      }
     },
     "7113fc4ddac447a7a8d18b4629eda2a2": {
      "model_module": "@jupyter-widgets/base",
      "model_module_version": "1.2.0",
      "model_name": "LayoutModel",
      "state": {}
     },
     "713ac9cfb89a42889d89e6ed70a4f9aa": {
      "model_module": "@jupyter-widgets/controls",
      "model_module_version": "1.5.0",
      "model_name": "HBoxModel",
      "state": {
       "children": [
        "IPY_MODEL_6b606be1f5fd432187d1013416842e60",
        "IPY_MODEL_7ee9bda9d79d4221a09303ec33142e3d"
       ],
       "layout": "IPY_MODEL_3639de71a96f4ba2a29f12e6b7271af2"
      }
     },
     "73190ceb6ef8428986ea6fc65bf06c05": {
      "model_module": "@jupyter-widgets/controls",
      "model_module_version": "1.5.0",
      "model_name": "DescriptionStyleModel",
      "state": {
       "description_width": ""
      }
     },
     "7590883c20e34518a884a2c3f3a76ca0": {
      "model_module": "@jupyter-widgets/controls",
      "model_module_version": "1.5.0",
      "model_name": "HTMLModel",
      "state": {
       "layout": "IPY_MODEL_3d31b56854c7425288eb8060def9c5b8",
       "style": "IPY_MODEL_18c635de62b6475bb8649a69826e0dfc",
       "value": " 22/22 [00:16&lt;00:00,  1.33it/s]"
      }
     },
     "77b4f92882ca4ce2a3f5450ea2892749": {
      "model_module": "@jupyter-widgets/controls",
      "model_module_version": "1.5.0",
      "model_name": "ProgressStyleModel",
      "state": {
       "description_width": "initial"
      }
     },
     "78677c5c05964dd0a237249eddb53ec1": {
      "model_module": "@jupyter-widgets/controls",
      "model_module_version": "1.5.0",
      "model_name": "IntProgressModel",
      "state": {
       "bar_style": "success",
       "description": "100%",
       "layout": "IPY_MODEL_ed6d020621b745079dcc8421971edfab",
       "max": 88,
       "style": "IPY_MODEL_9ab6419588db4b4483dc6296d24b8e4e",
       "value": 88
      }
     },
     "78df6be10d4b4970ae18622b9992f410": {
      "model_module": "@jupyter-widgets/base",
      "model_module_version": "1.2.0",
      "model_name": "LayoutModel",
      "state": {}
     },
     "7a2b8a23b37445c9825a44b4cbbe2573": {
      "model_module": "@jupyter-widgets/controls",
      "model_module_version": "1.5.0",
      "model_name": "ProgressStyleModel",
      "state": {
       "description_width": "initial"
      }
     },
     "7b0647ad25544e1da5e0877ca50ee08e": {
      "model_module": "@jupyter-widgets/base",
      "model_module_version": "1.2.0",
      "model_name": "LayoutModel",
      "state": {}
     },
     "7c5286d290dc4949891476519bf59389": {
      "model_module": "@jupyter-widgets/controls",
      "model_module_version": "1.5.0",
      "model_name": "HTMLModel",
      "state": {
       "layout": "IPY_MODEL_07ede4f929004ea39fe945ed05504db1",
       "style": "IPY_MODEL_811d8022e1ca42c983499f300367ede1",
       "value": " 22/22 [00:13&lt;00:00,  1.64it/s]"
      }
     },
     "7d0c6cd41f92437096d6dad005eb3d2f": {
      "model_module": "@jupyter-widgets/base",
      "model_module_version": "1.2.0",
      "model_name": "LayoutModel",
      "state": {}
     },
     "7d53c4fd41cc4fc7b5f24b3ac1f8aa73": {
      "model_module": "@jupyter-widgets/base",
      "model_module_version": "1.2.0",
      "model_name": "LayoutModel",
      "state": {}
     },
     "7d574d327d75472ebe16667da87eca75": {
      "model_module": "@jupyter-widgets/controls",
      "model_module_version": "1.5.0",
      "model_name": "HTMLModel",
      "state": {
       "layout": "IPY_MODEL_ed0bccf55f9043d3808d62383bac5b84",
       "style": "IPY_MODEL_559d3d01b7e342c883448b5574ff8d4e",
       "value": " 88/88 [04:05&lt;00:00,  2.79s/it]"
      }
     },
     "7e285cdb8e0140aa8949f31e26d1b908": {
      "model_module": "@jupyter-widgets/controls",
      "model_module_version": "1.5.0",
      "model_name": "IntProgressModel",
      "state": {
       "bar_style": "success",
       "description": "100%",
       "layout": "IPY_MODEL_8c00b549b45144b4b15287a2a1bed50e",
       "max": 88,
       "style": "IPY_MODEL_eecf08036578493baaaf798a0901267d",
       "value": 88
      }
     },
     "7ee9bda9d79d4221a09303ec33142e3d": {
      "model_module": "@jupyter-widgets/controls",
      "model_module_version": "1.5.0",
      "model_name": "HTMLModel",
      "state": {
       "layout": "IPY_MODEL_f333a2782ebd404e925cc5f2b67f8d68",
       "style": "IPY_MODEL_2dccf3586b4b40d892627ed33c35eb7d",
       "value": " 88/88 [02:23&lt;00:00,  1.63s/it]"
      }
     },
     "7efb72bd10a84fb2b06744204d007bce": {
      "model_module": "@jupyter-widgets/controls",
      "model_module_version": "1.5.0",
      "model_name": "DescriptionStyleModel",
      "state": {
       "description_width": ""
      }
     },
     "7fb309c03b964985b19e5306cf49d9f4": {
      "model_module": "@jupyter-widgets/controls",
      "model_module_version": "1.5.0",
      "model_name": "HTMLModel",
      "state": {
       "layout": "IPY_MODEL_953bbb5885bd4d4b8206f4abd5e66a08",
       "style": "IPY_MODEL_73190ceb6ef8428986ea6fc65bf06c05",
       "value": " 88/88 [04:06&lt;00:00,  2.80s/it]"
      }
     },
     "811d8022e1ca42c983499f300367ede1": {
      "model_module": "@jupyter-widgets/controls",
      "model_module_version": "1.5.0",
      "model_name": "DescriptionStyleModel",
      "state": {
       "description_width": ""
      }
     },
     "81296d32ddfc4f40a11a6082a71e6c94": {
      "model_module": "@jupyter-widgets/controls",
      "model_module_version": "1.5.0",
      "model_name": "DescriptionStyleModel",
      "state": {
       "description_width": ""
      }
     },
     "81d706fe050c4b2587264c547236ecce": {
      "model_module": "@jupyter-widgets/base",
      "model_module_version": "1.2.0",
      "model_name": "LayoutModel",
      "state": {}
     },
     "8311b40e49744584a03b8c9e69aa2513": {
      "model_module": "@jupyter-widgets/controls",
      "model_module_version": "1.5.0",
      "model_name": "HBoxModel",
      "state": {
       "children": [
        "IPY_MODEL_0b45ff26ecc7436db735d3cf0d5284ad",
        "IPY_MODEL_96a5aab0314844e3bcdd57efe5fca780"
       ],
       "layout": "IPY_MODEL_7b0647ad25544e1da5e0877ca50ee08e"
      }
     },
     "836d46e705104d33b7e7249437422893": {
      "model_module": "@jupyter-widgets/controls",
      "model_module_version": "1.5.0",
      "model_name": "HTMLModel",
      "state": {
       "layout": "IPY_MODEL_ab6b800941ea4ca6af4cb72731366858",
       "style": "IPY_MODEL_6b49385016ce418e8c7a40c73da2b877",
       "value": " 22/22 [00:23&lt;00:00,  1.05s/it]"
      }
     },
     "8385f04017de4b47b8111877fd1c924a": {
      "model_module": "@jupyter-widgets/controls",
      "model_module_version": "1.5.0",
      "model_name": "HBoxModel",
      "state": {
       "children": [
        "IPY_MODEL_de7028cac29f4d9db2573f5d6e6a0cd3",
        "IPY_MODEL_30746abcc001463ab824474d36fb7eee"
       ],
       "layout": "IPY_MODEL_4e53cc01b3be46cb8259679b56fb70f4"
      }
     },
     "84482b2c8ba94ebbb1f55f9dc2b389af": {
      "model_module": "@jupyter-widgets/controls",
      "model_module_version": "1.5.0",
      "model_name": "IntProgressModel",
      "state": {
       "bar_style": "success",
       "description": "100%",
       "layout": "IPY_MODEL_b025aef2eb794071b356ec4bbbba3e1f",
       "max": 2,
       "style": "IPY_MODEL_77b4f92882ca4ce2a3f5450ea2892749",
       "value": 2
      }
     },
     "87ef7ff88eed4618be5fdb28dd613110": {
      "model_module": "@jupyter-widgets/base",
      "model_module_version": "1.2.0",
      "model_name": "LayoutModel",
      "state": {}
     },
     "881fa9378b374d3fb5801d19ba6f47f0": {
      "model_module": "@jupyter-widgets/controls",
      "model_module_version": "1.5.0",
      "model_name": "DescriptionStyleModel",
      "state": {
       "description_width": ""
      }
     },
     "899ce56fe0e04a969748678582447ccf": {
      "model_module": "@jupyter-widgets/base",
      "model_module_version": "1.2.0",
      "model_name": "LayoutModel",
      "state": {}
     },
     "8a243e8d6ad44d689a73cffc91bbe531": {
      "model_module": "@jupyter-widgets/controls",
      "model_module_version": "1.5.0",
      "model_name": "DescriptionStyleModel",
      "state": {
       "description_width": ""
      }
     },
     "8bf2fae78f7a46e486fe366196ada892": {
      "model_module": "@jupyter-widgets/controls",
      "model_module_version": "1.5.0",
      "model_name": "ProgressStyleModel",
      "state": {
       "description_width": "initial"
      }
     },
     "8c00b549b45144b4b15287a2a1bed50e": {
      "model_module": "@jupyter-widgets/base",
      "model_module_version": "1.2.0",
      "model_name": "LayoutModel",
      "state": {}
     },
     "8c0ae4067cbe460687142a76fa712813": {
      "model_module": "@jupyter-widgets/base",
      "model_module_version": "1.2.0",
      "model_name": "LayoutModel",
      "state": {}
     },
     "8d4994a348be48d6b6ac29366d089780": {
      "model_module": "@jupyter-widgets/controls",
      "model_module_version": "1.5.0",
      "model_name": "DescriptionStyleModel",
      "state": {
       "description_width": ""
      }
     },
     "8e8ec8d2bd3d46e89cfc1df84416eed2": {
      "model_module": "@jupyter-widgets/base",
      "model_module_version": "1.2.0",
      "model_name": "LayoutModel",
      "state": {}
     },
     "8f6113093c0d48fa867f5fdebe6efb22": {
      "model_module": "@jupyter-widgets/controls",
      "model_module_version": "1.5.0",
      "model_name": "ProgressStyleModel",
      "state": {
       "description_width": "initial"
      }
     },
     "9038e7531404409c80d4cbe5d069c7e5": {
      "model_module": "@jupyter-widgets/controls",
      "model_module_version": "1.5.0",
      "model_name": "HBoxModel",
      "state": {
       "children": [
        "IPY_MODEL_11e0c4f7c3ad441b818c93602c51ad9e",
        "IPY_MODEL_c10ef419dbbe4a4e83d0186303349014"
       ],
       "layout": "IPY_MODEL_14431dee83b0444bb0bbb4661ff6b1c7"
      }
     },
     "9164c2f6096c41cc8e6b1414028d780d": {
      "model_module": "@jupyter-widgets/controls",
      "model_module_version": "1.5.0",
      "model_name": "HBoxModel",
      "state": {
       "children": [
        "IPY_MODEL_53414f368b594c24ad8276d796941ae2",
        "IPY_MODEL_49019fe16e2f43ca94604c036c764667"
       ],
       "layout": "IPY_MODEL_d04f6d95fbf945d8bf2bd03606ffd318"
      }
     },
     "916eaabe2fc54412b8394256b877f54d": {
      "model_module": "@jupyter-widgets/controls",
      "model_module_version": "1.5.0",
      "model_name": "ProgressStyleModel",
      "state": {
       "description_width": "initial"
      }
     },
     "92026fecc1c143c781594c286b4245b6": {
      "model_module": "@jupyter-widgets/base",
      "model_module_version": "1.2.0",
      "model_name": "LayoutModel",
      "state": {}
     },
     "932e826e9a54457fbfa21510bd3dd682": {
      "model_module": "@jupyter-widgets/controls",
      "model_module_version": "1.5.0",
      "model_name": "ProgressStyleModel",
      "state": {
       "description_width": "initial"
      }
     },
     "953bbb5885bd4d4b8206f4abd5e66a08": {
      "model_module": "@jupyter-widgets/base",
      "model_module_version": "1.2.0",
      "model_name": "LayoutModel",
      "state": {}
     },
     "96a5aab0314844e3bcdd57efe5fca780": {
      "model_module": "@jupyter-widgets/controls",
      "model_module_version": "1.5.0",
      "model_name": "HTMLModel",
      "state": {
       "layout": "IPY_MODEL_16c2f3f9295d44eb97452b6bec6c6dcd",
       "style": "IPY_MODEL_bb36bc0e7b5f4a7d825bd66cc4c6e8d6",
       "value": " 22/22 [00:33&lt;00:00,  1.51s/it]"
      }
     },
     "9988c8ae03984840a6c46b0ce7a01997": {
      "model_module": "@jupyter-widgets/controls",
      "model_module_version": "1.5.0",
      "model_name": "IntProgressModel",
      "state": {
       "bar_style": "success",
       "description": "100%",
       "layout": "IPY_MODEL_e6148015c7c143a19055ce049d3d0459",
       "max": 22,
       "style": "IPY_MODEL_f0c8b8e8a36c45f498dca44384f647db",
       "value": 22
      }
     },
     "9a9d157e147f4486bfd85afed8d67e2d": {
      "model_module": "@jupyter-widgets/controls",
      "model_module_version": "1.5.0",
      "model_name": "HTMLModel",
      "state": {
       "layout": "IPY_MODEL_b2d12b849fc74cd4ade573e4855c9439",
       "style": "IPY_MODEL_8a243e8d6ad44d689a73cffc91bbe531",
       "value": " 2/2 [00:20&lt;00:00, 10.48s/it]"
      }
     },
     "9ab6419588db4b4483dc6296d24b8e4e": {
      "model_module": "@jupyter-widgets/controls",
      "model_module_version": "1.5.0",
      "model_name": "ProgressStyleModel",
      "state": {
       "description_width": "initial"
      }
     },
     "9bc79d2c0d0a4d78af5b0b79c4be3ef1": {
      "model_module": "@jupyter-widgets/controls",
      "model_module_version": "1.5.0",
      "model_name": "IntProgressModel",
      "state": {
       "bar_style": "success",
       "description": "100%",
       "layout": "IPY_MODEL_b6d468038df348dc86be542c83fa6c34",
       "max": 88,
       "style": "IPY_MODEL_e545fc7a489b4ccf9b5e800901872a9e",
       "value": 88
      }
     },
     "9c1a5a1cc50748ec8a836e451513e290": {
      "model_module": "@jupyter-widgets/controls",
      "model_module_version": "1.5.0",
      "model_name": "IntProgressModel",
      "state": {
       "bar_style": "success",
       "description": "100%",
       "layout": "IPY_MODEL_532b5c736b924279a950935beef2332e",
       "max": 88,
       "style": "IPY_MODEL_8bf2fae78f7a46e486fe366196ada892",
       "value": 88
      }
     },
     "9ceaa62d498c4d0c89bd79b8b6149744": {
      "model_module": "@jupyter-widgets/base",
      "model_module_version": "1.2.0",
      "model_name": "LayoutModel",
      "state": {}
     },
     "9e0ff406debd401292d002c84ae8103e": {
      "model_module": "@jupyter-widgets/base",
      "model_module_version": "1.2.0",
      "model_name": "LayoutModel",
      "state": {}
     },
     "9f2c814448f34e13bed194ea9231dc01": {
      "model_module": "@jupyter-widgets/base",
      "model_module_version": "1.2.0",
      "model_name": "LayoutModel",
      "state": {}
     },
     "9f31aad6ea96440ea54f84ab47cb8e94": {
      "model_module": "@jupyter-widgets/controls",
      "model_module_version": "1.5.0",
      "model_name": "IntProgressModel",
      "state": {
       "bar_style": "success",
       "description": "100%",
       "layout": "IPY_MODEL_e03fee8f1a164129bf15e42c778c3beb",
       "max": 8,
       "style": "IPY_MODEL_6010d30f4b5e42d287ada7d8f86fee70",
       "value": 8
      }
     },
     "9fd766d9ef21464e8a09905aa6b5c760": {
      "model_module": "@jupyter-widgets/controls",
      "model_module_version": "1.5.0",
      "model_name": "DescriptionStyleModel",
      "state": {
       "description_width": ""
      }
     },
     "a0b86def42274949b48e5037823653da": {
      "model_module": "@jupyter-widgets/controls",
      "model_module_version": "1.5.0",
      "model_name": "DescriptionStyleModel",
      "state": {
       "description_width": ""
      }
     },
     "a0d99e7706ea4cb4b2bd1bfcd422cf8a": {
      "model_module": "@jupyter-widgets/controls",
      "model_module_version": "1.5.0",
      "model_name": "HBoxModel",
      "state": {
       "children": [
        "IPY_MODEL_c0829241365649e1b0e488f357766796",
        "IPY_MODEL_62e15b10d9a84a918f016227e581bce3"
       ],
       "layout": "IPY_MODEL_d51e8aa07a9d445f9a4540827e5fbb34"
      }
     },
     "a161be819f894785862549470db5d179": {
      "model_module": "@jupyter-widgets/base",
      "model_module_version": "1.2.0",
      "model_name": "LayoutModel",
      "state": {}
     },
     "a2463ce15d0e4c918cab3cb195b2f935": {
      "model_module": "@jupyter-widgets/controls",
      "model_module_version": "1.5.0",
      "model_name": "HBoxModel",
      "state": {
       "children": [
        "IPY_MODEL_64cff099ac724ac4b38b1b2a94f1e3eb",
        "IPY_MODEL_35fa85ec555a4a39beda222bd2d46e60"
       ],
       "layout": "IPY_MODEL_ba26aa378f584af3934a9d9af15fcdd6"
      }
     },
     "a3d937a0518e434aa870a6d1c8474b61": {
      "model_module": "@jupyter-widgets/controls",
      "model_module_version": "1.5.0",
      "model_name": "ProgressStyleModel",
      "state": {
       "description_width": "initial"
      }
     },
     "a4d65f28a4ad4159896f9ee861c45523": {
      "model_module": "@jupyter-widgets/base",
      "model_module_version": "1.2.0",
      "model_name": "LayoutModel",
      "state": {}
     },
     "a58e033e91b2427bb86bede8e49b7c47": {
      "model_module": "@jupyter-widgets/controls",
      "model_module_version": "1.5.0",
      "model_name": "ProgressStyleModel",
      "state": {
       "description_width": "initial"
      }
     },
     "a5f3adf1dc284c45abf6aa71761d1e81": {
      "model_module": "@jupyter-widgets/controls",
      "model_module_version": "1.5.0",
      "model_name": "DescriptionStyleModel",
      "state": {
       "description_width": ""
      }
     },
     "a69c5fe8589e492097f006a3bd708bba": {
      "model_module": "@jupyter-widgets/base",
      "model_module_version": "1.2.0",
      "model_name": "LayoutModel",
      "state": {}
     },
     "a6ae61aaba4b4ce7a186d5aa0e2e9a18": {
      "model_module": "@jupyter-widgets/controls",
      "model_module_version": "1.5.0",
      "model_name": "ProgressStyleModel",
      "state": {
       "description_width": "initial"
      }
     },
     "a8bbac8591a24574b9fad2dc60468b56": {
      "model_module": "@jupyter-widgets/controls",
      "model_module_version": "1.5.0",
      "model_name": "HTMLModel",
      "state": {
       "layout": "IPY_MODEL_31bef35dc61941e997b93ba67159c852",
       "style": "IPY_MODEL_44f21f5b2594419d92b404be4cf97d8c",
       "value": " 8/8 [01:18&lt;00:00,  9.79s/it]"
      }
     },
     "a9025999d5dc4d8b9114170cf0c12cbe": {
      "model_module": "@jupyter-widgets/controls",
      "model_module_version": "1.5.0",
      "model_name": "HTMLModel",
      "state": {
       "layout": "IPY_MODEL_460fb5e69ca94e50979b455039e5080a",
       "style": "IPY_MODEL_3303b6a8dc4142159c81c478a688d2f5",
       "value": " 16/16 [00:24&lt;00:00,  1.51s/it]"
      }
     },
     "a9982416df194cf2976c39da56e1c00e": {
      "model_module": "@jupyter-widgets/base",
      "model_module_version": "1.2.0",
      "model_name": "LayoutModel",
      "state": {}
     },
     "ab4a407681694b65b9a19616cc9940e0": {
      "model_module": "@jupyter-widgets/controls",
      "model_module_version": "1.5.0",
      "model_name": "HBoxModel",
      "state": {
       "children": [
        "IPY_MODEL_e04e6966dbfa46d4895644a07c27afa2",
        "IPY_MODEL_6a59b128700f479f9cbe69f996e229cb"
       ],
       "layout": "IPY_MODEL_7113fc4ddac447a7a8d18b4629eda2a2"
      }
     },
     "ab6b800941ea4ca6af4cb72731366858": {
      "model_module": "@jupyter-widgets/base",
      "model_module_version": "1.2.0",
      "model_name": "LayoutModel",
      "state": {}
     },
     "abf7185f26d045dc8d548b9be29ffac9": {
      "model_module": "@jupyter-widgets/controls",
      "model_module_version": "1.5.0",
      "model_name": "IntProgressModel",
      "state": {
       "bar_style": "success",
       "description": "100%",
       "layout": "IPY_MODEL_338640aaa27b40cdb0bed3f008a9284a",
       "max": 88,
       "style": "IPY_MODEL_a58e033e91b2427bb86bede8e49b7c47",
       "value": 88
      }
     },
     "ac7b7a1a15b747d3a86a8dfca7346000": {
      "model_module": "@jupyter-widgets/base",
      "model_module_version": "1.2.0",
      "model_name": "LayoutModel",
      "state": {}
     },
     "ad2e880f2cf942b4a17be0a3b1c8c746": {
      "model_module": "@jupyter-widgets/controls",
      "model_module_version": "1.5.0",
      "model_name": "IntProgressModel",
      "state": {
       "bar_style": "success",
       "description": "100%",
       "layout": "IPY_MODEL_92026fecc1c143c781594c286b4245b6",
       "max": 2,
       "style": "IPY_MODEL_7a2b8a23b37445c9825a44b4cbbe2573",
       "value": 2
      }
     },
     "ad5708cf4048405090064a3c60a71dc0": {
      "model_module": "@jupyter-widgets/controls",
      "model_module_version": "1.5.0",
      "model_name": "HTMLModel",
      "state": {
       "layout": "IPY_MODEL_13da2081274f4e758560405a80af16dd",
       "style": "IPY_MODEL_114af404c8ef40b6b391859cea92979b",
       "value": " 22/22 [00:32&lt;00:00,  1.46s/it]"
      }
     },
     "adb60b960586467a9247a0e0f427833a": {
      "model_module": "@jupyter-widgets/controls",
      "model_module_version": "1.5.0",
      "model_name": "HBoxModel",
      "state": {
       "children": [
        "IPY_MODEL_9c1a5a1cc50748ec8a836e451513e290",
        "IPY_MODEL_7d574d327d75472ebe16667da87eca75"
       ],
       "layout": "IPY_MODEL_a161be819f894785862549470db5d179"
      }
     },
     "b025aef2eb794071b356ec4bbbba3e1f": {
      "model_module": "@jupyter-widgets/base",
      "model_module_version": "1.2.0",
      "model_name": "LayoutModel",
      "state": {}
     },
     "b0ba04f8d9384edc9cac86df57e8f701": {
      "model_module": "@jupyter-widgets/controls",
      "model_module_version": "1.5.0",
      "model_name": "DescriptionStyleModel",
      "state": {
       "description_width": ""
      }
     },
     "b0dfe02485c348b7af8bbfe258d287f7": {
      "model_module": "@jupyter-widgets/controls",
      "model_module_version": "1.5.0",
      "model_name": "HBoxModel",
      "state": {
       "children": [
        "IPY_MODEL_7e285cdb8e0140aa8949f31e26d1b908",
        "IPY_MODEL_ff334c86fcf24460a6c0ecf7a701c6e5"
       ],
       "layout": "IPY_MODEL_e74cb805a1d0488ebdfab80a9f6c6ef5"
      }
     },
     "b11a004cac844fac8961dd739572e1ae": {
      "model_module": "@jupyter-widgets/controls",
      "model_module_version": "1.5.0",
      "model_name": "HBoxModel",
      "state": {
       "children": [
        "IPY_MODEL_52397c3a64ff46a2b92853c6e416f5b6",
        "IPY_MODEL_1e62b88135e74c9298998c43b82bb56d"
       ],
       "layout": "IPY_MODEL_7d0c6cd41f92437096d6dad005eb3d2f"
      }
     },
     "b2a3544b8a4848bc8b0db88bce3b9815": {
      "model_module": "@jupyter-widgets/base",
      "model_module_version": "1.2.0",
      "model_name": "LayoutModel",
      "state": {}
     },
     "b2c43c639374491a9a173bc4e140f7b4": {
      "model_module": "@jupyter-widgets/base",
      "model_module_version": "1.2.0",
      "model_name": "LayoutModel",
      "state": {}
     },
     "b2d12b849fc74cd4ade573e4855c9439": {
      "model_module": "@jupyter-widgets/base",
      "model_module_version": "1.2.0",
      "model_name": "LayoutModel",
      "state": {}
     },
     "b5d5115c942b4dca8ab2599924842cfa": {
      "model_module": "@jupyter-widgets/controls",
      "model_module_version": "1.5.0",
      "model_name": "IntProgressModel",
      "state": {
       "bar_style": "success",
       "description": "100%",
       "layout": "IPY_MODEL_fc272aad79b1474d8a8dfda09b1aa96d",
       "max": 22,
       "style": "IPY_MODEL_932e826e9a54457fbfa21510bd3dd682",
       "value": 22
      }
     },
     "b6d468038df348dc86be542c83fa6c34": {
      "model_module": "@jupyter-widgets/base",
      "model_module_version": "1.2.0",
      "model_name": "LayoutModel",
      "state": {}
     },
     "b91de7ba076546e18e513d114f26eac6": {
      "model_module": "@jupyter-widgets/controls",
      "model_module_version": "1.5.0",
      "model_name": "ProgressStyleModel",
      "state": {
       "description_width": "initial"
      }
     },
     "ba26aa378f584af3934a9d9af15fcdd6": {
      "model_module": "@jupyter-widgets/base",
      "model_module_version": "1.2.0",
      "model_name": "LayoutModel",
      "state": {}
     },
     "bb36bc0e7b5f4a7d825bd66cc4c6e8d6": {
      "model_module": "@jupyter-widgets/controls",
      "model_module_version": "1.5.0",
      "model_name": "DescriptionStyleModel",
      "state": {
       "description_width": ""
      }
     },
     "c0829241365649e1b0e488f357766796": {
      "model_module": "@jupyter-widgets/controls",
      "model_module_version": "1.5.0",
      "model_name": "IntProgressModel",
      "state": {
       "bar_style": "success",
       "description": "100%",
       "layout": "IPY_MODEL_5ee7b961049a4b01a46633985a07600f",
       "max": 22,
       "style": "IPY_MODEL_62079ef339e14c3f9e8935cca1aabc6b",
       "value": 22
      }
     },
     "c09cfd90ced14ca297e366f240d0f9fa": {
      "model_module": "@jupyter-widgets/controls",
      "model_module_version": "1.5.0",
      "model_name": "HTMLModel",
      "state": {
       "layout": "IPY_MODEL_6e3944a12f244af29025110a7e70d8f1",
       "style": "IPY_MODEL_9fd766d9ef21464e8a09905aa6b5c760",
       "value": " 2/2 [00:06&lt;00:00,  3.06s/it]"
      }
     },
     "c10ef419dbbe4a4e83d0186303349014": {
      "model_module": "@jupyter-widgets/controls",
      "model_module_version": "1.5.0",
      "model_name": "HTMLModel",
      "state": {
       "layout": "IPY_MODEL_6468f61684734aae8c59e15f2393f0f2",
       "style": "IPY_MODEL_ccb43f6ae30242418f3222d9c04501be",
       "value": " 22/22 [00:46&lt;00:00,  2.12s/it]"
      }
     },
     "c39d03ba21104e5ea838dff691d0829b": {
      "model_module": "@jupyter-widgets/controls",
      "model_module_version": "1.5.0",
      "model_name": "DescriptionStyleModel",
      "state": {
       "description_width": ""
      }
     },
     "c459a1d8b4e5408fb1f18a64aa102396": {
      "model_module": "@jupyter-widgets/controls",
      "model_module_version": "1.5.0",
      "model_name": "HBoxModel",
      "state": {
       "children": [
        "IPY_MODEL_9bc79d2c0d0a4d78af5b0b79c4be3ef1",
        "IPY_MODEL_39101e9516124e3f9198234797d5e9c8"
       ],
       "layout": "IPY_MODEL_65786780cca94d2a81e0ecf722700032"
      }
     },
     "c784d350416342f4996f65d7d0a1efe8": {
      "model_module": "@jupyter-widgets/controls",
      "model_module_version": "1.5.0",
      "model_name": "IntProgressModel",
      "state": {
       "bar_style": "success",
       "description": "100%",
       "layout": "IPY_MODEL_a9982416df194cf2976c39da56e1c00e",
       "max": 22,
       "style": "IPY_MODEL_fe96c66bf15943c08b1d554fa2ec3b4e",
       "value": 22
      }
     },
     "c786f3e9c6d047e8943aa198ac376b70": {
      "model_module": "@jupyter-widgets/controls",
      "model_module_version": "1.5.0",
      "model_name": "ProgressStyleModel",
      "state": {
       "description_width": "initial"
      }
     },
     "c8839a780ee442ac98529bd0b19b61f8": {
      "model_module": "@jupyter-widgets/base",
      "model_module_version": "1.2.0",
      "model_name": "LayoutModel",
      "state": {}
     },
     "ca40221bc96a439cbf6106a05843f336": {
      "model_module": "@jupyter-widgets/controls",
      "model_module_version": "1.5.0",
      "model_name": "IntProgressModel",
      "state": {
       "bar_style": "danger",
       "description": " 22%",
       "layout": "IPY_MODEL_b2c43c639374491a9a173bc4e140f7b4",
       "max": 88,
       "style": "IPY_MODEL_cdec7f9122734d47a7aa2ce739d5ffd3",
       "value": 19
      }
     },
     "cc7bccd69c3a4c87b4083da9e7a992d3": {
      "model_module": "@jupyter-widgets/controls",
      "model_module_version": "1.5.0",
      "model_name": "HBoxModel",
      "state": {
       "children": [
        "IPY_MODEL_b5d5115c942b4dca8ab2599924842cfa",
        "IPY_MODEL_836d46e705104d33b7e7249437422893"
       ],
       "layout": "IPY_MODEL_fb58986f74d7472799dbf08df5d06c14"
      }
     },
     "ccb43f6ae30242418f3222d9c04501be": {
      "model_module": "@jupyter-widgets/controls",
      "model_module_version": "1.5.0",
      "model_name": "DescriptionStyleModel",
      "state": {
       "description_width": ""
      }
     },
     "cdec7f9122734d47a7aa2ce739d5ffd3": {
      "model_module": "@jupyter-widgets/controls",
      "model_module_version": "1.5.0",
      "model_name": "ProgressStyleModel",
      "state": {
       "description_width": "initial"
      }
     },
     "d04f6d95fbf945d8bf2bd03606ffd318": {
      "model_module": "@jupyter-widgets/base",
      "model_module_version": "1.2.0",
      "model_name": "LayoutModel",
      "state": {}
     },
     "d184d9919dfc4cf89dc8fa27dc7ce724": {
      "model_module": "@jupyter-widgets/controls",
      "model_module_version": "1.5.0",
      "model_name": "HBoxModel",
      "state": {
       "children": [
        "IPY_MODEL_78677c5c05964dd0a237249eddb53ec1",
        "IPY_MODEL_e3be0c0cdb9d441a9db62798c7c6dc99"
       ],
       "layout": "IPY_MODEL_9ceaa62d498c4d0c89bd79b8b6149744"
      }
     },
     "d22847aaa55b463facbf1dc105a45c69": {
      "model_module": "@jupyter-widgets/base",
      "model_module_version": "1.2.0",
      "model_name": "LayoutModel",
      "state": {}
     },
     "d51e8aa07a9d445f9a4540827e5fbb34": {
      "model_module": "@jupyter-widgets/base",
      "model_module_version": "1.2.0",
      "model_name": "LayoutModel",
      "state": {}
     },
     "d935de5c4cc3455fad7a1ebccf4ec4ed": {
      "model_module": "@jupyter-widgets/base",
      "model_module_version": "1.2.0",
      "model_name": "LayoutModel",
      "state": {}
     },
     "dbc0d79044994a77b6a643c125c4e1cc": {
      "model_module": "@jupyter-widgets/base",
      "model_module_version": "1.2.0",
      "model_name": "LayoutModel",
      "state": {}
     },
     "de3f55849db245ceaef1f9bd9c22e871": {
      "model_module": "@jupyter-widgets/controls",
      "model_module_version": "1.5.0",
      "model_name": "ProgressStyleModel",
      "state": {
       "description_width": "initial"
      }
     },
     "de7028cac29f4d9db2573f5d6e6a0cd3": {
      "model_module": "@jupyter-widgets/controls",
      "model_module_version": "1.5.0",
      "model_name": "IntProgressModel",
      "state": {
       "bar_style": "success",
       "description": "100%",
       "layout": "IPY_MODEL_a69c5fe8589e492097f006a3bd708bba",
       "max": 16,
       "style": "IPY_MODEL_5f6a8828908348dc9aafe1e2cf5c9bae",
       "value": 16
      }
     },
     "dea9de9a4f704bbeba00113f0dfca160": {
      "model_module": "@jupyter-widgets/controls",
      "model_module_version": "1.5.0",
      "model_name": "IntProgressModel",
      "state": {
       "bar_style": "success",
       "description": "100%",
       "layout": "IPY_MODEL_f098147e36f64b099a081103a5aff9f2",
       "max": 88,
       "style": "IPY_MODEL_b91de7ba076546e18e513d114f26eac6",
       "value": 88
      }
     },
     "df5c7018c5b443bcaaa45f9bede8a6f5": {
      "model_module": "@jupyter-widgets/base",
      "model_module_version": "1.2.0",
      "model_name": "LayoutModel",
      "state": {}
     },
     "e03fee8f1a164129bf15e42c778c3beb": {
      "model_module": "@jupyter-widgets/base",
      "model_module_version": "1.2.0",
      "model_name": "LayoutModel",
      "state": {}
     },
     "e04e6966dbfa46d4895644a07c27afa2": {
      "model_module": "@jupyter-widgets/controls",
      "model_module_version": "1.5.0",
      "model_name": "IntProgressModel",
      "state": {
       "bar_style": "success",
       "description": "100%",
       "layout": "IPY_MODEL_eee66e8869b343adb6aab1cd1ad2fb6e",
       "max": 22,
       "style": "IPY_MODEL_916eaabe2fc54412b8394256b877f54d",
       "value": 22
      }
     },
     "e3adf5d3933a45108bc5e57d008ae394": {
      "model_module": "@jupyter-widgets/base",
      "model_module_version": "1.2.0",
      "model_name": "LayoutModel",
      "state": {}
     },
     "e3be0c0cdb9d441a9db62798c7c6dc99": {
      "model_module": "@jupyter-widgets/controls",
      "model_module_version": "1.5.0",
      "model_name": "HTMLModel",
      "state": {
       "layout": "IPY_MODEL_ebfeaab4263c4b5baf21209707f08850",
       "style": "IPY_MODEL_552718d7819a4e82a6e2e5ec1a3bbb7d",
       "value": " 88/88 [04:05&lt;00:00,  2.78s/it]"
      }
     },
     "e50940a69a9446cda4f3f4f64e12a4b9": {
      "model_module": "@jupyter-widgets/base",
      "model_module_version": "1.2.0",
      "model_name": "LayoutModel",
      "state": {}
     },
     "e545fc7a489b4ccf9b5e800901872a9e": {
      "model_module": "@jupyter-widgets/controls",
      "model_module_version": "1.5.0",
      "model_name": "ProgressStyleModel",
      "state": {
       "description_width": "initial"
      }
     },
     "e6148015c7c143a19055ce049d3d0459": {
      "model_module": "@jupyter-widgets/base",
      "model_module_version": "1.2.0",
      "model_name": "LayoutModel",
      "state": {}
     },
     "e74cb805a1d0488ebdfab80a9f6c6ef5": {
      "model_module": "@jupyter-widgets/base",
      "model_module_version": "1.2.0",
      "model_name": "LayoutModel",
      "state": {}
     },
     "e7dcec8e23c945b38616182f8a29f836": {
      "model_module": "@jupyter-widgets/controls",
      "model_module_version": "1.5.0",
      "model_name": "ProgressStyleModel",
      "state": {
       "description_width": "initial"
      }
     },
     "e861d9fefe3246778a2c177082512c86": {
      "model_module": "@jupyter-widgets/controls",
      "model_module_version": "1.5.0",
      "model_name": "HTMLModel",
      "state": {
       "layout": "IPY_MODEL_fb3fc5cde8d7434d927b1ef6ae97c0ef",
       "style": "IPY_MODEL_b0ba04f8d9384edc9cac86df57e8f701",
       "value": " 19/88 [00:55&lt;03:11,  2.78s/it]"
      }
     },
     "e87110f06a414cc384351752bc0f0132": {
      "model_module": "@jupyter-widgets/base",
      "model_module_version": "1.2.0",
      "model_name": "LayoutModel",
      "state": {}
     },
     "e900111a0aed4098b3c1ba55049a9b4e": {
      "model_module": "@jupyter-widgets/base",
      "model_module_version": "1.2.0",
      "model_name": "LayoutModel",
      "state": {}
     },
     "e9e95f9504e74aa7af35bcae03424449": {
      "model_module": "@jupyter-widgets/controls",
      "model_module_version": "1.5.0",
      "model_name": "IntProgressModel",
      "state": {
       "bar_style": "success",
       "description": "100%",
       "layout": "IPY_MODEL_4abbd18298754503bd1e11e9b1ff094c",
       "max": 22,
       "style": "IPY_MODEL_6c9f1ea103bf4cb8a2ff77250911e9e6",
       "value": 22
      }
     },
     "ebfeaab4263c4b5baf21209707f08850": {
      "model_module": "@jupyter-widgets/base",
      "model_module_version": "1.2.0",
      "model_name": "LayoutModel",
      "state": {}
     },
     "ed0bccf55f9043d3808d62383bac5b84": {
      "model_module": "@jupyter-widgets/base",
      "model_module_version": "1.2.0",
      "model_name": "LayoutModel",
      "state": {}
     },
     "ed6d020621b745079dcc8421971edfab": {
      "model_module": "@jupyter-widgets/base",
      "model_module_version": "1.2.0",
      "model_name": "LayoutModel",
      "state": {}
     },
     "ee674b318ead45e2b7744534e2dddd25": {
      "model_module": "@jupyter-widgets/base",
      "model_module_version": "1.2.0",
      "model_name": "LayoutModel",
      "state": {}
     },
     "eecf08036578493baaaf798a0901267d": {
      "model_module": "@jupyter-widgets/controls",
      "model_module_version": "1.5.0",
      "model_name": "ProgressStyleModel",
      "state": {
       "description_width": "initial"
      }
     },
     "eee66e8869b343adb6aab1cd1ad2fb6e": {
      "model_module": "@jupyter-widgets/base",
      "model_module_version": "1.2.0",
      "model_name": "LayoutModel",
      "state": {}
     },
     "ef9043e8d30e405faed15438dd252889": {
      "model_module": "@jupyter-widgets/controls",
      "model_module_version": "1.5.0",
      "model_name": "HTMLModel",
      "state": {
       "layout": "IPY_MODEL_3e1d430d03dd416da3bfe53be5b9ed33",
       "style": "IPY_MODEL_a5f3adf1dc284c45abf6aa71761d1e81",
       "value": " 88/88 [02:25&lt;00:00,  1.65s/it]"
      }
     },
     "f098147e36f64b099a081103a5aff9f2": {
      "model_module": "@jupyter-widgets/base",
      "model_module_version": "1.2.0",
      "model_name": "LayoutModel",
      "state": {}
     },
     "f0c8b8e8a36c45f498dca44384f647db": {
      "model_module": "@jupyter-widgets/controls",
      "model_module_version": "1.5.0",
      "model_name": "ProgressStyleModel",
      "state": {
       "description_width": "initial"
      }
     },
     "f333a2782ebd404e925cc5f2b67f8d68": {
      "model_module": "@jupyter-widgets/base",
      "model_module_version": "1.2.0",
      "model_name": "LayoutModel",
      "state": {}
     },
     "f5874a6acedf4afab035d498bd2f2a35": {
      "model_module": "@jupyter-widgets/controls",
      "model_module_version": "1.5.0",
      "model_name": "IntProgressModel",
      "state": {
       "bar_style": "success",
       "description": "100%",
       "layout": "IPY_MODEL_55f9952f95d6438bbb86f3dc071301e9",
       "max": 22,
       "style": "IPY_MODEL_e7dcec8e23c945b38616182f8a29f836",
       "value": 22
      }
     },
     "f9371124d24d4b95b89f0cbdbe6097c9": {
      "model_module": "@jupyter-widgets/controls",
      "model_module_version": "1.5.0",
      "model_name": "HBoxModel",
      "state": {
       "children": [
        "IPY_MODEL_50d56e9033b64987bc86391afeae5dcd",
        "IPY_MODEL_7fb309c03b964985b19e5306cf49d9f4"
       ],
       "layout": "IPY_MODEL_e900111a0aed4098b3c1ba55049a9b4e"
      }
     },
     "f95b48843f7448da9297625873edb85e": {
      "model_module": "@jupyter-widgets/controls",
      "model_module_version": "1.5.0",
      "model_name": "HBoxModel",
      "state": {
       "children": [
        "IPY_MODEL_f5874a6acedf4afab035d498bd2f2a35",
        "IPY_MODEL_017428ed0c4a4bf5ac8724170e687380"
       ],
       "layout": "IPY_MODEL_c8839a780ee442ac98529bd0b19b61f8"
      }
     },
     "fa3ea4c4dcde45e5b80844f3c51a93f4": {
      "model_module": "@jupyter-widgets/controls",
      "model_module_version": "1.5.0",
      "model_name": "HBoxModel",
      "state": {
       "children": [
        "IPY_MODEL_9988c8ae03984840a6c46b0ce7a01997",
        "IPY_MODEL_7c5286d290dc4949891476519bf59389"
       ],
       "layout": "IPY_MODEL_52919cc9ec934ee8abbcdc49e4416406"
      }
     },
     "fa4cd41a08cf4e569f8d584e08551fec": {
      "model_module": "@jupyter-widgets/base",
      "model_module_version": "1.2.0",
      "model_name": "LayoutModel",
      "state": {}
     },
     "fb3fc5cde8d7434d927b1ef6ae97c0ef": {
      "model_module": "@jupyter-widgets/base",
      "model_module_version": "1.2.0",
      "model_name": "LayoutModel",
      "state": {}
     },
     "fb58986f74d7472799dbf08df5d06c14": {
      "model_module": "@jupyter-widgets/base",
      "model_module_version": "1.2.0",
      "model_name": "LayoutModel",
      "state": {}
     },
     "fc272aad79b1474d8a8dfda09b1aa96d": {
      "model_module": "@jupyter-widgets/base",
      "model_module_version": "1.2.0",
      "model_name": "LayoutModel",
      "state": {}
     },
     "fda0f562c6ca45919ae39675fa36acf9": {
      "model_module": "@jupyter-widgets/controls",
      "model_module_version": "1.5.0",
      "model_name": "DescriptionStyleModel",
      "state": {
       "description_width": ""
      }
     },
     "fe96c66bf15943c08b1d554fa2ec3b4e": {
      "model_module": "@jupyter-widgets/controls",
      "model_module_version": "1.5.0",
      "model_name": "ProgressStyleModel",
      "state": {
       "description_width": "initial"
      }
     },
     "ff334c86fcf24460a6c0ecf7a701c6e5": {
      "model_module": "@jupyter-widgets/controls",
      "model_module_version": "1.5.0",
      "model_name": "HTMLModel",
      "state": {
       "layout": "IPY_MODEL_df5c7018c5b443bcaaa45f9bede8a6f5",
       "style": "IPY_MODEL_27a3df9a874f4a8a86eab571605b5ee4",
       "value": " 88/88 [02:11&lt;00:00,  1.49s/it]"
      }
     },
     "ff93a6e120fa48419517c61d34b3c9d5": {
      "model_module": "@jupyter-widgets/base",
      "model_module_version": "1.2.0",
      "model_name": "LayoutModel",
      "state": {}
     }
    },
    "version_major": 2,
    "version_minor": 0
   }
  }
 },
 "nbformat": 4,
 "nbformat_minor": 4
}
