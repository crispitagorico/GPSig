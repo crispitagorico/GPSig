{
 "cells": [
  {
   "cell_type": "code",
   "execution_count": 2,
   "metadata": {},
   "outputs": [],
   "source": [
    "import os\n",
    "\n",
    "os.environ['CUDA_VISIBLE_DEVICES'] = ''\n",
    "\n",
    "import glob\n",
    "import numpy as np\n",
    "import pickle\n",
    "import pandas as pd\n",
    "\n",
    "from settings import *"
   ]
  },
  {
   "cell_type": "code",
   "execution_count": null,
   "metadata": {},
   "outputs": [
    {
     "name": "stdout",
     "output_type": "stream",
     "text": [
      "Warning: Missing result file ./results/Laplace/DuckDuckGeese_M200_L200_D5000.pkl...\n",
      "Warning: Missing result file ./results/Laplace/DuckDuckGeese_M200_L500_D5000.pkl...\n"
     ]
    }
   ],
   "source": [
    "SIGNIFICANCE_LEVEL = 5\n",
    "results_dict = {}\n",
    "exp_params = [(m, TS_max_dim, TS_max_len) for m in NUM_SAMPLES for TS_max_dim in DIM_STATE_SPACE for TS_max_len in LEN_SEQUENCE]\n",
    "for kernel_name in KERNELS:\n",
    "    for dataset_name in DATASETS:\n",
    "        for m, TS_max_dim, TS_max_len in exp_params:\n",
    "            result_filepath = os.path.join(RESULTS_DIR, kernel_name, '{}_M{}_L{}_D{}.pkl'.format(dataset_name, m, TS_max_len, TS_max_dim))\n",
    "            if os.path.exists(result_filepath):\n",
    "                with open(result_filepath, 'rb') as f:\n",
    "                    result_dict = pickle.load(f)\n",
    "                for hyp in ['H0', 'H1']:\n",
    "                    if len(result_dict[hyp]) < NUM_REPETITIONS:\n",
    "                        print('Warning: Result file {} only has {} repetitions for {}'.format(result_filepath, len(result_dict[hyp]), hyp))\n",
    "                    key = (m, TS_max_len, TS_max_dim, hyp)\n",
    "                    if key not in results_dict:\n",
    "                        results_dict[key] = {}\n",
    "                    if kernel_name not in results_dict[key]:\n",
    "                        results_dict[key][kernel_name] = []\n",
    "                    results = []\n",
    "                    for i, rep in enumerate(result_dict[hyp]):\n",
    "                        stat, hist = rep[0], rep[1]\n",
    "                        perc = np.percentile(hist, 100 - SIGNIFICANCE_LEVEL)\n",
    "                        results.append(int(stat > perc))\n",
    "                    results_dict[key][kernel_name].append(np.mean(results))\n",
    "            else:\n",
    "                print('Warning: Missing result file {}...'.format(result_filepath))\n",
    "                for hyp in ['H0', 'H1']:\n",
    "                    key = (m, TS_max_len, TS_max_dim, hyp)\n",
    "                    if key not in results_dict:\n",
    "                        results_dict[key] = {}\n",
    "                    if kernel_name not in results_dict[key]:\n",
    "                        results_dict[key][kernel_name] = []\n",
    "                    results_dict[key][kernel_name].append(float('nan'))"
   ]
  },
  {
   "cell_type": "code",
   "execution_count": null,
   "metadata": {},
   "outputs": [],
   "source": [
    "from IPython.display import display\n",
    "for m, TS_max_dim, TS_max_len in exp_params:\n",
    "    for hyp in ['H0', 'H1']:\n",
    "        print('Samples: {}, Length: {}, Dimension: {} - {}'.format(m, TS_max_len, TS_max_dim, hyp))\n",
    "        key = (m, TS_max_len, TS_max_dim, hyp)\n",
    "        df = pd.DataFrame.from_dict(results_dict[key]).rename(index={i:k for i, k in enumerate(DATASETS)})\n",
    "        display(df)"
   ]
  },
  {
   "cell_type": "code",
   "execution_count": null,
   "metadata": {},
   "outputs": [],
   "source": []
  },
  {
   "cell_type": "code",
   "execution_count": null,
   "metadata": {},
   "outputs": [],
   "source": []
  }
 ],
 "metadata": {
  "kernelspec": {
   "display_name": "Python 3 (Havok2)",
   "language": "python",
   "name": "havok_env2"
  },
  "language_info": {
   "codemirror_mode": {
    "name": "ipython",
    "version": 3
   },
   "file_extension": ".py",
   "mimetype": "text/x-python",
   "name": "python",
   "nbconvert_exporter": "python",
   "pygments_lexer": "ipython3",
   "version": "3.7.9"
  },
  "widgets": {
   "application/vnd.jupyter.widget-state+json": {
    "state": {},
    "version_major": 2,
    "version_minor": 0
   }
  }
 },
 "nbformat": 4,
 "nbformat_minor": 4
}
