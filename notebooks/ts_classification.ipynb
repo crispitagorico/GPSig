{
 "cells": [
  {
   "cell_type": "markdown",
   "metadata": {},
   "source": [
    "## Time Series Classification using Gaussian processes with Signature Covariances\n",
    "#### _Using SVGP with SignatureRBF kernel over sequences and inducing tensors as inducing point locations_\n",
    "_Dataset: LIngua BRAsileira de Sinais (LIBRAS)_\n",
    "***"
   ]
  },
  {
   "cell_type": "code",
   "execution_count": 2,
   "metadata": {},
   "outputs": [],
   "source": [
    "# imports\n",
    "import os\n",
    "os.environ['CUDA_VISIBLE_DEVICES'] = '3'\n",
    "\n",
    "import sys\n",
    "sys.path.append('..') # add to path parent dir of gpsig\n",
    "\n",
    "# computations\n",
    "import numpy as np\n",
    "import tensorflow as tf\n",
    "tf.logging.set_verbosity(tf.logging.ERROR)\n",
    "import gpflow as gp\n",
    "import gpsig\n",
    "\n",
    "# preprocessing, model evaluation\n",
    "from sklearn.model_selection import train_test_split\n",
    "from sklearn.preprocessing import StandardScaler\n",
    "from sklearn.metrics import accuracy_score, classification_report\n",
    "\n",
    "# plotting\n",
    "import matplotlib.pyplot as plt\n",
    "plt.style.use('seaborn-darkgrid')\n",
    "\n",
    "# data loading\n",
    "import requests, zipfile, io\n",
    "from sktime.utils.load_data import load_from_arff_to_dataframe"
   ]
  },
  {
   "cell_type": "markdown",
   "metadata": {},
   "source": [
    "***\n",
    "### Load dataset\n",
    "Load a multivariate time series dataset (LIBRAS) from timeseriesclassification.com (https://arxiv.org/abs/1811.00075).\n",
    "\n",
    "__LIBRAS__ is an acronym for the official Brazilian sign language. The dataset consists of 15 classes with 24 instances each. Each example corresponds to a 2-dimensional curve followed by the hand while performing the given sign with 45 time-observations."
   ]
  },
  {
   "cell_type": "code",
   "execution_count": 3,
   "metadata": {},
   "outputs": [],
   "source": [
    "dataset_name = 'Libras'\n",
    "dataset_url = 'https://timeseriesclassification.com/Downloads/{}.zip'.format(dataset_name)\n",
    "\n",
    "# download, extract and load dataset\n",
    "r = requests.get(dataset_url, stream=True)\n",
    "if r.ok:\n",
    "    z = zipfile.ZipFile(io.BytesIO(r.content))\n",
    "    z.extractall('./{}/'.format(dataset_name))\n",
    "else:\n",
    "    print('Error: the dataset could not be downloaded.')\n",
    "    \n",
    "X_train, y_train = load_from_arff_to_dataframe('./{0}/{0}_TRAIN.arff'.format(dataset_name))\n",
    "X_test, y_test = load_from_arff_to_dataframe('./{0}/{0}_TEST.arff'.format(dataset_name))"
   ]
  },
  {
   "cell_type": "markdown",
   "metadata": {},
   "source": [
    "***\n",
    "### Format and preprocess data"
   ]
  },
  {
   "cell_type": "markdown",
   "metadata": {},
   "source": [
    "We first take care of formatting the outputs $\\mathbf{Y} = (\\mathbf{y}_i)_{i=1,\\dots,n_{\\mathbf{x}}}$. We are going to use the GPflow MultiClass likelihood as observation model as the problem class is multi-class classification. It expects that class labels are assigned from $\\{0, 1, \\dots, n_{c}-1\\}$ with $n_c$ the number of classes, hence we simply relabel all examples."
   ]
  },
  {
   "cell_type": "code",
   "execution_count": 4,
   "metadata": {},
   "outputs": [],
   "source": [
    "labels_dict = {c : i for i, c in enumerate(np.unique(y_train))}\n",
    "y_train = np.asarray([labels_dict[c] for c in y_train])\n",
    "y_test = np.asarray([labels_dict[c] for c in y_test])"
   ]
  },
  {
   "cell_type": "markdown",
   "metadata": {},
   "source": [
    "To format the inputs $\\mathbf{X} = (\\mathbf{x}_i)_{i=1,\\dots,n_{\\mathbf{X}}} \\subset \\mathbb{R}^d_{seq}$, we convert the data to a list of sequences, with each sequence $\\mathbf{x} \\in \\mathbf{X}$ given as an $(l_{\\mathbf{x}}, d)$ numpy array."
   ]
  },
  {
   "cell_type": "code",
   "execution_count": 5,
   "metadata": {},
   "outputs": [],
   "source": [
    "X_train = [np.stack(x, axis=1) for x in X_train.values]\n",
    "X_test = [np.stack(x, axis=1) for x in X_test.values]"
   ]
  },
  {
   "cell_type": "markdown",
   "metadata": {},
   "source": [
    "Now as preprocessing, we first add a monotonically increasing coordinate with unit steps between time-observations, that we call \"time\", and its role is to allow signatures to separate sequences, that are not equal, but can be warped into one another. Hence, denoting time-augmentation as $\\hat{\\cdot}: \\mathbb{R}^d_{seq} \\rightarrow \\mathbb{R}^{d+1}_{seq}$ defined for $\\mathbf{x} = (x_i)_{i=1,\\dots,l_\\mathbf{x}}$ as $\\hat{\\mathbf{x}} := (t_i, x_i)_{i=1,\\dots,l_{\\mathbf{x}}}$, where $t_i := i / l_{\\mathbf{x}}$."
   ]
  },
  {
   "cell_type": "code",
   "execution_count": 6,
   "metadata": {},
   "outputs": [],
   "source": [
    "# implemented in gpsig as a convenience function\n",
    "X_train = gpsig.preprocessing.add_time_to_list(X_train)\n",
    "X_test = gpsig.preprocessing.add_time_to_list(X_test)"
   ]
  },
  {
   "cell_type": "markdown",
   "metadata": {},
   "source": [
    "As we would like to have a validation set that we monitor while optimizing the hyperparameters of the model, we split the training data 80-20 in a stratified manner."
   ]
  },
  {
   "cell_type": "code",
   "execution_count": 7,
   "metadata": {},
   "outputs": [],
   "source": [
    "X_train, X_val, y_train, y_val = train_test_split(X_train, y_train, test_size=0.2, shuffle=True, stratify=y_train)"
   ]
  },
  {
   "cell_type": "markdown",
   "metadata": {},
   "source": [
    "Continuing with the preprocessing, we jointly normalize using the training set all state-space dimensions (in this case, the time coordinate and the two coordinates corresponding to hand-movements) to zero mean and unit variance."
   ]
  },
  {
   "cell_type": "code",
   "execution_count": 8,
   "metadata": {},
   "outputs": [],
   "source": [
    "scaler = StandardScaler()\n",
    "scaler.fit(np.concatenate(X_train, axis=0))\n",
    "\n",
    "X_train = [scaler.transform(x) for x in X_train]\n",
    "X_val = [scaler.transform(x) for x in X_val]\n",
    "X_test = [scaler.transform(x) for x in X_test]"
   ]
  },
  {
   "cell_type": "markdown",
   "metadata": {},
   "source": [
    "Finally, as the dataformat of the inputs should be a numpy array of size $(n_{\\mathbf{X}}, \\max_{\\mathbf{x} \\in \\mathbf{X}} l_{\\mathbf{x}}, d)$, we tabulate all sequences to equal length (in case they weren't already), by repeating for each $\\mathbf{x} \\in \\mathbf{X}$ the last observation $\\max_{\\tilde{\\mathbf{x}} \\in \\mathbf{X}} l_{\\tilde{\\mathbf{x}}} - l_{\\mathbf{x}}$ times."
   ]
  },
  {
   "cell_type": "code",
   "execution_count": 9,
   "metadata": {},
   "outputs": [
    {
     "name": "stderr",
     "output_type": "stream",
     "text": [
      "100%|██████████| 144/144 [00:00<00:00, 20299.79it/s]\n",
      "100%|██████████| 36/36 [00:00<00:00, 11684.20it/s]\n",
      "100%|██████████| 180/180 [00:00<00:00, 25359.40it/s]\n"
     ]
    }
   ],
   "source": [
    "# using another convenience function from gpsig\n",
    "X_train = gpsig.preprocessing.tabulate_list_of_sequences(X_train)\n",
    "X_val = gpsig.preprocessing.tabulate_list_of_sequences(X_val)\n",
    "X_test = gpsig.preprocessing.tabulate_list_of_sequences(X_test)"
   ]
  },
  {
   "cell_type": "markdown",
   "metadata": {},
   "source": [
    "To check that everything we did makes sense, we investigate the sizes of the data arrays and plot some examples from the inputs and a histogram from the outputs."
   ]
  },
  {
   "cell_type": "code",
   "execution_count": 10,
   "metadata": {},
   "outputs": [
    {
     "name": "stdout",
     "output_type": "stream",
     "text": [
      "X_train shape: (144, 45, 3)\n",
      "y_train shape: (144,)\n",
      "X_val shape: (36, 45, 3)\n",
      "y_val shape: (36,)\n",
      "X_test shape: (180, 45, 3)\n",
      "y_test shape: (180,)\n"
     ]
    },
    {
     "data": {
      "image/png": "[encoded data removed]",
      "text/plain": [
       "<Figure size 1440x360 with 4 Axes>"
      ]
     },
     "metadata": {},
     "output_type": "display_data"
    }
   ],
   "source": [
    "print('X_train shape: {}'.format(X_train.shape))\n",
    "print('y_train shape: {}'.format(y_train.shape))\n",
    "print('X_val shape: {}'.format(X_val.shape))\n",
    "print('y_val shape: {}'.format(y_val.shape))\n",
    "print('X_test shape: {}'.format(X_test.shape))\n",
    "print('y_test shape: {}'.format(y_test.shape))\n",
    "\n",
    "fig, axes = plt.subplots(1, 4, figsize=(20, 5))\n",
    "axes[0].plot(X_train[0])\n",
    "axes[1].plot(X_train[20])\n",
    "axes[2].plot(X_train[50])\n",
    "axes[3].hist(y_train)\n",
    "\n",
    "plt.show()"
   ]
  },
  {
   "cell_type": "markdown",
   "metadata": {},
   "source": [
    "***\n",
    "### Setup SVGP model"
   ]
  },
  {
   "cell_type": "code",
   "execution_count": 11,
   "metadata": {},
   "outputs": [],
   "source": [
    "num_train, len_examples, num_features = X_train.shape\n",
    "num_val = X_val.shape[0]\n",
    "num_test = X_test.shape[0]\n",
    "num_classes = np.unique(y_train).size"
   ]
  },
  {
   "cell_type": "markdown",
   "metadata": {},
   "source": [
    "We are going to use $M=5$ levels in the signature kernel, i.e. the truncated signature kernel of depth $M=5$. The data will be summarized using $n_{\\mathbf Z} = 200$ inducing tensors in the variational posterior. For simpliciy, we use $p=0$ lags in the signature kernel."
   ]
  },
  {
   "cell_type": "code",
   "execution_count": 12,
   "metadata": {},
   "outputs": [],
   "source": [
    "num_levels = 4\n",
    "num_inducing = 200\n",
    "num_lags = 0"
   ]
  },
  {
   "cell_type": "markdown",
   "metadata": {},
   "source": [
    "To initialize the inducing tensors, we use a function from gpsig that samples random sparse tensors from the input sequences, and initialize the lengthscales by $l_i^{(0)} := \\sqrt{\\mathbb{E}\\vert x_i - \\tilde{x}_i\\vert^2\\cdot d}$ for $i \\in \\{1, 2, \\dots, d\\}$ using $n = 1000$ randomly selected observation samples from the data."
   ]
  },
  {
   "cell_type": "code",
   "execution_count": 13,
   "metadata": {},
   "outputs": [],
   "source": [
    "Z_init = gpsig.utils.suggest_initial_inducing_tensors(X_train, num_levels, num_inducing, labels=y_train, increments=True, num_lags=num_lags)\n",
    "l_init = gpsig.utils.suggest_initial_lengthscales(X_train, num_samples=1000)"
   ]
  },
  {
   "cell_type": "markdown",
   "metadata": {},
   "source": [
    "Since GPflow kernels usually expect as inputs numpy arrays in a 2d axis format, we flatten out the last two dimensions of the input arrays (which are then expanded again inside the kernel calculations)."
   ]
  },
  {
   "cell_type": "code",
   "execution_count": 14,
   "metadata": {},
   "outputs": [],
   "source": [
    "input_dim = len_examples * num_features\n",
    "X_train = X_train.reshape([-1, input_dim])\n",
    "X_val = X_val.reshape([-1, input_dim]) if X_val is not None else None\n",
    "X_test = X_test.reshape([-1, input_dim])"
   ]
  },
  {
   "cell_type": "markdown",
   "metadata": {},
   "source": [
    "Next instantiate the different parts of the model.\n",
    "***\n",
    "#### _InducingTensors_\n",
    "Arguments:\n",
    "- Z - a numpy array of size $(M(M+1)/2, n_{\\mathbf Z}, d)$ if increments is False, $(M(M+1)/2, n_{\\mathbf Z}, 2, d)$ if increments is True (see kwargs)\n",
    "- num_levels - the same number of levels as in the signature kernel\n",
    "\n",
    "Kwargs:\n",
    "- increments - if this is set to true, then a different size Z is expected and the inducing tensors are represented for $\\mathbf{z} \\in \\mathbf{Z}$ as $\\mathbf{z} = (z_m)_{m=1,\\dots,M}$ with\n",
    "\\begin{align}\n",
    "    z_m = \\left(\\kappa(x_{m, 1, 2}, \\cdot) - \\kappa(x_{m, 1, 1}, \\cdot)\\right) \\otimes \\left(\\kappa(x_{m, 2, 2}, \\cdot) - \\kappa(x_{m, 2, 1}, \\cdot)\\right) \\otimes \\dots \\otimes \\left(\\kappa(x_{m, m, 2}, \\cdot) - \\kappa(x_{m, m, 1}, \\cdot)\\right),\n",
    "\\end{align}\n",
    "while for increments==False they are simply\n",
    "\\begin{align}\n",
    "    z_m = \\kappa(x_{m, 1}, \\cdot) \\otimes \\kappa(x_{m, 2}, \\cdot) \\otimes \\dots \\otimes \\kappa(x_{m, m}, \\cdot),\n",
    "\\end{align}\n",
    "where $\\kappa(\\cdot, \\cdot)$ is a positive definite kernel over $\\mathbb{R}^d$. We find that using the increments version greatly improves their flexibility.\n",
    "- learn_weights - experimental, if False, then everything as before, if True, then an additional linear combination layer is inserted with the inducing tensors $\\mathbf{z}^\\prime \\in \\mathbf{Z}^\\prime$ defined as $\\mathbf{z}^\\prime = (z_m^\\prime)_{m=0,\\dots,M}$ and\n",
    "\\begin{align}\n",
    "    \\mathbf{z}_m^\\prime = \\sum_{i=1}^{n_{\\mathbf Z}} \\alpha_i \\mathbf{z}_m \\hspace{10pt}\\text{for}\\hspace{10pt} \\mathbf{z}_m \\in \\mathbf{Z}_m,\n",
    "\\end{align}\n",
    "where $\\mathbf{Z}_m$ is as before.\n",
    "\n",
    "Suggested setting is to use increments=True and learn_weights=False."
   ]
  },
  {
   "cell_type": "code",
   "execution_count": 15,
   "metadata": {},
   "outputs": [],
   "source": [
    "feat = gpsig.inducing_variables.InducingTensors(Z_init, num_levels=num_levels, increments=True)"
   ]
  },
  {
   "cell_type": "markdown",
   "metadata": {},
   "source": [
    "***\n",
    "#### _SignatureRBF_\n",
    "The signature kernel for sequences using as state-space embedding the RBF kernel  $\\kappa: \\mathbb{R}^d \\times \\mathbb{R}^d \\rightarrow \\mathbb{R}^d$, i.e. $\\kappa(x, x^\\prime) = \\exp\\left(-\\frac{1}{2} (x - x^\\prime)^\\top \\Sigma^{-1} (x - x^\\prime) \\right)$ for $x, x^\\prime \\in \\mathbb{R}^d$\n",
    "\n",
    "Concretely, for two sequences $\\mathbf{x}, \\mathbf{x}^\\prime \\in \\mathbb{R}^d$, the sequence kernel derived from signatures can be written as\n",
    "\n",
    "\\begin{align}\n",
    "    k(\\mathbf{x}, \\mathbf{x}^\\prime) = \\sum_{m=0}^M \\sum_{\\substack{1 \\leq i_1 \\leq \\dots \\leq i_m < l_{\\mathbf x}} \\\\ 1 \\leq j_1 \\leq \\dots \\leq j_m < l_{\\mathbf{x}^\\prime}} \\sigma_m^2 \\cdot c(i_1, \\dots, i_m) \\cdot c(j_1, \\dots j_m) \\cdot \\prod_{l=1}^m \\left(\\kappa(x_{i_l+1}, x^\\prime_{j_l+1}) + \\kappa(x_{i_l}, x^\\prime_{j_l}) - \\kappa(x_{i_l}, x^\\prime_{j_l+1}) - \\kappa(x_{i_l+1}, x^\\prime_{j_l}) \\right),\n",
    "\\end{align}\n",
    "for some explicitly known constants $c: \\mathbb{N}^m \\rightarrow \\mathbb{R}$ for each $m \\in \\{1, \\dots, M\\}$.\n",
    "\n",
    "Arguments:\n",
    "- input_dim - the total size of an input sample to the kernel, i.e. $l_{\\mathbf X} \\cdot d$\n",
    "- num_features - the state-space dimension of the input sequences, i.e $d$ for sequences in $\\mathbb{R}^d_{seq}$\n",
    "- num_levels - the degree of cut-off for the truncated signatures\n",
    " \n",
    "Kwargs:\n",
    "- num_lags - (default 0) the number of lags ($p$) added to each sequence, i.e. $\\hat{\\mathbf{x}} = (t_i, x_{t_i}, x_{t_i - s_1}, \\dots, x_{t_i - s_{p}})$ for $\\mathbf{x} = (t_i, x_i)$\n",
    "- order - (default 1) specifies the approximation order ($D$) to the signature kernel (see http://jmlr.org/papers/v20/16-314.html), denoted by $1 \\leq D \\leq M$. Relates to the constants $c(i_1, i_2, \\dots, i_m)$ in the above formula. An illustrative example is to consider a sequence with two elements $\\mathbf{x} = (x_1, x_2)$. Then, for $D=1$\n",
    "\\begin{align}\n",
    "    \\mathbf{S}^{(1)}(\\mathbf{x}) = \\left(1, (x_2 - x_1), 0, 0, \\dots\\right),\n",
    "\\end{align}\n",
    "and for $D=M$\n",
    "\\begin{align}\n",
    "    \\mathbf{S}^{(M)}(\\mathbf{x}) = \\left(1, (x_2 - x_1), (x_2 - x_1)^{\\otimes 2}/2!, (x_2 - x_1)^{\\otimes 3}/3!, \\dots, (x_2 - x_1)^{\\otimes M}/M!, 0, 0, \\dots \\right),\n",
    "\\end{align}\n",
    "while for $D \\in \\{1, 2, \\dots, M\\}$ in general\n",
    "\\begin{align}\n",
    "    \\mathbf{S}^{(D)}(\\mathbf{x}) = \\left(1, (x_2 - x_1), (x_2 - x_1)^{\\otimes 2}/2!, (x_2 - x_1)^{\\otimes 3}/3!, \\dots (x_2 - x_1)^{\\otimes D}/D!, 0, 0, \\dots \\right).\n",
    "\\end{align}\n",
    "\n",
    "- normalization - if False, no normalization, if True each level of the signature kernel is normalized as\n",
    "\\begin{align}\n",
    "\\tilde{k}(\\mathbf x, \\mathbf{x}^\\prime) = \\sum_{m=0}^M \\sigma_m^2 \\frac{k_m(\\mathbf{x}, \\mathbf{x}^\\prime)}{\\sqrt{k_m(\\mathbf{x}, \\mathbf{x})k_m(\\mathbf{x}^\\prime, \\mathbf{x}^\\prime)}},\n",
    "\\end{align}\n",
    "that we find in practice to help with training more efficiently\n",
    "\n",
    "- variances - initialization of $(\\sigma_0, \\sigma_1, \\dots, \\sigma_M) \\in \\mathbb{R}_+^{M+1}$       \n",
    "- lengthscales: - initialization of the lengthscales $(l_1, l_2, \\dots, l_{d})$ of the base kernel\n",
    "\n",
    "- difference - if True, everything as above, if False, the cumulative sequence is used (i.e. $\\tilde{\\mathbf{x}} = \\left( \\sum_{j=1}^i x_i\\right)_{i=1,\\dots,l_{\\mathbf x}})$\n",
    "\n",
    "- active_dims - if specified, should contain a list of the dimensions in the input that should be sliced out and fed to the kernel. if not specified, defaults to range(input_dim)\n",
    "\n",
    "Low-rank options:\n",
    " - low_rank - boolean indicating whether to use low-rank kernel\n",
    " - num_components - number of components used in Nystrom approximation\n",
    " - rank_bound - max rank of low-rank factor in signature algs, if None, defaults to num_components.\n",
    " - sparsity - controls the sparsity of the random projection matrix used in the low-rank algorithm. Possible values are:\n",
    "     - 'sqrt' - approximately $O(n \\cdot \\sqrt{n})$ non-zero entries per row;\n",
    "     - 'log' - approximately $O(n \\cdot \\log(n))$ non-zero entries per row;\n",
    "     - 'lin' - approximately $O(n)$ non-zero entries per row;"
   ]
  },
  {
   "cell_type": "code",
   "execution_count": 16,
   "metadata": {},
   "outputs": [],
   "source": [
    "k = gpsig.kernels.SignatureRBF(input_dim, num_features, num_levels, lengthscales=l_init)"
   ]
  },
  {
   "cell_type": "markdown",
   "metadata": {},
   "source": [
    "***\n",
    "The likelihood and the SVGP model use the GPflow syntax, see https://gpflow.readthedocs.io/en/master/. The SVGP from gpsig uses the same syntax as the GPflow SVGP, except that it expects that _feat_ is either an _InducingTensors_ or _InducingSequences_ object derived from the _SignatureInducing_ base class."
   ]
  },
  {
   "cell_type": "code",
   "execution_count": 17,
   "metadata": {},
   "outputs": [],
   "source": [
    "if num_classes == 2:\n",
    "    lik = gp.likelihoods.Bernoulli()\n",
    "    num_latent = 1\n",
    "else:\n",
    "    lik = gp.likelihoods.MultiClass(num_classes)\n",
    "    num_latent = num_classes\n",
    "\n",
    "m = gpsig.models.SVGP(X_train, y_train[:, None], kern=k, feat=feat, likelihood=lik, num_latent=num_latent, minibatch_size=50)"
   ]
  },
  {
   "cell_type": "markdown",
   "metadata": {},
   "source": [
    "***\n",
    "### Train model using stochastic variational inference"
   ]
  },
  {
   "cell_type": "markdown",
   "metadata": {},
   "source": [
    "Setup the metrics for training, for monitoring we look at the validation nlpp and the validation accuracy (for early stopping the nlpp is taken into account)."
   ]
  },
  {
   "cell_type": "code",
   "execution_count": 18,
   "metadata": {},
   "outputs": [],
   "source": [
    "acc = lambda m, X, y: accuracy_score(y, np.argmax(m.predict_y(X)[0], axis=1))\n",
    "nlpp = lambda m, X, y: -np.mean(m.predict_density(X, y[:, None]))\n",
    "\n",
    "val_acc = lambda m: acc(m, X_val, y_val)\n",
    "val_nlpp = lambda m: nlpp(m, X_val, y_val)\n",
    "\n",
    "test_acc = lambda m: acc(m, X_test, y_test)\n",
    "test_nlpp = lambda m: nlpp(m, X_test, y_test)\n",
    "\n",
    "opt = gpsig.training.NadamOptimizer # use Nadam optimizer i.e. Adam with Nesterov momentum"
   ]
  },
  {
   "cell_type": "markdown",
   "metadata": {},
   "source": [
    "***\n",
    "First, as usual, fix the kernel hyperparameters and train for a fixed number of iterations to tighten the ELBO bound."
   ]
  },
  {
   "cell_type": "code",
   "execution_count": 19,
   "metadata": {},
   "outputs": [
    {
     "name": "stdout",
     "output_type": "stream",
     "text": [
      "-------------------------\n",
      "  Starting optimization  \n",
      "-------------------------\n",
      "Iteration 100\t|\tTime: 3.40\t|\tELBO: -1121.63\t|\tVal. 0: 0.5556\t|\tVal. 1: 1.7456\n",
      "Iteration 200\t|\tTime: 8.86\t|\tELBO: -1000.52\t|\tVal. 0: 0.5833\t|\tVal. 1: 1.4835\n",
      "Iteration 300\t|\tTime: 10.97\t|\tELBO: -781.96\t|\tVal. 0: 0.5556\t|\tVal. 1: 1.3053\n",
      "Iteration 400\t|\tTime: 13.03\t|\tTime: 12.43\t|\tELBO: -647.71\t|\tVal. 0: 0.6944\t|\tVal. 1: 1.2388\n",
      "Iteration 500\t|\tTime: 15.18\t|\tELBO: -786.55\t|\tVal. 0: 0.6944\t|\tVal. 1: 1.2604\n",
      "Iteration 600\t|\tTime: 17.25\t|\tELBO: -663.91\t|\tVal. 0: 0.6389\t|\tVal. 1: 1.2695\n",
      "Iteration 700\t|\tTime: 19.35\t|\tELBO: -649.09\t|\tVal. 0: 0.6667\t|\tVal. 1: 1.2587\n",
      "Iteration 800\t|\tTime: 21.44\t|\tELBO: -623.64\t|\tVal. 0: 0.6667\t|\tVal. 1: 1.2524\n",
      "Iteration 900\t|\tTime: 23.52\t|\tELBO: -474.87\t|\tVal. 0: 0.6944\t|\tVal. 1: 1.2520\n",
      "Iteration 1000\t|\tTime: 25.63\t|\tELBO: -427.00\t|\tVal. 0: 0.6944\t|\tVal. 1: 1.2701\n",
      "Iteration 1100\t|\tTime: 27.71\t|\tELBO: -530.32\t|\tVal. 0: 0.6944\t|\tVal. 1: 1.2753\n",
      "Iteration 1200\t|\tTime: 29.87\t|\tELBO: -532.95\t|\tVal. 0: 0.6944\t|\tVal. 1: 1.2887\n",
      "Iteration 1300\t|\tTime: 32.00\t|\tELBO: -490.00\t|\tVal. 0: 0.7222\t|\tVal. 1: 1.2933\n",
      "Iteration 1400\t|\tTime: 34.13\t|\tELBO: -512.04\t|\tVal. 0: 0.7222\t|\tVal. 1: 1.3025\n",
      "Iteration 1500\t|\tTime: 36.18\t|\tELBO: -434.69\t|\tVal. 0: 0.7222\t|\tVal. 1: 1.3058\n",
      "Iteration 1600\t|\tTime: 38.23\t|\tELBO: -405.42\t|\tVal. 0: 0.7222\t|\tVal. 1: 1.3071\n",
      "Iteration 1700\t|\tTime: 40.29\t|\tELBO: -355.31\t|\tVal. 0: 0.7222\t|\tVal. 1: 1.3178\n",
      "Iteration 1800\t|\tTime: 42.35\t|\tELBO: -412.34\t|\tVal. 0: 0.7222\t|\tVal. 1: 1.3183\n",
      "Iteration 1900\t|\tTime: 44.41\t|\tELBO: -415.05\t|\tVal. 0: 0.7222\t|\tVal. 1: 1.3239\n",
      "Iteration 2000\t|\tTime: 46.45\t|\tELBO: -491.81\t|\tVal. 0: 0.7222\t|\tVal. 1: 1.3219\n",
      "Iteration 2100\t|\tTime: 48.52\t|\tELBO: -445.51\t|\tVal. 0: 0.7222\t|\tVal. 1: 1.3233\n",
      "Iteration 2200\t|\tTime: 50.59\t|\tELBO: -597.32\t|\tVal. 0: 0.7222\t|\tVal. 1: 1.3265\n",
      "Iteration 2300\t|\tTime: 52.69\t|\tELBO: -397.63\t|\tVal. 0: 0.7222\t|\tVal. 1: 1.3295\n",
      "Iteration 2400\t|\tTime: 54.79\t|\tELBO: -435.97\t|\tVal. 0: 0.7222\t|\tVal. 1: 1.3377\n",
      "Iteration 2500\t|\tTime: 56.87\t|\tELBO: -528.33\t|\tVal. 0: 0.7222\t|\tVal. 1: 1.3361\n",
      "Iteration 2600\t|\tTime: 58.95\t|\tELBO: -620.61\t|\tVal. 0: 0.7222\t|\tVal. 1: 1.3356\n",
      "Iteration 2700\t|\tTime: 61.05\t|\tELBO: -441.77\t|\tVal. 0: 0.7222\t|\tVal. 1: 1.3295\n",
      "Iteration 2800\t|\tTime: 63.11\t|\tELBO: -422.39\t|\tVal. 0: 0.7222\t|\tVal. 1: 1.3213\n",
      "Iteration 2900\t|\tTime: 65.18\t|\tELBO: -463.82\t|\tVal. 0: 0.7222\t|\tVal. 1: 1.3122\n",
      "Iteration 3000\t|\tTime: 67.28\t|\tELBO: -446.47\t|\tVal. 0: 0.7222\t|\tVal. 1: 1.3105\n",
      "Iteration 3100\t|\tTime: 69.40\t|\tELBO: -412.17\t|\tVal. 0: 0.7222\t|\tVal. 1: 1.3153\n",
      "Iteration 3200\t|\tTime: 71.50\t|\tELBO: -380.50\t|\tVal. 0: 0.7222\t|\tVal. 1: 1.3158\n",
      "Iteration 3300\t|\tTime: 73.61\t|\tELBO: -472.70\t|\tVal. 0: 0.7222\t|\tVal. 1: 1.3056\n",
      "Iteration 3400\t|\tTime: 75.73\t|\tELBO: -437.77\t|\tVal. 0: 0.7222\t|\tVal. 1: 1.2948\n",
      "Iteration 3500\t|\tTime: 77.79\t|\tELBO: -434.26\t|\tVal. 0: 0.7222\t|\tVal. 1: 1.2833\n",
      "Iteration 3600\t|\tTime: 79.87\t|\tELBO: -395.73\t|\tVal. 0: 0.7222\t|\tVal. 1: 1.2809\n",
      "Iteration 3700\t|\tTime: 81.93\t|\tELBO: -404.99\t|\tVal. 0: 0.7222\t|\tVal. 1: 1.2853\n",
      "Iteration 3800\t|\tTime: 84.01\t|\tELBO: -480.19\t|\tVal. 0: 0.7222\t|\tVal. 1: 1.2771\n",
      "Iteration 3900\t|\tTime: 86.07\t|\tELBO: -458.17\t|\tVal. 0: 0.7222\t|\tVal. 1: 1.2670\n",
      "Iteration 4000\t|\tTime: 88.13\t|\tELBO: -426.39\t|\tVal. 0: 0.7222\t|\tVal. 1: 1.2699\n",
      "Iteration 4100\t|\tTime: 90.28\t|\tELBO: -445.48\t|\tVal. 0: 0.7222\t|\tVal. 1: 1.2657\n",
      "Iteration 4200\t|\tTime: 92.31\t|\tELBO: -462.27\t|\tVal. 0: 0.7222\t|\tVal. 1: 1.2514\n",
      "Iteration 4300\t|\tTime: 94.37\t|\tELBO: -408.11\t|\tVal. 0: 0.7222\t|\tVal. 1: 1.2586\n",
      "Iteration 4400\t|\tTime: 96.48\t|\tELBO: -426.68\t|\tVal. 0: 0.7222\t|\tVal. 1: 1.2502\n",
      "Iteration 4500\t|\tTime: 98.54\t|\tELBO: -397.91\t|\tVal. 0: 0.7222\t|\tVal. 1: 1.2470\n",
      "Iteration 4600\t|\tTime: 100.61\t|\tELBO: -428.43\t|\tVal. 0: 0.7222\t|\tVal. 1: 1.2443\n",
      "Iteration 4700\t|\tTime: 102.75\t|\tELBO: -428.42\t|\tVal. 0: 0.7222\t|\tVal. 1: 1.2249\n",
      "Iteration 4800\t|\tTime: 104.88\t|\tELBO: -490.34\t|\tVal. 0: 0.7222\t|\tVal. 1: 1.2377\n",
      "Iteration 4900\t|\tTime: 106.96\t|\tELBO: -430.13\t|\tVal. 0: 0.7222\t|\tVal. 1: 1.2169\n",
      "Iteration 5000\t|\tTime: 109.03\t|\tELBO: -396.78\t|\tVal. 0: 0.7222\t|\tVal. 1: 1.2198\n",
      "\n",
      "Optimization session finished...\n"
     ]
    }
   ],
   "source": [
    "# train model with kernel hyperparameters fixed\n",
    "m.kern.set_trainable(False)\n",
    "hist = gpsig.training.optimize(m, opt(1e-3), max_iter=5000, print_freq=10, save_freq=100, val_scorer=[val_acc, val_nlpp])"
   ]
  },
  {
   "cell_type": "markdown",
   "metadata": {},
   "source": [
    "***\n",
    "Second, unfix the kernel hyperparameters and train with early stopping with a patience of 5000 iterations."
   ]
  },
  {
   "cell_type": "code",
   "execution_count": 20,
   "metadata": {},
   "outputs": [
    {
     "name": "stdout",
     "output_type": "stream",
     "text": [
      "---------------------------\n",
      "  Continuing optimization  \n",
      "---------------------------\n",
      "Iteration 5100\t|\tTime: 112.37\t|\tELBO: -478.86\t|\tVal. 0: 0.7222\t|\tVal. 1: 1.2471\n",
      "Iteration 5200\t|\tTime: 114.87\t|\tELBO: -365.37\t|\tVal. 0: 0.7500\t|\tVal. 1: 0.9598\n",
      "Iteration 5300\t|\tTime: 117.11\t|\tELBO: -333.20\t|\tVal. 0: 0.8333\t|\tVal. 1: 0.7189\n",
      "Iteration 5400\t|\tTime: 119.34\t|\tELBO: -294.74\t|\tVal. 0: 0.8333\t|\tVal. 1: 0.6909\n",
      "Iteration 5500\t|\tTime: 121.55\t|\tELBO: -336.91\t|\tVal. 0: 0.8333\t|\tVal. 1: 0.6614\n",
      "Iteration 5600\t|\tTime: 123.78\t|\tELBO: -295.32\t|\tVal. 0: 0.8333\t|\tVal. 1: 0.6539\n",
      "Iteration 5700\t|\tTime: 126.00\t|\tELBO: -293.04\t|\tVal. 0: 0.8333\t|\tVal. 1: 0.6189\n",
      "Iteration 5800\t|\tTime: 128.25\t|\tELBO: -299.08\t|\tVal. 0: 0.8333\t|\tVal. 1: 0.6271\n",
      "Iteration 5900\t|\tTime: 130.52\t|\tELBO: -293.35\t|\tVal. 0: 0.8333\t|\tVal. 1: 0.6007\n",
      "Iteration 6000\t|\tTime: 132.81\t|\tELBO: -284.44\t|\tVal. 0: 0.8333\t|\tVal. 1: 0.6013\n",
      "Iteration 6100\t|\tTime: 135.10\t|\tELBO: -287.71\t|\tVal. 0: 0.8333\t|\tVal. 1: 0.5941\n",
      "Iteration 6200\t|\tTime: 137.37\t|\tELBO: -284.68\t|\tVal. 0: 0.8333\t|\tVal. 1: 0.5925\n",
      "Iteration 6300\t|\tTime: 139.59\t|\tELBO: -278.59\t|\tVal. 0: 0.8333\t|\tVal. 1: 0.5917\n",
      "Iteration 6400\t|\tTime: 141.85\t|\tELBO: -283.39\t|\tVal. 0: 0.8333\t|\tVal. 1: 0.5892\n",
      "Iteration 6500\t|\tTime: 144.10\t|\tELBO: -276.77\t|\tVal. 0: 0.8333\t|\tVal. 1: 0.5884\n",
      "Iteration 6600\t|\tTime: 146.35\t|\tELBO: -285.58\t|\tVal. 0: 0.8333\t|\tVal. 1: 0.5821\n",
      "Iteration 6700\t|\tTime: 148.58\t|\tELBO: -293.30\t|\tVal. 0: 0.8333\t|\tVal. 1: 0.5870\n",
      "Iteration 6800\t|\tTime: 150.75\t|\tELBO: -274.88\t|\tVal. 0: 0.8333\t|\tVal. 1: 0.5805\n",
      "Iteration 6900\t|\tTime: 152.96\t|\tELBO: -278.94\t|\tVal. 0: 0.8333\t|\tVal. 1: 0.5768\n",
      "Iteration 7000\t|\tTime: 155.25\t|\tELBO: -282.24\t|\tVal. 0: 0.8333\t|\tVal. 1: 0.5853\n",
      "Iteration 7100\t|\tTime: 157.52\t|\tELBO: -277.44\t|\tVal. 0: 0.8333\t|\tVal. 1: 0.5803\n",
      "Iteration 7200\t|\tTime: 159.78\t|\tELBO: -270.71\t|\tVal. 0: 0.8333\t|\tVal. 1: 0.5768\n",
      "Iteration 7300\t|\tTime: 162.02\t|\tELBO: -288.22\t|\tVal. 0: 0.8333\t|\tVal. 1: 0.5762\n",
      "Iteration 7400\t|\tTime: 164.27\t|\tELBO: -294.57\t|\tVal. 0: 0.8333\t|\tVal. 1: 0.5827\n",
      "Iteration 7500\t|\tTime: 166.51\t|\tELBO: -277.12\t|\tVal. 0: 0.8333\t|\tVal. 1: 0.5838\n",
      "Iteration 7600\t|\tTime: 168.74\t|\tELBO: -277.81\t|\tVal. 0: 0.8333\t|\tVal. 1: 0.5816\n",
      "Iteration 7700\t|\tTime: 171.01\t|\tELBO: -278.01\t|\tVal. 0: 0.8333\t|\tVal. 1: 0.5838\n",
      "Iteration 7800\t|\tTime: 173.25\t|\tELBO: -278.70\t|\tVal. 0: 0.8333\t|\tVal. 1: 0.5743\n",
      "Iteration 7900\t|\tTime: 175.48\t|\tELBO: -281.60\t|\tVal. 0: 0.8333\t|\tVal. 1: 0.5707\n",
      "Iteration 8000\t|\tTime: 177.73\t|\tELBO: -277.16\t|\tVal. 0: 0.8333\t|\tVal. 1: 0.5755\n",
      "Iteration 8100\t|\tTime: 179.98\t|\tELBO: -276.42\t|\tVal. 0: 0.8333\t|\tVal. 1: 0.5703\n",
      "Iteration 8200\t|\tTime: 182.24\t|\tELBO: -278.54\t|\tVal. 0: 0.8333\t|\tVal. 1: 0.5757\n",
      "Iteration 8300\t|\tTime: 184.46\t|\tELBO: -277.54\t|\tVal. 0: 0.8333\t|\tVal. 1: 0.5783\n",
      "Iteration 8400\t|\tTime: 186.67\t|\tELBO: -269.46\t|\tVal. 0: 0.8333\t|\tVal. 1: 0.5710\n",
      "Iteration 8500\t|\tTime: 188.89\t|\tELBO: -280.54\t|\tVal. 0: 0.8333\t|\tVal. 1: 0.5674\n",
      "Iteration 8600\t|\tTime: 191.12\t|\tELBO: -281.97\t|\tVal. 0: 0.8333\t|\tVal. 1: 0.5692\n",
      "Iteration 8700\t|\tTime: 193.28\t|\tELBO: -276.61\t|\tVal. 0: 0.8333\t|\tVal. 1: 0.5720\n",
      "Iteration 8800\t|\tTime: 195.51\t|\tELBO: -275.33\t|\tVal. 0: 0.8333\t|\tVal. 1: 0.5719\n",
      "Iteration 8900\t|\tTime: 197.75\t|\tELBO: -268.73\t|\tVal. 0: 0.8333\t|\tVal. 1: 0.5713\n",
      "Iteration 9000\t|\tTime: 200.00\t|\tELBO: -271.03\t|\tVal. 0: 0.8333\t|\tVal. 1: 0.5762\n",
      "Iteration 9100\t|\tTime: 202.20\t|\tELBO: -288.88\t|\tVal. 0: 0.8333\t|\tVal. 1: 0.5591\n",
      "Iteration 9200\t|\tTime: 204.37\t|\tELBO: -273.12\t|\tVal. 0: 0.8333\t|\tVal. 1: 0.5749\n",
      "Iteration 9300\t|\tTime: 206.61\t|\tELBO: -280.12\t|\tVal. 0: 0.8333\t|\tVal. 1: 0.5601\n",
      "Iteration 9400\t|\tTime: 208.89\t|\tELBO: -271.76\t|\tVal. 0: 0.8333\t|\tVal. 1: 0.5694\n",
      "Iteration 9500\t|\tTime: 211.18\t|\tELBO: -270.29\t|\tVal. 0: 0.8333\t|\tVal. 1: 0.5719\n",
      "Iteration 9600\t|\tTime: 213.39\t|\tELBO: -262.86\t|\tVal. 0: 0.8333\t|\tVal. 1: 0.5723\n",
      "Iteration 9700\t|\tTime: 215.63\t|\tELBO: -271.01\t|\tVal. 0: 0.8333\t|\tVal. 1: 0.5811\n",
      "Iteration 9800\t|\tTime: 217.87\t|\tELBO: -273.79\t|\tVal. 0: 0.8333\t|\tVal. 1: 0.5731\n",
      "Iteration 9900\t|\tTime: 220.12\t|\tELBO: -273.97\t|\tVal. 0: 0.8333\t|\tVal. 1: 0.5719\n",
      "Iteration 10000\t|\tTime: 222.35\t|\tELBO: -273.58\t|\tVal. 0: 0.8333\t|\tVal. 1: 0.5719\n",
      "Iteration 10100\t|\tTime: 224.57\t|\tELBO: -275.36\t|\tVal. 0: 0.8333\t|\tVal. 1: 0.5810\n",
      "Iteration 10200\t|\tTime: 226.82\t|\tELBO: -276.69\t|\tVal. 0: 0.8333\t|\tVal. 1: 0.5614\n",
      "Iteration 10300\t|\tTime: 229.04\t|\tELBO: -276.71\t|\tVal. 0: 0.8333\t|\tVal. 1: 0.5799\n",
      "Iteration 10400\t|\tTime: 231.27\t|\tELBO: -280.37\t|\tVal. 0: 0.8333\t|\tVal. 1: 0.5718\n",
      "Iteration 10500\t|\tTime: 233.46\t|\tELBO: -268.30\t|\tVal. 0: 0.8333\t|\tVal. 1: 0.5777\n",
      "Iteration 10600\t|\tTime: 235.73\t|\tELBO: -265.90\t|\tVal. 0: 0.8333\t|\tVal. 1: 0.5696\n",
      "Iteration 10700\t|\tTime: 238.03\t|\tELBO: -265.95\t|\tVal. 0: 0.8333\t|\tVal. 1: 0.5756\n",
      "Iteration 10800\t|\tTime: 240.29\t|\tELBO: -273.70\t|\tVal. 0: 0.8333\t|\tVal. 1: 0.5744\n",
      "Iteration 10900\t|\tTime: 242.57\t|\tELBO: -273.79\t|\tVal. 0: 0.8333\t|\tVal. 1: 0.5696\n",
      "Iteration 11000\t|\tTime: 244.81\t|\tELBO: -270.69\t|\tVal. 0: 0.8333\t|\tVal. 1: 0.5722\n",
      "Iteration 11100\t|\tTime: 247.07\t|\tELBO: -278.47\t|\tVal. 0: 0.8333\t|\tVal. 1: 0.5787\n",
      "Iteration 11200\t|\tTime: 249.27\t|\tELBO: -281.86\t|\tVal. 0: 0.8333\t|\tVal. 1: 0.5697\n",
      "Iteration 11300\t|\tTime: 251.49\t|\tELBO: -266.02\t|\tVal. 0: 0.8333\t|\tVal. 1: 0.5781\n",
      "Iteration 11400\t|\tTime: 253.76\t|\tELBO: -286.40\t|\tVal. 0: 0.8333\t|\tVal. 1: 0.5662\n",
      "Iteration 11500\t|\tTime: 256.01\t|\tELBO: -280.06\t|\tVal. 0: 0.8333\t|\tVal. 1: 0.5668\n",
      "Iteration 11600\t|\tTime: 258.24\t|\tELBO: -273.66\t|\tVal. 0: 0.8333\t|\tVal. 1: 0.5755\n",
      "Iteration 11700\t|\tTime: 260.46\t|\tELBO: -286.40\t|\tVal. 0: 0.8333\t|\tVal. 1: 0.5760\n",
      "Iteration 11800\t|\tTime: 262.72\t|\tELBO: -274.43\t|\tVal. 0: 0.8333\t|\tVal. 1: 0.5617\n",
      "Iteration 11900\t|\tTime: 264.97\t|\tELBO: -276.54\t|\tVal. 0: 0.8333\t|\tVal. 1: 0.5644\n",
      "Iteration 12000\t|\tTime: 267.21\t|\tELBO: -274.56\t|\tVal. 0: 0.8333\t|\tVal. 1: 0.5679\n",
      "Iteration 12100\t|\tTime: 269.45\t|\tELBO: -271.60\t|\tVal. 0: 0.8333\t|\tVal. 1: 0.5765\n",
      "Iteration 12200\t|\tTime: 271.67\t|\tELBO: -272.05\t|\tVal. 0: 0.8333\t|\tVal. 1: 0.5732\n",
      "Iteration 12300\t|\tTime: 273.91\t|\tELBO: -272.93\t|\tVal. 0: 0.8333\t|\tVal. 1: 0.5777\n",
      "Iteration 12400\t|\tTime: 276.24\t|\tELBO: -272.24\t|\tVal. 0: 0.8333\t|\tVal. 1: 0.5759\n",
      "Iteration 12500\t|\tTime: 278.47\t|\tELBO: -282.31\t|\tVal. 0: 0.8333\t|\tVal. 1: 0.5663\n",
      "Iteration 12600\t|\tTime: 280.76\t|\tELBO: -277.25\t|\tVal. 0: 0.8333\t|\tVal. 1: 0.5691\n",
      "Iteration 12700\t|\tTime: 283.03\t|\tELBO: -280.07\t|\tVal. 0: 0.8333\t|\tVal. 1: 0.5615\n",
      "Iteration 12800\t|\tTime: 285.28\t|\tELBO: -288.13\t|\tVal. 0: 0.8333\t|\tVal. 1: 0.5733\n",
      "Iteration 12900\t|\tTime: 287.53\t|\tELBO: -277.51\t|\tVal. 0: 0.8333\t|\tVal. 1: 0.5714\n",
      "Iteration 13000\t|\tTime: 289.74\t|\tELBO: -271.82\t|\tVal. 0: 0.8333\t|\tVal. 1: 0.5748\n",
      "Iteration 13100\t|\tTime: 291.99\t|\tELBO: -272.73\t|\tVal. 0: 0.8333\t|\tVal. 1: 0.5683\n",
      "Iteration 13200\t|\tTime: 294.20\t|\tELBO: -273.97\t|\tVal. 0: 0.8333\t|\tVal. 1: 0.5709\n",
      "Iteration 13300\t|\tTime: 296.44\t|\tELBO: -271.48\t|\tVal. 0: 0.8333\t|\tVal. 1: 0.5738\n",
      "Iteration 13400\t|\tTime: 298.70\t|\tELBO: -265.79\t|\tVal. 0: 0.8333\t|\tVal. 1: 0.5752\n",
      "Iteration 13500\t|\tTime: 300.94\t|\tELBO: -279.60\t|\tVal. 0: 0.8333\t|\tVal. 1: 0.5719\n",
      "Iteration 13600\t|\tTime: 303.15\t|\tELBO: -280.40\t|\tVal. 0: 0.8333\t|\tVal. 1: 0.5706\n",
      "Iteration 13700\t|\tTime: 305.36\t|\tELBO: -278.65\t|\tVal. 0: 0.8333\t|\tVal. 1: 0.5714\n",
      "Iteration 13800\t|\tTime: 307.60\t|\tELBO: -265.49\t|\tVal. 0: 0.8333\t|\tVal. 1: 0.5687\n",
      "Iteration 13900\t|\tTime: 309.85\t|\tELBO: -272.96\t|\tVal. 0: 0.8333\t|\tVal. 1: 0.5697\n",
      "Iteration 14000\t|\tTime: 312.07\t|\tELBO: -264.32\t|\tVal. 0: 0.8333\t|\tVal. 1: 0.5799\n",
      "Iteration 14100\t|\tTime: 314.30\t|\tELBO: -284.11\t|\tVal. 0: 0.8333\t|\tVal. 1: 0.5655\n",
      "Iteration 14200\t|\tTime: 316.54\t|\tELBO: -293.33\t|\tVal. 0: 0.8333\t|\tVal. 1: 0.5705\n",
      "No improvement over validation loss has occured for 5000 iterations: stopping early...\n",
      "\n",
      "Optimization session finished...\n"
     ]
    }
   ],
   "source": [
    "# unfix kernel hyperparameters and train with early stopping with 5000 iterations patience\n",
    "m.kern.set_trainable(True)\n",
    "hist = gpsig.training.optimize(m, opt(1e-2), max_iter=50000, print_freq=10, save_freq=100, history=hist,\n",
    "                               val_scorer=[val_acc, val_nlpp], save_best_params=True, lower_is_better=True, patience=5000)\n",
    "m.assign(hist['best']['params'])"
   ]
  },
  {
   "cell_type": "markdown",
   "metadata": {},
   "source": [
    "***\n",
    "Third, fix the kernel again and re-merge the validation set into the training data. Train for a fixed number of iterations to assimilate the remaining information into the variational approximation."
   ]
  },
  {
   "cell_type": "code",
   "execution_count": 21,
   "metadata": {},
   "outputs": [
    {
     "name": "stdout",
     "output_type": "stream",
     "text": [
      "---------------------------\n",
      "  Continuing optimization  \n",
      "---------------------------\n",
      "Iteration 14300\t|\tTime: 319.47\t|\tELBO: -317.29\n",
      "Iteration 14400\t|\tTime: 321.53\t|\tELBO: -276.40\n",
      "Iteration 14500\t|\tTime: 323.54\t|\tELBO: -285.63\n",
      "Iteration 14600\t|\tTime: 325.55\t|\tELBO: -312.04\n",
      "Iteration 14700\t|\tTime: 327.58\t|\tELBO: -332.78\n",
      "Iteration 14800\t|\tTime: 329.61\t|\tELBO: -305.83\n",
      "Iteration 14900\t|\tTime: 331.60\t|\tELBO: -293.91\n",
      "Iteration 15000\t|\tTime: 333.58\t|\tELBO: -331.48\n",
      "Iteration 15100\t|\tTime: 335.61\t|\tELBO: -298.33\n",
      "Iteration 15200\t|\tTime: 337.64\t|\tELBO: -279.17\n",
      "Iteration 15300\t|\tTime: 339.63\t|\tELBO: -283.91\n",
      "Iteration 15400\t|\tTime: 341.63\t|\tELBO: -272.08\n",
      "Iteration 15500\t|\tTime: 343.66\t|\tELBO: -277.04\n",
      "Iteration 15600\t|\tTime: 345.73\t|\tELBO: -314.53\n",
      "Iteration 15700\t|\tTime: 347.78\t|\tELBO: -305.81\n",
      "Iteration 15800\t|\tTime: 349.81\t|\tELBO: -307.69\n",
      "Iteration 15900\t|\tTime: 351.87\t|\tELBO: -275.54\n",
      "Iteration 16000\t|\tTime: 353.91\t|\tELBO: -291.97\n",
      "Iteration 16100\t|\tTime: 355.93\t|\tELBO: -320.32\n",
      "Iteration 16200\t|\tTime: 357.93\t|\tELBO: -298.66\n",
      "Iteration 16300\t|\tTime: 359.94\t|\tELBO: -316.82\n",
      "Iteration 16400\t|\tTime: 361.97\t|\tELBO: -277.22\n",
      "Iteration 16500\t|\tTime: 364.03\t|\tELBO: -288.52\n",
      "Iteration 16600\t|\tTime: 366.03\t|\tELBO: -313.09\n",
      "Iteration 16700\t|\tTime: 368.04\t|\tELBO: -321.67\n",
      "Iteration 16800\t|\tTime: 370.06\t|\tELBO: -291.88\n",
      "Iteration 16900\t|\tTime: 372.14\t|\tELBO: -270.59\n",
      "Iteration 17000\t|\tTime: 374.19\t|\tELBO: -304.62\n",
      "Iteration 17100\t|\tTime: 376.26\t|\tELBO: -284.59\n",
      "Iteration 17200\t|\tTime: 378.35\t|\tELBO: -277.04\n",
      "Iteration 17300\t|\tTime: 380.38\t|\tELBO: -282.94\n",
      "Iteration 17400\t|\tTime: 382.46\t|\tELBO: -298.18\n",
      "Iteration 17500\t|\tTime: 384.55\t|\tELBO: -276.15\n",
      "Iteration 17600\t|\tTime: 386.58\t|\tELBO: -284.30\n",
      "Iteration 17700\t|\tTime: 388.63\t|\tELBO: -321.97\n",
      "Iteration 17800\t|\tTime: 390.65\t|\tELBO: -277.34\n",
      "Iteration 17900\t|\tTime: 392.70\t|\tELBO: -274.85\n",
      "Iteration 18000\t|\tTime: 394.74\t|\tELBO: -289.39\n",
      "Iteration 18100\t|\tTime: 396.79\t|\tELBO: -319.76\n",
      "Iteration 18200\t|\tTime: 398.88\t|\tELBO: -287.17\n",
      "Iteration 18300\t|\tTime: 401.00\t|\tELBO: -319.40\n",
      "Iteration 18400\t|\tTime: 403.07\t|\tELBO: -302.44\n",
      "Iteration 18500\t|\tTime: 405.15\t|\tELBO: -286.23\n",
      "Iteration 18600\t|\tTime: 407.20\t|\tELBO: -319.64\n",
      "Iteration 18700\t|\tTime: 409.21\t|\tELBO: -295.01\n",
      "Iteration 18800\t|\tTime: 411.20\t|\tELBO: -294.33\n",
      "Iteration 18900\t|\tTime: 413.21\t|\tELBO: -287.34\n",
      "Iteration 19000\t|\tTime: 415.19\t|\tELBO: -295.15\n",
      "Iteration 19100\t|\tTime: 417.18\t|\tELBO: -285.86\n",
      "Iteration 19200\t|\tTime: 419.21\t|\tELBO: -278.66\n",
      "\n",
      "Optimization session finished...\n"
     ]
    }
   ],
   "source": [
    "X_train, y_train = np.concatenate((X_train, X_val), axis=0), np.concatenate((y_train, y_val), axis=0)\n",
    "num_train = X_train.shape[0]\n",
    "m.X, m.Y = X_train, y_train\n",
    "m.num_data = num_train\n",
    "\n",
    "m.kern.set_trainable(False)\n",
    "hist = gpsig.training.optimize(m, opt(1e-3), max_iter=5000, print_freq=10, save_freq=100, history=hist)"
   ]
  },
  {
   "cell_type": "markdown",
   "metadata": {},
   "source": [
    "***\n",
    "### Evaluate model performance"
   ]
  },
  {
   "cell_type": "code",
   "execution_count": 28,
   "metadata": {},
   "outputs": [
    {
     "name": "stdout",
     "output_type": "stream",
     "text": [
      "Test nlpp.: 0.303\n",
      "Test acc.: 0.917\n",
      "Test classification report:\n",
      "              precision    recall  f1-score   support\n",
      "\n",
      "           0       1.00      0.92      0.96        12\n",
      "           1       0.90      0.75      0.82        12\n",
      "           2       0.71      0.83      0.77        12\n",
      "           3       0.80      1.00      0.89        12\n",
      "           4       0.78      0.58      0.67        12\n",
      "           5       1.00      1.00      1.00        12\n",
      "           6       0.92      1.00      0.96        12\n",
      "           7       0.92      1.00      0.96        12\n",
      "           8       1.00      1.00      1.00        12\n",
      "           9       0.92      0.92      0.92        12\n",
      "          10       1.00      1.00      1.00        12\n",
      "          11       1.00      0.92      0.96        12\n",
      "          12       0.92      0.92      0.92        12\n",
      "          13       0.92      0.92      0.92        12\n",
      "          14       1.00      1.00      1.00        12\n",
      "\n",
      "    accuracy                           0.92       180\n",
      "   macro avg       0.92      0.92      0.92       180\n",
      "weighted avg       0.92      0.92      0.92       180\n",
      "\n"
     ]
    }
   ],
   "source": [
    "print('Test nlpp.: {:.03f}'.format(test_nlpp(m)))\n",
    "print('Test acc.: {:.03f}'.format(test_acc(m)))\n",
    "print('Test classification report:')\n",
    "print(classification_report(y_test, np.argmax(m.predict_y(X_test)[0], axis=1)))"
   ]
  },
  {
   "cell_type": "code",
   "execution_count": 29,
   "metadata": {},
   "outputs": [
    {
     "data": {
      "text/html": [
       "<div>\n",
       "<style scoped>\n",
       "    .dataframe tbody tr th:only-of-type {\n",
       "        vertical-align: middle;\n",
       "    }\n",
       "\n",
       "    .dataframe tbody tr th {\n",
       "        vertical-align: top;\n",
       "    }\n",
       "\n",
       "    .dataframe thead th {\n",
       "        text-align: right;\n",
       "    }\n",
       "</style>\n",
       "<table border=\"1\" class=\"dataframe\">\n",
       "  <thead>\n",
       "    <tr style=\"text-align: right;\">\n",
       "      <th></th>\n",
       "      <th>class</th>\n",
       "      <th>prior</th>\n",
       "      <th>transform</th>\n",
       "      <th>trainable</th>\n",
       "      <th>shape</th>\n",
       "      <th>fixed_shape</th>\n",
       "      <th>value</th>\n",
       "    </tr>\n",
       "  </thead>\n",
       "  <tbody>\n",
       "    <tr>\n",
       "      <th>SVGP/feature/Z</th>\n",
       "      <td>Parameter</td>\n",
       "      <td>None</td>\n",
       "      <td>(none)</td>\n",
       "      <td>True</td>\n",
       "      <td>(10, 200, 2, 3)</td>\n",
       "      <td>True</td>\n",
       "      <td>[[[[-1.36666351 -0.09387724  0.05260296], [ 0....</td>\n",
       "    </tr>\n",
       "    <tr>\n",
       "      <th>SVGP/kern/lengthscales</th>\n",
       "      <td>Parameter</td>\n",
       "      <td>None</td>\n",
       "      <td>+ve</td>\n",
       "      <td>False</td>\n",
       "      <td>(3,)</td>\n",
       "      <td>True</td>\n",
       "      <td>[5.826849902048951, 4.966218487190286, 4.97390...</td>\n",
       "    </tr>\n",
       "    <tr>\n",
       "      <th>SVGP/kern/sigma</th>\n",
       "      <td>Parameter</td>\n",
       "      <td>None</td>\n",
       "      <td>+ve</td>\n",
       "      <td>False</td>\n",
       "      <td>()</td>\n",
       "      <td>True</td>\n",
       "      <td>17.563948650680643</td>\n",
       "    </tr>\n",
       "    <tr>\n",
       "      <th>SVGP/kern/variances</th>\n",
       "      <td>Parameter</td>\n",
       "      <td>None</td>\n",
       "      <td>+ve</td>\n",
       "      <td>False</td>\n",
       "      <td>(5,)</td>\n",
       "      <td>True</td>\n",
       "      <td>[0.005267731259876558, 0.038240026377996665, 0...</td>\n",
       "    </tr>\n",
       "    <tr>\n",
       "      <th>SVGP/likelihood/invlink/epsilon</th>\n",
       "      <td>Parameter</td>\n",
       "      <td>Beta(0.2,5.0)</td>\n",
       "      <td>[0.0, 1.0]</td>\n",
       "      <td>False</td>\n",
       "      <td>()</td>\n",
       "      <td>True</td>\n",
       "      <td>0.0009999999999999996</td>\n",
       "    </tr>\n",
       "    <tr>\n",
       "      <th>SVGP/q_mu</th>\n",
       "      <td>Parameter</td>\n",
       "      <td>None</td>\n",
       "      <td>(none)</td>\n",
       "      <td>True</td>\n",
       "      <td>(200, 15)</td>\n",
       "      <td>True</td>\n",
       "      <td>[[-0.19498280339215954, 0.3107899346033142, 0....</td>\n",
       "    </tr>\n",
       "    <tr>\n",
       "      <th>SVGP/q_sqrt</th>\n",
       "      <td>Parameter</td>\n",
       "      <td>None</td>\n",
       "      <td>LoTri-&gt;vec</td>\n",
       "      <td>True</td>\n",
       "      <td>(15, 200, 200)</td>\n",
       "      <td>True</td>\n",
       "      <td>[[[0.9616282232164973, 0.0, 0.0, 0.0, 0.0, 0.0...</td>\n",
       "    </tr>\n",
       "  </tbody>\n",
       "</table>\n",
       "</div>"
      ],
      "text/plain": [
       "                                     class          prior   transform  \\\n",
       "SVGP/feature/Z                   Parameter           None      (none)   \n",
       "SVGP/kern/lengthscales           Parameter           None         +ve   \n",
       "SVGP/kern/sigma                  Parameter           None         +ve   \n",
       "SVGP/kern/variances              Parameter           None         +ve   \n",
       "SVGP/likelihood/invlink/epsilon  Parameter  Beta(0.2,5.0)  [0.0, 1.0]   \n",
       "SVGP/q_mu                        Parameter           None      (none)   \n",
       "SVGP/q_sqrt                      Parameter           None  LoTri->vec   \n",
       "\n",
       "                                 trainable            shape  fixed_shape  \\\n",
       "SVGP/feature/Z                        True  (10, 200, 2, 3)         True   \n",
       "SVGP/kern/lengthscales               False             (3,)         True   \n",
       "SVGP/kern/sigma                      False               ()         True   \n",
       "SVGP/kern/variances                  False             (5,)         True   \n",
       "SVGP/likelihood/invlink/epsilon      False               ()         True   \n",
       "SVGP/q_mu                             True        (200, 15)         True   \n",
       "SVGP/q_sqrt                           True   (15, 200, 200)         True   \n",
       "\n",
       "                                                                             value  \n",
       "SVGP/feature/Z                   [[[[-1.36666351 -0.09387724  0.05260296], [ 0....  \n",
       "SVGP/kern/lengthscales           [5.826849902048951, 4.966218487190286, 4.97390...  \n",
       "SVGP/kern/sigma                                                 17.563948650680643  \n",
       "SVGP/kern/variances              [0.005267731259876558, 0.038240026377996665, 0...  \n",
       "SVGP/likelihood/invlink/epsilon                              0.0009999999999999996  \n",
       "SVGP/q_mu                        [[-0.19498280339215954, 0.3107899346033142, 0....  \n",
       "SVGP/q_sqrt                      [[[0.9616282232164973, 0.0, 0.0, 0.0, 0.0, 0.0...  "
      ]
     },
     "execution_count": 29,
     "metadata": {},
     "output_type": "execute_result"
    }
   ],
   "source": [
    "m.as_pandas_table()"
   ]
  },
  {
   "cell_type": "code",
   "execution_count": 30,
   "metadata": {},
   "outputs": [
    {
     "name": "stdout",
     "output_type": "stream",
     "text": [
      "The variances of each level:\n"
     ]
    },
    {
     "data": {
      "text/plain": [
       "<BarContainer object of 5 artists>"
      ]
     },
     "execution_count": 30,
     "metadata": {},
     "output_type": "execute_result"
    },
    {
     "data": {
      "image/png": "[encoded data removed]",
      "text/plain": [
       "<Figure size 432x288 with 1 Axes>"
      ]
     },
     "metadata": {},
     "output_type": "display_data"
    }
   ],
   "source": [
    "print('The variances of each level:')\n",
    "plt.bar(range(num_levels+1), m.kern.sigma.value * m.kern.variances.value)"
   ]
  },
  {
   "cell_type": "code",
   "execution_count": 31,
   "metadata": {},
   "outputs": [
    {
     "name": "stdout",
     "output_type": "stream",
     "text": [
      "The lengthsacles of each coordinate:\n"
     ]
    },
    {
     "data": {
      "text/plain": [
       "<BarContainer object of 3 artists>"
      ]
     },
     "execution_count": 31,
     "metadata": {},
     "output_type": "execute_result"
    },
    {
     "data": {
      "image/png": "[encoded data removed]",
      "text/plain": [
       "<Figure size 432x288 with 1 Axes>"
      ]
     },
     "metadata": {},
     "output_type": "display_data"
    }
   ],
   "source": [
    "print('The lengthsacles of each coordinate:')\n",
    "plt.bar(range(num_features), m.kern.lengthscales.value)"
   ]
  },
  {
   "cell_type": "markdown",
   "metadata": {},
   "source": [
    "### Inspect training curve"
   ]
  },
  {
   "cell_type": "code",
   "execution_count": 32,
   "metadata": {},
   "outputs": [],
   "source": [
    "time = [y['time'] for x, y in hist.items() if str(x).isnumeric()]\n",
    "elbo = [y['elbo'] for x, y in hist.items() if str(x).isnumeric()]\n",
    "val_acc = [y['val'][0] for x, y in hist.items() if str(x).isnumeric() and 'val' in y]\n",
    "val_nlpp = [y['val'][1] for x, y in hist.items() if str(x).isnumeric() and 'val' in y]"
   ]
  },
  {
   "cell_type": "code",
   "execution_count": 33,
   "metadata": {},
   "outputs": [
    {
     "data": {
      "text/plain": [
       "Text(0.5, 1.0, 'Validation nlpp. over time')"
      ]
     },
     "execution_count": 33,
     "metadata": {},
     "output_type": "execute_result"
    },
    {
     "data": {
      "image/png": "[encoded data removed]",
      "text/plain": [
       "<Figure size 1440x360 with 3 Axes>"
      ]
     },
     "metadata": {},
     "output_type": "display_data"
    }
   ],
   "source": [
    "fig, axes = plt.subplots(1, 3, figsize=(20, 5))\n",
    "\n",
    "axes[0].plot(time, elbo)\n",
    "axes[0].set_title('ELBO over time')\n",
    "axes[1].plot(time[:len(val_nlpp)], val_acc, 'tab:orange')\n",
    "axes[1].set_title('Validation acc. over time')\n",
    "axes[2].plot(time[:len(val_nlpp)], val_nlpp, 'tab:red')\n",
    "axes[2].set_title('Validation nlpp. over time')"
   ]
  }
 ],
 "metadata": {
  "kernelspec": {
   "display_name": "GPU-Havok",
   "language": "python",
   "name": "python3"
  },
  "language_info": {
   "codemirror_mode": {
    "name": "ipython",
    "version": 3
   },
   "file_extension": ".py",
   "mimetype": "text/x-python",
   "name": "python",
   "nbconvert_exporter": "python",
   "pygments_lexer": "ipython3",
   "version": "3.6.9"
  }
 },
 "nbformat": 4,
 "nbformat_minor": 4
}
